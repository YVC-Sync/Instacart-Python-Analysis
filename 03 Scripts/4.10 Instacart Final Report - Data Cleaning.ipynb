{
 "cells": [
  {
   "cell_type": "markdown",
   "id": "eca5d85a-5aaa-43d6-9000-8730e0bc4a5c",
   "metadata": {},
   "source": [
    "## Introduction\n",
    "This notebook is part of the final project for the Instacart Basket Analysis. It covers everything from data cleaning to customer profiling, with the goal of answering key business questions for Instacart stakeholders. The focus is on breaking down customer behavior to help Instacart make smarter marketing and business decisions."
   ]
  },
  {
   "cell_type": "markdown",
   "id": "d575b306-524d-4b30-b295-6abdab7cec11",
   "metadata": {},
   "source": [
    "## Table of Contents\n",
    "1. [Data Import](#data-import)\n",
    "2. [Data Security Check](#data-security-check)\n",
    "3. [Regional Segmentation](#regional-segmentation)\n",
    "4. [Spending Habits by Region](#spending-habits-by-region)\n",
    "   - 4.1 [Confirm Regional Diversity](#confirm-regional-diversity)\n",
    "5. [Low-Activity Customer Exclusion](#low-activity-customer-exclusion)\n",
    "6. [Customer Profiling](#customer-profiling)\n",
    "7. [Visualizations](#visualizations)\n",
    "8. [Aggregation & Analysis](#aggregation-analysis)\n",
    "9. [Export Final Dataset](#export-final-dataset)\n"
   ]
  },
  {
   "cell_type": "code",
   "execution_count": null,
   "id": "8e9b6105-7d87-4996-9832-0112c206a636",
   "metadata": {},
   "outputs": [],
   "source": []
  },
  {
   "cell_type": "markdown",
   "id": "eabaf6c6-4458-4114-a0d8-5e91c3bc51a5",
   "metadata": {},
   "source": [
    "# ------------------------------------\n",
    "## 💾 1. Data Import\n",
    "# ------------------------------------"
   ]
  },
  {
   "cell_type": "code",
   "execution_count": 1,
   "id": "19f7dda0-16ed-4efe-bc00-5b2f117d1de3",
   "metadata": {},
   "outputs": [
    {
     "name": "stdout",
     "output_type": "stream",
     "text": [
      "Dataset Shape: (32434212, 8)\n",
      "\n",
      "First Few Rows:\n",
      "   order_id  product_id  add_to_cart_order  reordered           product_name  \\\n",
      "0         2       33120                  1          1     Organic Egg Whites   \n",
      "1         2       28985                  2          1  Michigan Organic Kale   \n",
      "2         2        9327                  3          0          Garlic Powder   \n",
      "3         2       45918                  4          1         Coconut Butter   \n",
      "4         2       30035                  5          0      Natural Sweetener   \n",
      "\n",
      "   aisle_id  department_id  prices  \n",
      "0        86             16    11.3  \n",
      "1        83              4    13.4  \n",
      "2       104             13     3.6  \n",
      "3        19             13     8.4  \n",
      "4        17             13    13.7  \n",
      "\n",
      "Dataset Info:\n",
      "<class 'pandas.core.frame.DataFrame'>\n",
      "RangeIndex: 32434212 entries, 0 to 32434211\n",
      "Data columns (total 8 columns):\n",
      " #   Column             Dtype  \n",
      "---  ------             -----  \n",
      " 0   order_id           int64  \n",
      " 1   product_id         int64  \n",
      " 2   add_to_cart_order  int64  \n",
      " 3   reordered          int64  \n",
      " 4   product_name       object \n",
      " 5   aisle_id           int64  \n",
      " 6   department_id      int64  \n",
      " 7   prices             float64\n",
      "dtypes: float64(1), int64(6), object(1)\n",
      "memory usage: 1.9+ GB\n",
      "None\n"
     ]
    }
   ],
   "source": [
    "# Import necessary libraries\n",
    "import pandas as pd\n",
    "import numpy as np\n",
    "import os\n",
    "import matplotlib.pyplot as plt\n",
    "import seaborn as sns\n",
    "\n",
    "# Load the merged dataset\n",
    "merged_df = pd.read_csv(r'D:\\YVC\\Data Analytics (CF)\\Python Fundamentals for Data Analysts\\Instacart Basket Analysis\\02 Data\\Prepared Data\\merged_orders_products.csv')\n",
    "\n",
    "# Consistency checks\n",
    "print('Dataset Shape:', merged_df.shape)  # Check the number of rows and columns\n",
    "print('\\nFirst Few Rows:')\n",
    "print(merged_df.head())                  # Preview the first few rows\n",
    "print('\\nDataset Info:')\n",
    "print(merged_df.info())                  # Check data types and missing values"
   ]
  },
  {
   "cell_type": "code",
   "execution_count": null,
   "id": "dff188d3-994d-439e-855c-c353df913412",
   "metadata": {},
   "outputs": [],
   "source": []
  },
  {
   "cell_type": "markdown",
   "id": "d0e5524f-1938-4e38-8c35-071498e804d8",
   "metadata": {},
   "source": [
    "# ------------------------------------\n",
    "## 🔒 2. Data Security Check (PII Removal)\n",
    "# ------------------------------------\n",
    "\n",
    "Before diving into the analysis, it's important to check for any personally identifiable information (PII) in the dataset. This includes details like customer IDs, names, addresses, or anything that could link data back to an individual. Since we're working with customer and order data, it's worth confirming that nothing sensitive slipped through during the merge.\n",
    "\n",
    "Here’s what I did to check for PII:"
   ]
  },
  {
   "cell_type": "code",
   "execution_count": 21,
   "id": "dcf9e214-c155-4553-b1f5-822d7fe3edd5",
   "metadata": {},
   "outputs": [
    {
     "name": "stdout",
     "output_type": "stream",
     "text": [
      "Column Names:\n",
      "Index(['order_id', 'product_id', 'add_to_cart_order', 'reordered',\n",
      "       'product_name', 'aisle_id', 'department_id', 'prices'],\n",
      "      dtype='object')\n",
      "\n",
      "First 10 unique product names:\n",
      "['Organic Egg Whites' 'Michigan Organic Kale' 'Garlic Powder'\n",
      " 'Coconut Butter' 'Natural Sweetener' 'Carrots'\n",
      " 'Original Unflavored Gelatine Mix'\n",
      " 'All Natural No Stir Creamy Almond Butter' 'Classic Blend Cole Slaw'\n",
      " 'Total 2% with Strawberry Lowfat Greek Strained Yogurt']\n",
      "\n",
      "No customer IDs found.\n"
     ]
    }
   ],
   "source": [
    "# Check column names to identify any potential PII\n",
    "print(\"Column Names:\")\n",
    "print(merged_df.columns)\n",
    "\n",
    "# Check unique entries in key columns\n",
    "print(\"\\nFirst 10 unique product names:\")\n",
    "print(merged_df['product_name'].unique()[:10])\n",
    "\n",
    "# Check if customer ID or other personal info exists\n",
    "if 'customer_id' in merged_df.columns:\n",
    "    print('\\nCustomer IDs found!')\n",
    "else:\n",
    "    print('\\nNo customer IDs found.')"
   ]
  },
  {
   "cell_type": "markdown",
   "id": "ecb640e5-7304-49b8-a853-772cbb24c124",
   "metadata": {},
   "source": [
    "If any sensitive information had shown up, I would have removed it like this:\n",
    "\n",
    "- **Example of dropping sensitive columns if needed:**\n",
    "\\\n",
    "merged_df = merged_df.drop(columns=['customer_id', 'address'], errors='ignore')\n",
    "\n",
    "#### **💡Results:**\n",
    "After running the data security check, I confirmed that the dataset doesn’t contain any customer IDs, addresses, or other personally identifiable information (PII). The columns mostly focus on order and product details, so the dataset looks clean and safe for analysis. No further action was needed."
   ]
  },
  {
   "cell_type": "code",
   "execution_count": null,
   "id": "c7a8c6df-4435-48a2-a63b-d8b6eb8ce285",
   "metadata": {},
   "outputs": [],
   "source": []
  },
  {
   "cell_type": "markdown",
   "id": "28cd1150-0a01-401b-8767-5459f6052311",
   "metadata": {},
   "source": [
    "# ------------------------------------\n",
    "## 🌎 3. Regional Segmentation\n",
    "# ------------------------------------\n",
    "\n",
    "To understand customer behavior across different parts of the U.S., I created a new **Region** column based on the state information in the customer dataset. This will make it easier to compare spending habits and other behaviors by region.\n",
    "\n",
    "Here’s how I tackled it:"
   ]
  },
  {
   "cell_type": "markdown",
   "id": "4d4089ce-ba78-4730-b77f-c28389810db5",
   "metadata": {},
   "source": [
    "### 1️⃣ Importing the Customer Dataset\n",
    "First, I imported the customer dataset, which includes the state column:"
   ]
  },
  {
   "cell_type": "code",
   "execution_count": 54,
   "id": "2172c58a-d37c-456b-bd93-80fff4decb99",
   "metadata": {},
   "outputs": [
    {
     "name": "stdout",
     "output_type": "stream",
     "text": [
      "   order_id user_id eval_set  order_number  orders_day_of_week  \\\n",
      "0   2539329       1    prior             1                   2   \n",
      "1   2398795       1    prior             2                   3   \n",
      "2    473747       1    prior             3                   3   \n",
      "3   2254736       1    prior             4                   4   \n",
      "4    431534       1    prior             5                   4   \n",
      "\n",
      "   order_hour_of_day  days_since_prior_order  Surnam  Gender    STATE  Age  \\\n",
      "0                  8                     NaN  Nguyen  Female  Alabama   31   \n",
      "1                  7                    15.0  Nguyen  Female  Alabama   31   \n",
      "2                 12                    21.0  Nguyen  Female  Alabama   31   \n",
      "3                  7                    29.0  Nguyen  Female  Alabama   31   \n",
      "4                 15                    28.0  Nguyen  Female  Alabama   31   \n",
      "\n",
      "  date_joined  n_dependants fam_status  income  \n",
      "0  2019-02-17             3    married   40423  \n",
      "1  2019-02-17             3    married   40423  \n",
      "2  2019-02-17             3    married   40423  \n",
      "3  2019-02-17             3    married   40423  \n",
      "4  2019-02-17             3    married   40423  \n"
     ]
    }
   ],
   "source": [
    "# Import customer dataset\n",
    "customers_df = pd.read_pickle(r'D:\\YVC\\Data Analytics (CF)\\Python Fundamentals for Data Analysts\\Instacart Basket Analysis\\02 Data\\Prepared Data\\merged_orders_customers.pkl')\n",
    "\n",
    "# Quick check to see the structure of the dataset\n",
    "print(customers_df.head())"
   ]
  },
  {
   "cell_type": "markdown",
   "id": "61110901-3a71-46da-88e2-37657418f574",
   "metadata": {},
   "source": [
    "### 2️⃣ Merging Datasets\n",
    "\n",
    "Next, I merged the customer dataset with the existing `merged_df` using the common key `user_id`. This ensures each order is linked to the correct customer information, including their state."
   ]
  },
  {
   "cell_type": "code",
   "execution_count": 62,
   "id": "0d8af858-60e2-421f-832a-c94e034787c6",
   "metadata": {},
   "outputs": [
    {
     "name": "stdout",
     "output_type": "stream",
     "text": [
      "   order_id user_id  STATE\n",
      "0         2  202279  Idaho\n",
      "1         2  202279  Idaho\n",
      "2         2  202279  Idaho\n",
      "3         2  202279  Idaho\n",
      "4         2  202279  Idaho\n"
     ]
    }
   ],
   "source": [
    "# Merge datasets using 'order_id' as the common key\n",
    "merged_df = pd.merge(merged_df, customers_df[['order_id', 'user_id', 'STATE']], on='order_id', how='left')\n",
    "\n",
    "# Quick check to see if the merge worked\n",
    "print(merged_df[['order_id', 'user_id', 'STATE']].head())"
   ]
  },
  {
   "cell_type": "markdown",
   "id": "5b9a2a02-d2a1-49fe-821a-554321bc3768",
   "metadata": {},
   "source": [
    "### 3️⃣ Creating the Region Column\n",
    "\n",
    "Using the U.S. Census Bureau’s regional breakdown, I assigned each state to one of four regions: **Northeast, Midwest, South,** or **West.**"
   ]
  },
  {
   "cell_type": "code",
   "execution_count": 66,
   "id": "66d87c15-efcc-45be-baa4-96feb765732d",
   "metadata": {},
   "outputs": [
    {
     "name": "stdout",
     "output_type": "stream",
     "text": [
      "   STATE region\n",
      "0  Idaho   West\n",
      "1  Idaho   West\n",
      "2  Idaho   West\n",
      "3  Idaho   West\n",
      "4  Idaho   West\n"
     ]
    }
   ],
   "source": [
    "# Define regions based on state\n",
    "def assign_region(state):\n",
    "    northeast = ['Maine', 'New Hampshire', 'Vermont', 'Massachusetts', 'Rhode Island', 'Connecticut', 'New York', 'New Jersey', 'Pennsylvania']\n",
    "    midwest = ['Ohio', 'Michigan', 'Indiana', 'Wisconsin', 'Illinois', 'North Dakota', 'South Dakota', 'Nebraska', 'Kansas', 'Minnesota', 'Iowa', 'Missouri']\n",
    "    south = ['Delaware', 'Maryland', 'Virginia', 'West Virginia', 'North Carolina', 'South Carolina', 'Georgia', 'Florida', 'Kentucky', 'Tennessee', 'Mississippi', 'Alabama', 'Oklahoma', 'Texas', 'Arkansas', 'Louisiana']\n",
    "    west = ['Montana', 'Idaho', 'Wyoming', 'Colorado', 'New Mexico', 'Arizona', 'Utah', 'Nevada', 'Washington', 'Oregon', 'California', 'Alaska', 'Hawaii']\n",
    "\n",
    "    if state in northeast:\n",
    "        return 'Northeast'\n",
    "    elif state in midwest:\n",
    "        return 'Midwest'\n",
    "    elif state in south:\n",
    "        return 'South'\n",
    "    elif state in west:\n",
    "        return 'West'\n",
    "    else:\n",
    "        return 'Other'\n",
    "\n",
    "# Apply the function to create the 'region' column\n",
    "merged_df['region'] = merged_df['STATE'].apply(assign_region)\n",
    "\n",
    "# Quick check to see if the regions were assigned correctly\n",
    "print(merged_df[['STATE', 'region']].head())"
   ]
  },
  {
   "cell_type": "markdown",
   "id": "5a5dbc3a-10cf-49f7-9f40-bc0fdcec34db",
   "metadata": {},
   "source": [
    "### 4️⃣ Consistency Check\n",
    "\n",
    "To confirm the regions were assigned properly, I checked the distribution of customers across the regions:"
   ]
  },
  {
   "cell_type": "code",
   "execution_count": 68,
   "id": "86847143-99dc-44f4-8b94-4b41c3622490",
   "metadata": {},
   "outputs": [
    {
     "name": "stdout",
     "output_type": "stream",
     "text": [
      "region\n",
      "South        10187317\n",
      "West          8300445\n",
      "Midwest       7603810\n",
      "Northeast     5728347\n",
      "Other          614293\n",
      "Name: count, dtype: int64\n"
     ]
    }
   ],
   "source": [
    "# Check region distribution\n",
    "print(merged_df['region'].value_counts())"
   ]
  },
  {
   "cell_type": "markdown",
   "id": "5780c395-4ece-430e-8381-c751520af352",
   "metadata": {},
   "source": [
    "### ✅ Confirm Regional Diversity:"
   ]
  },
  {
   "cell_type": "markdown",
   "id": "8e9791ca-1b89-440d-bbbd-3c5262e46e67",
   "metadata": {},
   "source": [
    "**Why is Only Idaho Showing Up?**\n",
    "I noticed that only Idaho was showing up when I checked the first few rows of the dataset. But when I looked at the region distribution, I could see counts for all regions. This made me realize the issue isn’t with the data itself—it’s just that `head()` only shows the first five rows, and those happened to all be from Idaho.\n",
    "\n",
    "To double-check that customers from other regions were assigned correctly, I ran a couple of quick checks:\n",
    "\n",
    "**1. Random Sample of 10 Rows:** This gave me a more balanced view of the dataset."
   ]
  },
  {
   "cell_type": "code",
   "execution_count": 72,
   "id": "801069a2-f22f-4d28-93d6-17b0d77e9a79",
   "metadata": {},
   "outputs": [
    {
     "name": "stdout",
     "output_type": "stream",
     "text": [
      "                   STATE     region\n",
      "32431656            Iowa    Midwest\n",
      "22791571        New York  Northeast\n",
      "6527126             Ohio    Midwest\n",
      "5673588    West Virginia      South\n",
      "11207083        Michigan    Midwest\n",
      "5891241           Nevada       West\n",
      "1001408            Maine  Northeast\n",
      "29464220     Connecticut  Northeast\n",
      "15738485     Connecticut  Northeast\n",
      "12794733  North Carolina      South\n"
     ]
    }
   ],
   "source": [
    "# Random sample of 10 rows to check region diversity\n",
    "print(merged_df[['STATE', 'region']].sample(10))"
   ]
  },
  {
   "cell_type": "markdown",
   "id": "de4310dd-7b72-4fef-af53-ef731f9f8dbd",
   "metadata": {},
   "source": [
    "**2. Region and State Summary:** This grouped the data by region and state to show how many customers were in each."
   ]
  },
  {
   "cell_type": "code",
   "execution_count": 83,
   "id": "3eb5d07c-edf2-4d12-b43d-e5471c043e80",
   "metadata": {},
   "outputs": [
    {
     "name": "stdout",
     "output_type": "stream",
     "text": [
      "       region                 STATE   count\n",
      "0     Midwest              Illinois  633490\n",
      "1     Midwest               Indiana  627768\n",
      "2     Midwest                  Iowa  626029\n",
      "3     Midwest                Kansas  637991\n",
      "4     Midwest              Michigan  631622\n",
      "5     Midwest             Minnesota  648408\n",
      "6     Midwest              Missouri  641313\n",
      "7     Midwest              Nebraska  626297\n",
      "8     Midwest          North Dakota  638999\n",
      "9     Midwest                  Ohio  629001\n",
      "10    Midwest          South Dakota  634340\n",
      "11    Midwest             Wisconsin  628552\n",
      "12  Northeast           Connecticut  623582\n",
      "13  Northeast                 Maine  639149\n",
      "14  Northeast         Massachusetts  647000\n",
      "15  Northeast         New Hampshire  616006\n",
      "16  Northeast            New Jersey  628292\n",
      "17  Northeast              New York  636697\n",
      "18  Northeast          Pennsylvania  667710\n",
      "19  Northeast          Rhode Island  657655\n",
      "20  Northeast               Vermont  612256\n",
      "21      Other  District of Columbia  614293\n",
      "22      South               Alabama  638617\n",
      "23      South              Arkansas  636706\n",
      "24      South              Delaware  637447\n",
      "25      South               Florida  629582\n",
      "26      South               Georgia  657072\n",
      "27      South              Kentucky  632905\n",
      "28      South             Louisiana  638174\n",
      "29      South              Maryland  627278\n",
      "30      South           Mississippi  633103\n",
      "31      South        North Carolina  652338\n",
      "32      South              Oklahoma  652263\n",
      "33      South        South Carolina  637348\n",
      "34      South             Tennessee  618396\n",
      "35      South                 Texas  641058\n",
      "36      South              Virginia  642075\n",
      "37      South         West Virginia  612955\n",
      "38       West                Alaska  649020\n",
      "39       West               Arizona  654545\n",
      "40       West            California  660447\n",
      "41       West              Colorado  639752\n",
      "42       West                Hawaii  633445\n",
      "43       West                 Idaho  607811\n",
      "44       West               Montana  635835\n",
      "45       West                Nevada  636697\n",
      "46       West            New Mexico  655143\n",
      "47       West                Oregon  636949\n",
      "48       West                  Utah  612451\n",
      "49       West            Washington  633421\n",
      "50       West               Wyoming  644929\n"
     ]
    }
   ],
   "source": [
    "# Group by region and state\n",
    "region_summary = merged_df.groupby(['region', 'STATE']).size().reset_index(name='count')\n",
    "print(region_summary)"
   ]
  },
  {
   "cell_type": "markdown",
   "id": "206b8be6-f6a5-493f-a141-fbc3033a7595",
   "metadata": {},
   "source": [
    "#### **💡Results:**\n",
    "Both checks confirmed that customers were correctly assigned to their regions. The Idaho issue was just because of how the dataset is ordered. Everything looks good to move forward!"
   ]
  },
  {
   "cell_type": "code",
   "execution_count": null,
   "id": "f950a562-b980-48f4-a591-22e9c588523e",
   "metadata": {},
   "outputs": [],
   "source": []
  },
  {
   "cell_type": "markdown",
   "id": "3c539a19-ef58-477f-9810-eacb56432b0f",
   "metadata": {},
   "source": [
    "# ------------------------------------\n",
    "## 💰 4. Spending Habits by Region\n",
    "# ------------------------------------\n",
    "\n",
    "Now that each customer has a region assigned, I wanted to see if people in different parts of the country spend differently. To figure this out, I looked at the average, minimum, and maximum spending for each region."
   ]
  },
  {
   "cell_type": "markdown",
   "id": "047539eb-8280-4945-bc99-e47a48146b6e",
   "metadata": {},
   "source": [
    "### 1️⃣ Grouping and Aggregation\n",
    "First, I grouped the data by region and calculated some key spending stats:"
   ]
  },
  {
   "cell_type": "code",
   "execution_count": 94,
   "id": "6608fa1c-7288-4d1b-8a1c-86322d476f27",
   "metadata": {},
   "outputs": [
    {
     "name": "stdout",
     "output_type": "stream",
     "text": [
      "      Region  Average_Spending  Min_Spending  Max_Spending\n",
      "0    Midwest         12.715745           1.0       99999.0\n",
      "1  Northeast         11.556398           1.0       99999.0\n",
      "2      Other         11.381259           1.0       99999.0\n",
      "3      South         12.245415           1.0       99999.0\n",
      "4       West         11.321374           1.0       99999.0\n"
     ]
    }
   ],
   "source": [
    "# Group by region and calculate spending stats\n",
    "region_spending = merged_df.groupby('region').agg({\n",
    "    'prices': ['mean', 'min', 'max']\n",
    "}).reset_index()\n",
    "\n",
    "# Rename columns for clarity\n",
    "region_spending.columns = ['Region', 'Average_Spending', 'Min_Spending', 'Max_Spending']\n",
    "\n",
    "# Check the results\n",
    "print(region_spending)"
   ]
  },
  {
   "cell_type": "markdown",
   "id": "a7bf49b8-2d8e-499f-b610-25b15f2b157a",
   "metadata": {},
   "source": [
    "### 2️⃣ Visualization\n",
    "To make the differences easier to spot, I created a quick bar chart showing the average spending by region:"
   ]
  },
  {
   "cell_type": "code",
   "execution_count": 120,
   "id": "83de8f23-ec26-47b0-90c0-0e03d15b5df5",
   "metadata": {},
   "outputs": [
    {
     "data": {
      "image/png": "[encoded data removed]",
      "text/plain": [
       "<Figure size 1200x800 with 1 Axes>"
      ]
     },
     "metadata": {},
     "output_type": "display_data"
    }
   ],
   "source": [
    "import matplotlib.pyplot as plt\n",
    "import matplotlib.patches as mpatches\n",
    "\n",
    "# Define colors based on spending levels (Instacart-themed)\n",
    "def get_color(spending):\n",
    "    if spending >= 12.5:\n",
    "        return '#15803d'  # High spending (Instacart green)\n",
    "    elif 11.5 <= spending < 12.5:\n",
    "        return '#facc15'  # Moderate spending (Instacart yellow)\n",
    "    else:\n",
    "        return '#dc2626'  # Low spending (Instacart red)\n",
    "\n",
    "# Apply colors based on average spending\n",
    "colors = region_spending['Average_Spending'].apply(get_color)\n",
    "\n",
    "# Create the bar plot\n",
    "plt.figure(figsize=(12, 8))\n",
    "bars = plt.bar(region_spending['Region'], region_spending['Average_Spending'], color=colors)\n",
    "\n",
    "# Add title and labels\n",
    "plt.title('Average Spending by Region', fontsize=16, fontweight='bold', color='#15803d')\n",
    "plt.xlabel('Region', fontsize=12)\n",
    "plt.ylabel('Average Spending ($)', fontsize=12)\n",
    "plt.xticks(rotation=45)\n",
    "\n",
    "# Add gridlines for readability\n",
    "plt.grid(axis='y', linestyle='--', linewidth=0.5, alpha=0.7)\n",
    "\n",
    "# Manually create legend patches\n",
    "high_patch = mpatches.Patch(color='#15803d', label='High Spending')\n",
    "moderate_patch = mpatches.Patch(color='#facc15', label='Moderate Spending')\n",
    "low_patch = mpatches.Patch(color='#dc2626', label='Low Spending')\n",
    "\n",
    "# Add the legend with custom patches\n",
    "plt.legend(handles=[high_patch, moderate_patch, low_patch], loc='upper right')\n",
    "\n",
    "# Add value labels on top of each bar\n",
    "for bar in bars:\n",
    "    height = bar.get_height()\n",
    "    plt.text(bar.get_x() + bar.get_width() / 2, height, f'${height:.2f}', ha='center', va='bottom')\n",
    "\n",
    "# Display plot\n",
    "plt.tight_layout()\n",
    "plt.show()"
   ]
  },
  {
   "cell_type": "markdown",
   "id": "23083f9a-3644-4343-91b4-1856802d3e48",
   "metadata": {},
   "source": [
    "#### **💡Results:**\n",
    "The analysis showed some clear differences in spending across regions. Customers in the **Midwest** and **South** had the highest average spending, while the **West** and **Northeast** spent slightly less. The **\"Other\"** category had the lowest average, likely because it includes states not clearly defined in the regional breakdown.\n",
    "\n",
    "The bar chart made it easy to spot these patterns, which could help Instacart target promotions more effectively based on where customers are spending the most."
   ]
  },
  {
   "cell_type": "code",
   "execution_count": null,
   "id": "86efa889-0dc2-4a43-83bf-ce457daabd40",
   "metadata": {},
   "outputs": [],
   "source": []
  },
  {
   "cell_type": "markdown",
   "id": "3e834209-ee2f-4033-9ddb-de7cd24e0fb1",
   "metadata": {},
   "source": [
    "# ------------------------------------\n",
    "## 🚫 5. Low-Activity Customer Exclusion\n",
    "# ------------------------------------\n",
    "\n",
    "To make the analysis more useful for Instacart, I needed to filter out customers who placed **fewer than 5 orders.** These low-activity users don’t provide enough data to draw meaningful insights, so it made sense to exclude them."
   ]
  },
  {
   "cell_type": "code",
   "execution_count": 12,
   "id": "848c82f2-a454-415a-b862-717b17fa38de",
   "metadata": {},
   "outputs": [
    {
     "data": {
      "text/html": [
       "<div>\n",
       "<style scoped>\n",
       "    .dataframe tbody tr th:only-of-type {\n",
       "        vertical-align: middle;\n",
       "    }\n",
       "\n",
       "    .dataframe tbody tr th {\n",
       "        vertical-align: top;\n",
       "    }\n",
       "\n",
       "    .dataframe thead th {\n",
       "        text-align: right;\n",
       "    }\n",
       "</style>\n",
       "<table border=\"1\" class=\"dataframe\">\n",
       "  <thead>\n",
       "    <tr style=\"text-align: right;\">\n",
       "      <th></th>\n",
       "      <th>order_id</th>\n",
       "      <th>user_id</th>\n",
       "      <th>eval_set</th>\n",
       "      <th>order_number</th>\n",
       "      <th>orders_day_of_week</th>\n",
       "      <th>order_hour_of_day</th>\n",
       "      <th>days_since_prior_order</th>\n",
       "      <th>Surnam</th>\n",
       "      <th>Gender</th>\n",
       "      <th>STATE</th>\n",
       "      <th>Age</th>\n",
       "      <th>date_joined</th>\n",
       "      <th>n_dependants</th>\n",
       "      <th>fam_status</th>\n",
       "      <th>income</th>\n",
       "    </tr>\n",
       "  </thead>\n",
       "  <tbody>\n",
       "    <tr>\n",
       "      <th>0</th>\n",
       "      <td>2539329</td>\n",
       "      <td>1</td>\n",
       "      <td>prior</td>\n",
       "      <td>1</td>\n",
       "      <td>2</td>\n",
       "      <td>8</td>\n",
       "      <td>NaN</td>\n",
       "      <td>Nguyen</td>\n",
       "      <td>Female</td>\n",
       "      <td>Alabama</td>\n",
       "      <td>31</td>\n",
       "      <td>2019-02-17</td>\n",
       "      <td>3</td>\n",
       "      <td>married</td>\n",
       "      <td>40423</td>\n",
       "    </tr>\n",
       "    <tr>\n",
       "      <th>1</th>\n",
       "      <td>2398795</td>\n",
       "      <td>1</td>\n",
       "      <td>prior</td>\n",
       "      <td>2</td>\n",
       "      <td>3</td>\n",
       "      <td>7</td>\n",
       "      <td>15.0</td>\n",
       "      <td>Nguyen</td>\n",
       "      <td>Female</td>\n",
       "      <td>Alabama</td>\n",
       "      <td>31</td>\n",
       "      <td>2019-02-17</td>\n",
       "      <td>3</td>\n",
       "      <td>married</td>\n",
       "      <td>40423</td>\n",
       "    </tr>\n",
       "    <tr>\n",
       "      <th>2</th>\n",
       "      <td>473747</td>\n",
       "      <td>1</td>\n",
       "      <td>prior</td>\n",
       "      <td>3</td>\n",
       "      <td>3</td>\n",
       "      <td>12</td>\n",
       "      <td>21.0</td>\n",
       "      <td>Nguyen</td>\n",
       "      <td>Female</td>\n",
       "      <td>Alabama</td>\n",
       "      <td>31</td>\n",
       "      <td>2019-02-17</td>\n",
       "      <td>3</td>\n",
       "      <td>married</td>\n",
       "      <td>40423</td>\n",
       "    </tr>\n",
       "    <tr>\n",
       "      <th>3</th>\n",
       "      <td>2254736</td>\n",
       "      <td>1</td>\n",
       "      <td>prior</td>\n",
       "      <td>4</td>\n",
       "      <td>4</td>\n",
       "      <td>7</td>\n",
       "      <td>29.0</td>\n",
       "      <td>Nguyen</td>\n",
       "      <td>Female</td>\n",
       "      <td>Alabama</td>\n",
       "      <td>31</td>\n",
       "      <td>2019-02-17</td>\n",
       "      <td>3</td>\n",
       "      <td>married</td>\n",
       "      <td>40423</td>\n",
       "    </tr>\n",
       "    <tr>\n",
       "      <th>4</th>\n",
       "      <td>431534</td>\n",
       "      <td>1</td>\n",
       "      <td>prior</td>\n",
       "      <td>5</td>\n",
       "      <td>4</td>\n",
       "      <td>15</td>\n",
       "      <td>28.0</td>\n",
       "      <td>Nguyen</td>\n",
       "      <td>Female</td>\n",
       "      <td>Alabama</td>\n",
       "      <td>31</td>\n",
       "      <td>2019-02-17</td>\n",
       "      <td>3</td>\n",
       "      <td>married</td>\n",
       "      <td>40423</td>\n",
       "    </tr>\n",
       "  </tbody>\n",
       "</table>\n",
       "</div>"
      ],
      "text/plain": [
       "   order_id user_id eval_set  order_number  orders_day_of_week  \\\n",
       "0   2539329       1    prior             1                   2   \n",
       "1   2398795       1    prior             2                   3   \n",
       "2    473747       1    prior             3                   3   \n",
       "3   2254736       1    prior             4                   4   \n",
       "4    431534       1    prior             5                   4   \n",
       "\n",
       "   order_hour_of_day  days_since_prior_order  Surnam  Gender    STATE  Age  \\\n",
       "0                  8                     NaN  Nguyen  Female  Alabama   31   \n",
       "1                  7                    15.0  Nguyen  Female  Alabama   31   \n",
       "2                 12                    21.0  Nguyen  Female  Alabama   31   \n",
       "3                  7                    29.0  Nguyen  Female  Alabama   31   \n",
       "4                 15                    28.0  Nguyen  Female  Alabama   31   \n",
       "\n",
       "  date_joined  n_dependants fam_status  income  \n",
       "0  2019-02-17             3    married   40423  \n",
       "1  2019-02-17             3    married   40423  \n",
       "2  2019-02-17             3    married   40423  \n",
       "3  2019-02-17             3    married   40423  \n",
       "4  2019-02-17             3    married   40423  "
      ]
     },
     "execution_count": 12,
     "metadata": {},
     "output_type": "execute_result"
    }
   ],
   "source": [
    "import pandas as pd\n",
    "import numpy as np\n",
    "import os\n",
    "\n",
    "# Define file path\n",
    "file_path = r\"D:\\YVC\\Data Analytics (CF)\\Python Fundamentals for Data Analysts\\Instacart Basket Analysis\\02 Data\\Prepared Data\\merged_orders_customers.pkl\"\n",
    "\n",
    "# Load dataset\n",
    "df = pd.read_pickle(file_path)\n",
    "\n",
    "# Check the first few rows\n",
    "df.head()"
   ]
  },
  {
   "cell_type": "markdown",
   "id": "c1f93ddb-748c-4b5d-8feb-ca19e66496da",
   "metadata": {},
   "source": [
    "### 1️⃣ Creating the Exclusion Flag\n",
    "First, I created a flag to label customers based on their order count:"
   ]
  },
  {
   "cell_type": "code",
   "execution_count": 218,
   "id": "c9cadf98-3825-4579-8dba-5aa916765185",
   "metadata": {},
   "outputs": [
    {
     "data": {
      "text/plain": [
       "low_activity_flag\n",
       "Active          2596247\n",
       "Low Activity     824836\n",
       "Name: count, dtype: int64"
      ]
     },
     "execution_count": 218,
     "metadata": {},
     "output_type": "execute_result"
    }
   ],
   "source": [
    "# Create an exclusion flag for customers with less than 5 orders\n",
    "df['low_activity_flag'] = df['order_number'].apply(lambda x: 'Low Activity' if x < 5 else 'Active')\n",
    "\n",
    "# Check the counts for each category\n",
    "df['low_activity_flag'].value_counts()"
   ]
  },
  {
   "cell_type": "markdown",
   "id": "98a5bfd9-ea00-4137-9f54-52c68f445aa4",
   "metadata": {},
   "source": [
    "### 2️⃣ Filtering the Dataset\n",
    "Once the flag was in place, I filtered out the low-activity customers:"
   ]
  },
  {
   "cell_type": "code",
   "execution_count": 20,
   "id": "1eea8c78-c71e-49f9-b9df-c632db464a5f",
   "metadata": {},
   "outputs": [
    {
     "name": "stdout",
     "output_type": "stream",
     "text": [
      "Shape of active customers dataset: (2596247, 16)\n"
     ]
    }
   ],
   "source": [
    "# Filter active customers only\n",
    "df_active = df[df['low_activity_flag'] == 'Active']\n",
    "\n",
    "# Confirm the shape of the filtered dataset\n",
    "print(\"Shape of active customers dataset:\", df_active.shape)"
   ]
  },
  {
   "cell_type": "markdown",
   "id": "6d9dad82-bcd7-4369-afe2-054ba8dc861d",
   "metadata": {},
   "source": [
    "**Output:**\n",
    "\\\n",
    "Shape of active customers dataset: (2,596,247 rows, 16 columns)"
   ]
  },
  {
   "cell_type": "markdown",
   "id": "a7094f77-82ba-42f9-8469-b22f7bd692d0",
   "metadata": {},
   "source": [
    "### 3️⃣ Checking Dataset Structure\n",
    "To make sure everything was in order, I checked the column names:"
   ]
  },
  {
   "cell_type": "code",
   "execution_count": 42,
   "id": "e26433f2-8c08-4065-90ae-a8fc2869b2e4",
   "metadata": {},
   "outputs": [
    {
     "name": "stdout",
     "output_type": "stream",
     "text": [
      "Index(['order_id', 'user_id', 'eval_set', 'order_number', 'orders_day_of_week',\n",
      "       'order_hour_of_day', 'days_since_prior_order', 'Surnam', 'Gender',\n",
      "       'STATE', 'Age', 'date_joined', 'n_dependants', 'fam_status', 'income',\n",
      "       'low_activity_flag'],\n",
      "      dtype='object')\n"
     ]
    }
   ],
   "source": [
    "# Check all column names\n",
    "print(df_active.columns)"
   ]
  },
  {
   "cell_type": "markdown",
   "id": "099d0ac9-e9f1-4ee7-87a9-21a7a518defc",
   "metadata": {},
   "source": [
    "#### **💡Results:**\n",
    "The final dataset now only includes **active customers** with 5 or more orders. This cleaned version gives a clearer picture of Instacart's core users, making future insights more actionable."
   ]
  },
  {
   "cell_type": "markdown",
   "id": "aa218c0a-2161-46fb-a170-f84681f5c313",
   "metadata": {},
   "source": [
    "### 4️⃣ Exporting the Filtered Dataset\n",
    "Finally, I exported the cleaned dataset for future analysis:"
   ]
  },
  {
   "cell_type": "code",
   "execution_count": 49,
   "id": "0c4595dd-e6b0-4134-b374-caa5df671bd3",
   "metadata": {},
   "outputs": [],
   "source": [
    "# Export the filtered dataset\n",
    "df_active.to_csv('filtered_orders.csv', index=False)"
   ]
  },
  {
   "cell_type": "code",
   "execution_count": null,
   "id": "c4d84fd3-f224-48cb-9d67-e454ab1c0dcb",
   "metadata": {},
   "outputs": [],
   "source": []
  },
  {
   "cell_type": "markdown",
   "id": "150541e3-d2ac-4d10-81ee-8be93dcabfea",
   "metadata": {},
   "source": [
    "# ------------------------------------\n",
    "## 🧑‍🤝‍🧑 6. Customer Profiling\n",
    "# ------------------------------------\n",
    "\n",
    "To help Instacart better understand their customers, I created profiles based on key characteristics like age, income, family status, and shopping behavior. This kind of segmentation can make it easier to tailor marketing strategies and improve the overall customer experience."
   ]
  },
  {
   "cell_type": "markdown",
   "id": "182623d3-b484-4667-b3bb-a0c90b22c308",
   "metadata": {},
   "source": [
    "### 1️⃣ Define Customer Profiles\n",
    "I focused on four main categories to build these profiles:\n",
    "1. Age Groups: Young Adults, Middle-Aged, Seniors\n",
    "2. Income Brackets: Low, Medium, High\n",
    "3. Family Status: Single, Couples, Families\n",
    "4. Shopping Behavior: Order frequency and product preferences"
   ]
  },
  {
   "cell_type": "markdown",
   "id": "137f6882-dad7-43a7-8b0a-9fe9413caeb1",
   "metadata": {},
   "source": [
    "### Filtering the Dataset\n",
    "I started by creating Age Groups:\n",
    "- 18-29: Young Adult\n",
    "- 30-49: Middle-Aged\n",
    "- 50+: Senior\n",
    "\n",
    "\n",
    "Here’s the code I used to add an age_group column:"
   ]
  },
  {
   "cell_type": "code",
   "execution_count": 68,
   "id": "a5ed4417-903a-46bc-80bd-130650b05e29",
   "metadata": {},
   "outputs": [
    {
     "name": "stdout",
     "output_type": "stream",
     "text": [
      "age_group\n",
      "Senior         1295665\n",
      "Middle-Aged     815564\n",
      "Young Adult     485018\n",
      "Name: count, dtype: int64\n"
     ]
    }
   ],
   "source": [
    "# Create Age Group categories using .loc to avoid the warning\n",
    "df_active.loc[:, 'age_group'] = df_active['Age'].apply(assign_age_group)\n",
    "\n",
    "# Check the distribution\n",
    "print(df_active['age_group'].value_counts())"
   ]
  },
  {
   "cell_type": "markdown",
   "id": "64f579bd-c71e-4670-82cb-c7ed5e7de0e7",
   "metadata": {},
   "source": [
    "#### **💡Results:**\n",
    "- The **Senior** group makes up the largest segment, indicating that a significant portion of Instacart's active users are aged 50 and above.\n",
    "- **Middle-Aged** users form the second largest group, followed by Young Adults, who represent the smallest segment."
   ]
  },
  {
   "cell_type": "markdown",
   "id": "8cf81b7a-9716-4cd8-b600-2421a76981ac",
   "metadata": {},
   "source": [
    "### 💰 Income Brackets\n",
    "To get a better sense of customer spending power, I categorized users into three income brackets: Low, Middle, and High income. This helps Instacart understand how financial factors might influence shopping behavior."
   ]
  },
  {
   "cell_type": "markdown",
   "id": "53e78bfb-4aaf-4b10-adbc-b36b65827ab8",
   "metadata": {},
   "source": [
    "#### 1️⃣ Creating Income Brackets\n",
    "I used the following breakdown:\n",
    "- Low Income: Less than 💲40,000\n",
    "- Middle Income:💲40,000 to💲80,000\n",
    "- High Income: More than💲80,000\n",
    "\n",
    "Here's the code I used to create the `income_bracket` column:"
   ]
  },
  {
   "cell_type": "code",
   "execution_count": 134,
   "id": "2ab67a55-1d10-4c25-a199-edf0a69bb1a6",
   "metadata": {},
   "outputs": [
    {
     "name": "stdout",
     "output_type": "stream",
     "text": [
      "income_bracket\n",
      "High Income      1607764\n",
      "Middle Income     812762\n",
      "Low Income        175721\n",
      "Name: count, dtype: int64\n"
     ]
    }
   ],
   "source": [
    "# Create Income Bracket categories\n",
    "def assign_income_bracket(income):\n",
    "    if income < 40000:\n",
    "        return 'Low Income'\n",
    "    elif 40000 <= income <= 80000:\n",
    "        return 'Middle Income'\n",
    "    else:\n",
    "        return 'High Income'\n",
    "\n",
    "# Apply the function\n",
    "df_active.loc[:, 'income_bracket'] = df_active['income'].apply(assign_income_bracket)\n",
    "\n",
    "# Check the distribution\n",
    "print(df_active['income_bracket'].value_counts())\n",
    "\n",
    "# Create a copy of the active customers dataset\n",
    "df_active = df[df['low_activity_flag'] == 'Active'].copy()\n",
    "\n",
    "# Create income brackets without warnings\n",
    "df_active['income_bracket'] = df_active['income'].apply(assign_income_bracket)"
   ]
  },
  {
   "cell_type": "markdown",
   "id": "de3a8589-0780-4397-8d61-1bc106199231",
   "metadata": {},
   "source": [
    "#### **💡Results:**\n",
    "- The majority of active customers fall into the **High Income** bracket, making up over 60% of the dataset.\n",
    "- **Middle Income** customers follow, while **Low Income** shoppers form the smallest group.\n",
    "- This breakdown can help Instacart tailor promotions and product recommendations based on income levels."
   ]
  },
  {
   "cell_type": "markdown",
   "id": "6e7eef77-0143-461c-b9b7-a5d4f307406c",
   "metadata": {},
   "source": [
    "### 🏡 Family Status Profiling\n",
    "To get a better understanding of how household composition might affect shopping behavior, I created a **Family Status** column. This helps break down customers based on the number of dependents they have, which can reveal interesting patterns in their purchasing habits.\n",
    "\n",
    "I categorized customers into three groups:\n",
    "- **Single:** No dependents\n",
    "- **Couples:** 1-2 dependents\n",
    "- **Families:** 3 or more dependents\n",
    "\n",
    "Here's the code I used to make it happen:"
   ]
  },
  {
   "cell_type": "code",
   "execution_count": 140,
   "id": "4d758a56-7852-4db5-9040-f419e349e7e2",
   "metadata": {},
   "outputs": [
    {
     "name": "stdout",
     "output_type": "stream",
     "text": [
      "family_status\n",
      "Couples     1293051\n",
      "Families     652730\n",
      "Single       650466\n",
      "Name: count, dtype: int64\n"
     ]
    }
   ],
   "source": [
    "# Define function to assign family status\n",
    "def assign_family_status(n_dependants):\n",
    "    if n_dependants == 0:\n",
    "        return 'Single'\n",
    "    elif n_dependants <= 2:\n",
    "        return 'Couples'\n",
    "    else:\n",
    "        return 'Families'\n",
    "\n",
    "# Apply the function to create the 'family_status' column\n",
    "df_active.loc[:, 'family_status'] = df_active['n_dependants'].apply(assign_family_status)\n",
    "\n",
    "# Check the distribution of family status\n",
    "print(df_active['family_status'].value_counts())"
   ]
  },
  {
   "cell_type": "markdown",
   "id": "9d520ecc-4a3b-4819-9746-83e1a8fd74cf",
   "metadata": {},
   "source": [
    "#### **💡Results:**\n",
    "This breakdown helps identify how different household types engage with Instacart. For example, couples make up the largest group, suggesting marketing strategies could focus on products and promotions tailored to smaller households."
   ]
  },
  {
   "cell_type": "markdown",
   "id": "5af96c15-f7dc-40b8-b5d9-97678a659dd2",
   "metadata": {},
   "source": [
    "### 🛍️ Shopping Habits"
   ]
  },
  {
   "cell_type": "markdown",
   "id": "09235892-2443-4817-880f-da0a7754801d",
   "metadata": {},
   "source": [
    "#### 📦 Creating Order Frequency Categories\n",
    "To get a clearer picture of customer shopping habits, I categorized users based on how often they place orders. This helps identify power users versus occasional shoppers. I grouped them into three categories:\n",
    "\n",
    "- **Frequent Shoppers:** 20+ orders\n",
    "- **Moderate Shoppers:** 10–19 orders\n",
    "- **Occasional Shoppers:** Less than 10 orders\n",
    "\n",
    "Here’s the code I used to make it happen:"
   ]
  },
  {
   "cell_type": "code",
   "execution_count": 165,
   "id": "b7248924-99b0-433f-bf40-36cb00be69c2",
   "metadata": {},
   "outputs": [
    {
     "name": "stdout",
     "output_type": "stream",
     "text": [
      "order_frequency\n",
      "Frequent Shopper      1048717\n",
      "Moderate Shopper       802670\n",
      "Occasional Shopper     744860\n",
      "Name: count, dtype: int64\n"
     ]
    }
   ],
   "source": [
    "# Define function to categorize order frequency\n",
    "def assign_order_frequency(order_count):\n",
    "    if order_count >= 20:\n",
    "        return 'Frequent Shopper'\n",
    "    elif order_count >= 10:\n",
    "        return 'Moderate Shopper'\n",
    "    else:\n",
    "        return 'Occasional Shopper'\n",
    "\n",
    "# Apply the function\n",
    "df_active.loc[:, 'order_frequency'] = df_active['order_number'].apply(assign_order_frequency)\n",
    "\n",
    "# Check the distribution of categories\n",
    "print(df_active['order_frequency'].value_counts())"
   ]
  },
  {
   "cell_type": "markdown",
   "id": "33fab8b1-80a8-4c4e-8c01-d43afb9dd126",
   "metadata": {},
   "source": [
    "#### **💡Results:**\n",
    "After running the code, I found the following breakdown of customers based on how often they shop:\n",
    "\n",
    "- **Frequent Shoppers (20+ orders):** 1,048,717 customers\n",
    "- **Moderate Shoppers (10–19 orders):** 802,670 customers\n",
    "- **Occasional Shoppers (< 10 orders):** 744,860 customers\n",
    "\n",
    "It’s clear that a significant portion of Instacart users are frequent shoppers, making them a key audience for promotions and personalized recommendations. The moderate and occasional shoppers are still sizable groups but might need different engagement strategies to encourage more regular purchases."
   ]
  },
  {
   "cell_type": "markdown",
   "id": "c87386d9-4432-47b5-a0b8-cfa47688c265",
   "metadata": {},
   "source": [
    "#### 🛒 Product Preferences\n",
    "\n",
    "To get a better idea of what customers are buying, I analyzed product preferences by department. This helps identify which categories are the most popular. I grouped the data by `department_id` and counted how many products were purchased in each category. Then, I sorted the results to see which departments stood out.\n",
    "\n",
    "**How I Did It:**\n",
    "\\\n",
    "**1. Merging Datasets:** I merged `df_active` with the original `merged_df` to bring in the `department_id` column, which wasn't available in the filtered dataset.\n",
    "\\\n",
    "**2. Grouping and Counting:** I grouped the data by `department_id` and counted the number of purchases for each department.\n",
    "\\\n",
    "**3. Sorting:** To find the most popular departments, I sorted the results by purchase count in descending order.\n",
    "\n",
    "Here’s the code I used to make it happen:"
   ]
  },
  {
   "cell_type": "code",
   "execution_count": null,
   "id": "9681816d-c99a-4f15-b5a3-cb1dfecc44cd",
   "metadata": {},
   "outputs": [],
   "source": [
    "# Merge df_active with the original merged_df to get 'department_id'\n",
    "df_active = pd.merge(df_active, merged_df[['order_id', 'department_id']], on='order_id', how='left')\n",
    "\n",
    "# Check if the department_id column is now present\n",
    "print(df_active.columns)"
   ]
  },
  {
   "cell_type": "code",
   "execution_count": 185,
   "id": "244434dc-2df4-49e3-9b06-b0795cefeedc",
   "metadata": {},
   "outputs": [
    {
     "name": "stdout",
     "output_type": "stream",
     "text": [
      "    department_id  purchase_count\n",
      "3             4.0         7227091\n",
      "15           16.0         4132060\n",
      "18           19.0         2187121\n",
      "6             7.0         2036466\n",
      "0             1.0         1628844\n",
      "12           13.0         1385520\n",
      "2             3.0          886698\n",
      "14           15.0          787790\n",
      "19           20.0          783011\n",
      "8             9.0          633725\n"
     ]
    }
   ],
   "source": [
    "# Group by department and count purchases\n",
    "department_prefs = df_active.groupby('department_id').size().reset_index(name='purchase_count')\n",
    "\n",
    "# Sort by purchase count to find the most popular departments\n",
    "department_prefs = department_prefs.sort_values(by='purchase_count', ascending=False)\n",
    "\n",
    "# Check the top 10 departments\n",
    "print(department_prefs.head(10))"
   ]
  },
  {
   "cell_type": "markdown",
   "id": "228e9608-0cd4-4168-9e79-1e2bc2aa24dd",
   "metadata": {},
   "source": [
    "#### **💡Results:**\n",
    "After running the analysis, here’s what I found:\n",
    "\n",
    "**1. Produce** had the highest number of purchases, showing that fresh fruits and vegetables are a staple for Instacart customers.\n",
    "\\\n",
    "**2. Dairy & Eggs** came in second, which makes sense for households regularly stocking up on essentials.\n",
    "\\\n",
    "**3. Snacks** ranked third, highlighting how customers often add treats to their carts.\n",
    "These insights can help Instacart optimize promotions and product placement based on what users are already buying the most."
   ]
  },
  {
   "cell_type": "markdown",
   "id": "bb950245-2997-4738-a22a-7a5867743d80",
   "metadata": {},
   "source": [
    "### 🧍‍♀️ **1. Customer Segmentation Insights**\n",
    "To better understand Instacart's customers, I grouped them by age, income, family status, and order frequency. Here’s what stood out:\n",
    "\n",
    "- **Age Groups:**\n",
    "  - **Seniors (50+):** Made up the largest group, with over 1.2 million active customers.  \n",
    "  - **Middle-Aged (30-49):** Around 815K customers fell into this category.  \n",
    "  - **Young Adults (18-29):** Represented roughly 485K customers.  \n",
    "  - *Takeaway:* Seniors are the dominant user group, making them a prime audience for tailored promotions and product recommendations.\n",
    "\n",
    "- **Income Brackets:**  \n",
    "    - **High Income (80K):** The majority, with 1.6 million customers.\n",
    "    - **Middle Income (40K-80K):** Roughly 812K customers.\n",
    "    - **Low Income (40K):** Around 176K customers.\n",
    "  - *Takeaway:* High-income users drive most purchases, but middle-income shoppers still represent a significant portion of the user base.\n",
    "\n",
    "- **Family Status:**  \n",
    "  - **Couples (1-2 dependents):** The largest group, with 1.3 million users.  \n",
    "  - **Single (no dependents):** 650K users.  \n",
    "  - **Families (3+ dependents):** 657K users.  \n",
    "  - *Takeaway:* Couples are the core shoppers, but families and singles are still substantial audiences.\n",
    "\n",
    "- **Order Frequency:**  \n",
    "  - **Frequent Shoppers (20+ orders):** Over 1 million customers.  \n",
    "  - **Moderate Shoppers (10-19 orders):** About 803K customers.  \n",
    "  - **Occasional Shoppers (<10 orders):** Roughly 744K customers.  \n",
    "  - *Takeaway:* Frequent shoppers are the backbone of Instacart's user base, making them ideal for loyalty programs and exclusive deals.\n",
    "\n",
    "---\n",
    "\n",
    "### 💲 **2. Regional Spending Insights**\n",
    "I segmented customers by region to see how spending habits vary:\n",
    "\n",
    "- **South:** The highest average spending at 12.25 per order.  \n",
    "- **Midwest:** Close behind, with 12.15 per order.  \n",
    "- **Northeast and West:** Both regions averaged around 11.50 per order.  \n",
    "- *Takeaway:* Southern and Midwestern customers spend the most per order, making these regions strong targets for premium product promotions.\n",
    "\n",
    "---\n",
    "\n",
    "### 🛒 **3. Product Preferences**\n",
    "I analyzed product purchases by department, and a few clear favorites emerged:\n",
    "\n",
    "1. **Produce:** The top category, showing fresh fruits and vegetables are a staple for Instacart shoppers.  \n",
    "2. **Dairy & Eggs:** Close behind, which aligns with households regularly stocking up on essentials.  \n",
    "3. **Snacks:** Ranked third, suggesting that customers frequently add treats to their carts.  \n",
    "4. *Takeaway:* Instacart can optimize promotions by highlighting popular categories and bundling complementary products.\n",
    "\n",
    "---\n",
    "\n",
    "### 🚫 **4. Low-Activity Customer Exclusion**\n",
    "To ensure cleaner insights, I excluded customers with fewer than 5 orders. This left:\n",
    "\n",
    "- **Active Customers:** 2.6 million.  \n",
    "- **Low-Activity Customers:** 825K removed.  \n",
    "- *Takeaway:* Excluding low-activity users allowed for more accurate profiling and trend identification.\n",
    "\n",
    "---\n",
    "\n",
    "### 📈 **5. Recommendations**\n",
    "Based on the analysis, I’d suggest the following strategies:\n",
    "\n",
    "1. **Target Frequent Shoppers:** Since they drive most sales, offering exclusive promotions, personalized recommendations, and loyalty rewards could increase retention.  \n",
    "2. **Regional Promotions:** Focus premium product advertising on the South and Midwest, where spending is highest.  \n",
    "3. **Family-Oriented Offers:** Create tailored deals for couples and families, as they represent the majority of active users.  \n",
    "4. **Popular Product Bundles:** Promote bundles featuring produce, dairy, and snacks to increase cart size.  \n",
    "5. **Engage Occasional Shoppers:** Consider incentives for occasional shoppers to encourage more frequent purchases.\n"
   ]
  },
  {
   "cell_type": "code",
   "execution_count": null,
   "id": "c39ac838-6365-4c54-b356-a2169d7796c6",
   "metadata": {},
   "outputs": [],
   "source": []
  },
  {
   "cell_type": "markdown",
   "id": "42f03c89-a575-485a-a67e-94fd3bfb2052",
   "metadata": {},
   "source": [
    "### 🔑 **Key Takeaways**  \n",
    "\n",
    "1. **Regional Segmentation:** Spending habits differ a bit across regions. Customers in the Midwest and South tend to spend more on average compared to other areas.  \n",
    "\n",
    "2. **Spending Habits:** Frequent shoppers make up the largest group, but there’s still a significant portion of occasional shoppers who might need different engagement strategies.  \n",
    "\n",
    "3. **Customer Profiles:** Seniors are the biggest age group among active customers, followed by middle-aged and young adults. Most shoppers fall into the high-income bracket.  \n",
    "\n",
    "4. **Product Preferences:** Produce topped the list for purchases, with Dairy & Eggs and Snacks close behind. These categories are clearly staples for Instacart customers.  "
   ]
  },
  {
   "cell_type": "markdown",
   "id": "cd1016d4-beca-418e-b958-2b722f0ad119",
   "metadata": {},
   "source": [
    "### 📈 Business Recommendations\n",
    "Based on the insights from this analysis, here are a few recommendations for Instacart to better serve their customers and drive business growth:\n",
    "\n",
    "1. **Personalized Promotions by Region:**\n",
    "Since spending habits vary by region, Instacart could offer region-specific promotions. For example, customers in the South, who tend to spend more on average, might respond well to bulk-buy discounts, while customers in the West might appreciate deals on staple items.\n",
    "\n",
    "2. **Tailored Marketing for Customer Profiles:**\n",
    "- **Young Adults:** Highlight convenience-focused products like ready-to-eat meals and snacks.\n",
    "- **Families:** Promote bulk purchases and family-friendly items.\n",
    "- **Seniors:** Focus on health-conscious products and essentials.\n",
    "These targeted campaigns can lead to higher engagement and conversion rates.\n",
    "\n",
    "3. **Loyalty Programs for Frequent Shoppers:**\n",
    "Frequent shoppers make up a significant portion of Instacart’s customer base. Offering exclusive rewards, free delivery, or bonus points for frequent purchases could encourage even more activity and retention.\n",
    "\n",
    "4. **Product Placement Optimization:**\n",
    "With produce, dairy, and snacks being the top categories, Instacart could highlight these products on the homepage or suggest them during checkout. This not only meets customer needs but also increases basket size.\n",
    "\n",
    "5. **Addressing Low-Income Shoppers:**\n",
    "Since a notable group falls into the low-income bracket, offering budget-friendly bundles, coupons, or free delivery thresholds could make shopping more accessible and foster customer loyalty."
   ]
  },
  {
   "cell_type": "markdown",
   "id": "70cc31a8-df25-4b98-a347-58e825d14d59",
   "metadata": {},
   "source": [
    "### 🚀 Next Steps\n",
    "While this analysis provided some solid insights, there’s still room to dig deeper and refine the findings. Here’s what I’d suggest as the next steps for further analysis and potential improvements:\n",
    "\n",
    "1. **Deeper Customer Profiling:**\n",
    "Expand the current profiles by including additional behavioral patterns, like how often customers purchase specific product categories or their average basket size. This could help tailor recommendations even further.\n",
    "\n",
    "2. **Cohort Analysis:**\n",
    "Track customer behavior over time based on when they joined Instacart. This would highlight retention trends, shopping habits by tenure, and how spending patterns evolve.\n",
    "\n",
    "3. **Product Affinity Analysis:**\n",
    "Identify which products are frequently bought together. This could lead to more effective product bundling and upselling opportunities.\n",
    "\n",
    "4. **Predictive Modeling:**\n",
    "Using historical data, Instacart could build predictive models to forecast future buying behavior, helping with inventory planning and targeted marketing.\n",
    "\n",
    "5. **Explore Customer Churn:**\n",
    "It might also be worth identifying customers who’ve stopped shopping and analyzing what factors led to churn. Insights from this could inform retention strategies.\n",
    "\n",
    "6. **Refine Regional Strategies:**\n",
    "Since spending habits differ across regions, diving deeper into product preferences by region could lead to more effective, location-specific promotions.\n",
    "\n",
    "💡 These steps would not only build on the current findings but also provide more actionable insights for Instacart's marketing, product placement, and customer retention strategies."
   ]
  },
  {
   "cell_type": "code",
   "execution_count": null,
   "id": "e4c7ff0d-5a59-441a-ad09-6a0c4c02ec43",
   "metadata": {},
   "outputs": [],
   "source": []
  },
  {
   "cell_type": "markdown",
   "id": "8f6473da-89f2-4c33-b478-eb81ceac3305",
   "metadata": {},
   "source": [
    "## 📦 Finalizing the Dataset and Exporting It\n",
    "Now that the analysis is done, it's time to wrap things up by cleaning the dataset and exporting it as a CSV file. This will make it easy to reference and share."
   ]
  },
  {
   "cell_type": "markdown",
   "id": "22074f95-3c9a-4af2-97d4-e3a935527d1d",
   "metadata": {},
   "source": [
    "### 📝 1️⃣ Reviewing the Dataset Structure\n",
    "First, I checked the structure of the `df_active` dataset to make sure it included all the key columns, like customer profiles and product details:"
   ]
  },
  {
   "cell_type": "code",
   "execution_count": 242,
   "id": "8d21b03a-15f0-4871-b53f-c8ac4ed4354a",
   "metadata": {},
   "outputs": [
    {
     "name": "stdout",
     "output_type": "stream",
     "text": [
      "   order_id user_id eval_set  order_number  orders_day_of_week  \\\n",
      "0    431534       1    prior             5                   4   \n",
      "1    431534       1    prior             5                   4   \n",
      "2    431534       1    prior             5                   4   \n",
      "3    431534       1    prior             5                   4   \n",
      "4    431534       1    prior             5                   4   \n",
      "\n",
      "   order_hour_of_day  days_since_prior_order  Surnam  Gender    STATE  Age  \\\n",
      "0                 15                    28.0  Nguyen  Female  Alabama   31   \n",
      "1                 15                    28.0  Nguyen  Female  Alabama   31   \n",
      "2                 15                    28.0  Nguyen  Female  Alabama   31   \n",
      "3                 15                    28.0  Nguyen  Female  Alabama   31   \n",
      "4                 15                    28.0  Nguyen  Female  Alabama   31   \n",
      "\n",
      "  date_joined  n_dependants fam_status  income low_activity_flag  \\\n",
      "0  2019-02-17             3    married   40423            Active   \n",
      "1  2019-02-17             3    married   40423            Active   \n",
      "2  2019-02-17             3    married   40423            Active   \n",
      "3  2019-02-17             3    married   40423            Active   \n",
      "4  2019-02-17             3    married   40423            Active   \n",
      "\n",
      "  income_bracket family_status     order_frequency  department_id  \n",
      "0  Middle Income      Families  Occasional Shopper            7.0  \n",
      "1  Middle Income      Families  Occasional Shopper           19.0  \n",
      "2  Middle Income      Families  Occasional Shopper           19.0  \n",
      "3  Middle Income      Families  Occasional Shopper           16.0  \n",
      "4  Middle Income      Families  Occasional Shopper            4.0  \n",
      "(24619020, 20)\n"
     ]
    }
   ],
   "source": [
    "# Check the final dataset structure\n",
    "print(df_active.head())\n",
    "print(df_active.shape)"
   ]
  },
  {
   "cell_type": "markdown",
   "id": "fb2f9f58-0a33-412a-a947-40025bcf1c5d",
   "metadata": {},
   "source": [
    "💡 This quick check confirmed that everything was in place and ready for the final cleanup."
   ]
  },
  {
   "cell_type": "markdown",
   "id": "e5be9341-b24c-4435-a84e-b55a9f849f1e",
   "metadata": {},
   "source": [
    "### ✂️ 2️⃣ Removing Unnecessary Columns\n",
    "Next, I dropped any columns that weren’t needed for the final report. Here’s the code I used:"
   ]
  },
  {
   "cell_type": "code",
   "execution_count": 248,
   "id": "f43df41e-eab2-4dff-adea-c83a439461c5",
   "metadata": {},
   "outputs": [
    {
     "name": "stdout",
     "output_type": "stream",
     "text": [
      "(24619020, 17)\n"
     ]
    }
   ],
   "source": [
    "# Drop unnecessary columns\n",
    "columns_to_drop = ['eval_set', 'Surnam', 'low_activity_flag']\n",
    "df_final = df_active.drop(columns=columns_to_drop, errors='ignore')\n",
    "\n",
    "# Confirm the shape after dropping columns\n",
    "print(df_final.shape)"
   ]
  },
  {
   "cell_type": "markdown",
   "id": "f6b4184c-064e-4033-b532-e21691066bcd",
   "metadata": {},
   "source": [
    "💡 This made the dataset cleaner and easier to work with."
   ]
  },
  {
   "cell_type": "markdown",
   "id": "80bea67f-7b74-463e-bd4f-0bc307e3e280",
   "metadata": {},
   "source": [
    "### 📤 3️⃣ Exporting the Final Dataset\n",
    "Once everything looked good, I exported the cleaned dataset as a CSV file:"
   ]
  },
  {
   "cell_type": "code",
   "execution_count": 253,
   "id": "72dbde62-1c12-49ef-b8c4-e68f1d84891c",
   "metadata": {},
   "outputs": [
    {
     "name": "stdout",
     "output_type": "stream",
     "text": [
      "File saved: True\n"
     ]
    }
   ],
   "source": [
    "# Export the final dataset to a CSV file\n",
    "df_final.to_csv('final_instacart_dataset.csv', index=False)\n",
    "\n",
    "# Confirm the file was saved\n",
    "import os\n",
    "print(\"File saved:\", os.path.exists('final_instacart_dataset.csv'))"
   ]
  },
  {
   "cell_type": "markdown",
   "id": "70c1872d-ddd8-45ce-867d-7ce1ba431294",
   "metadata": {},
   "source": [
    "💡 This created a ready-to-use dataset for future analysis and reporting."
   ]
  },
  {
   "cell_type": "markdown",
   "id": "4d3d9ee6-b705-41b7-8d1e-cc9adae2e834",
   "metadata": {},
   "source": [
    "**✅ Final Thoughts:**\n",
    "\\\n",
    "With the dataset cleaned up and exported, the project is officially wrapped up. Everything is organized and ready for Instacart to use for more targeted marketing, product optimization, and customer engagement strategies."
   ]
  }
 ],
 "metadata": {
  "kernelspec": {
   "display_name": "Python [conda env:base] *",
   "language": "python",
   "name": "conda-base-py"
  },
  "language_info": {
   "codemirror_mode": {
    "name": "ipython",
    "version": 3
   },
   "file_extension": ".py",
   "mimetype": "text/x-python",
   "name": "python",
   "nbconvert_exporter": "python",
   "pygments_lexer": "ipython3",
   "version": "3.12.8"
  }
 },
 "nbformat": 4,
 "nbformat_minor": 5
}
