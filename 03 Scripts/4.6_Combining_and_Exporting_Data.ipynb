{
 "cells": [
  {
   "cell_type": "markdown",
   "id": "04cd1954-93ef-4244-837d-b205cf1b7398",
   "metadata": {},
   "source": [
    "# 4.6: Combining and Exporting Data"
   ]
  },
  {
   "cell_type": "markdown",
   "id": "93756c43-695a-4657-9d8c-9c500850896c",
   "metadata": {},
   "source": [
    "## Table of Contents\n",
    "1. [Introduction](#1-Introduction)\n",
    "2. [Import Libraries](#2-Import-Libraries)\n",
    "3. [Load and Explore Data](#3-Load-and-Explore-Data)\n",
    "   3.1 [Load `orders.csv`](#31-Load-orderscsv)\n",
    "   3.2 [Load `products.csv`](#32-Load-productscsv)\n",
    "4. [Combine Data](#4-Combine-Data)\n",
    "   4.1 [Load `orders_products_prior.csv`](#41-Load-orders_products_priorcsv)\n",
    "   4.2 [Merge Orders and Products](#42-Merge-Orders-and-Products)\n",
    "5. [Export Data](#5-Export-Data)"
   ]
  },
  {
   "cell_type": "markdown",
   "id": "95a03801-9705-44b7-ac8f-7b9891796c71",
   "metadata": {},
   "source": [
    "## 1. Introduction\n",
    "This notebook focuses on combining and exporting data for the Instacart dataset. We will:\n",
    "- Load and explore multiple datasets.\n",
    "- Combine dataframes using concatenation and merging.\n",
    "- Export the combined data into CSV or Pickle formats."
   ]
  },
  {
   "cell_type": "code",
   "execution_count": null,
   "id": "6fccfb13-e4f1-465d-b103-83a2e186121f",
   "metadata": {},
   "outputs": [],
   "source": []
  },
  {
   "cell_type": "markdown",
   "id": "086ddf99-5ed9-4224-8f57-71c147650f63",
   "metadata": {},
   "source": [
    "## 2. Import Libraries"
   ]
  },
  {
   "cell_type": "code",
   "execution_count": 47,
   "id": "0a8c2f59-3a8f-4784-83be-490bd645d925",
   "metadata": {},
   "outputs": [],
   "source": [
    "# Import necessary libraries\n",
    "import pandas as pd  # For working with dataframes\n",
    "import os  # For handling file paths\n",
    "\n",
    "# Define the project folder path\n",
    "path = r\"D:\\YVC\\Data Analytics (CF)\\Python Fundamentals for Data Analysts\\Instacart Basket Analysis\""
   ]
  },
  {
   "cell_type": "code",
   "execution_count": null,
   "id": "9e14d27b-d6e8-492e-b815-e83cd96fbdb6",
   "metadata": {},
   "outputs": [],
   "source": []
  },
  {
   "cell_type": "markdown",
   "id": "b3f1ead1-ddc3-45fa-a73b-600ef58402b2",
   "metadata": {},
   "source": [
    "### 3.1 Load `orders.csv`"
   ]
  },
  {
   "cell_type": "code",
   "execution_count": 59,
   "id": "bf612be2-1b9e-4b16-a1f3-bc2214253384",
   "metadata": {},
   "outputs": [
    {
     "name": "stdout",
     "output_type": "stream",
     "text": [
      "   order_id  user_id eval_set  order_number  order_dow  order_hour_of_day  \\\n",
      "0   2539329        1    prior             1          2                  8   \n",
      "1   2398795        1    prior             2          3                  7   \n",
      "2    473747        1    prior             3          3                 12   \n",
      "3   2254736        1    prior             4          4                  7   \n",
      "4    431534        1    prior             5          4                 15   \n",
      "\n",
      "   days_since_prior_order  \n",
      "0                     NaN  \n",
      "1                    15.0  \n",
      "2                    21.0  \n",
      "3                    29.0  \n",
      "4                    28.0  \n",
      "(3421083, 7)\n",
      "order_id                       0\n",
      "user_id                        0\n",
      "eval_set                       0\n",
      "order_number                   0\n",
      "order_dow                      0\n",
      "order_hour_of_day              0\n",
      "days_since_prior_order    206209\n",
      "dtype: int64\n"
     ]
    }
   ],
   "source": [
    "# Load the orders.csv file\n",
    "df_orders = pd.read_csv(os.path.join(path, '02 Data', 'Original Data', 'orders.csv'))\n",
    "\n",
    "# Display the first few rows and shape of the dataframe\n",
    "print(df_orders.head())  # Preview the first 5 rows\n",
    "print(df_orders.shape)   # Check the number of rows and columns\n",
    "\n",
    "# Check for missing values\n",
    "print(df_orders.isnull().sum())  # Consistency check for nulls"
   ]
  },
  {
   "cell_type": "code",
   "execution_count": null,
   "id": "4179bbc5-52d1-4bf5-bba4-73f1e0ae2353",
   "metadata": {},
   "outputs": [],
   "source": []
  },
  {
   "cell_type": "markdown",
   "id": "231c10bb-0a2e-4057-b530-6c74232ffb42",
   "metadata": {},
   "source": [
    "### 3.2 Load `products.csv`"
   ]
  },
  {
   "cell_type": "code",
   "execution_count": 25,
   "id": "af20b9e5-22a1-4744-baa7-ed37d3850463",
   "metadata": {},
   "outputs": [
    {
     "name": "stdout",
     "output_type": "stream",
     "text": [
      "   product_id                                       product_name  aisle_id  \\\n",
      "0           1                         Chocolate Sandwich Cookies        61   \n",
      "1           2                                   All-Seasons Salt       104   \n",
      "2           3               Robust Golden Unsweetened Oolong Tea        94   \n",
      "3           4  Smart Ones Classic Favorites Mini Rigatoni Wit...        38   \n",
      "4           5                          Green Chile Anytime Sauce         5   \n",
      "\n",
      "   department_id  prices  \n",
      "0             19     5.8  \n",
      "1             13     9.3  \n",
      "2              7     4.5  \n",
      "3              1    10.5  \n",
      "4             13     4.3  \n",
      "(49693, 5)\n",
      "49686\n"
     ]
    }
   ],
   "source": [
    "# Load the products.csv file\n",
    "df_products = pd.read_csv(os.path.join(path, '02 Data', 'Original Data', 'products.csv'))\n",
    "\n",
    "# Display the first few rows and shape of the dataframe\n",
    "print(df_products.head())  # Preview the first 5 rows\n",
    "print(df_products.shape)   # Check the number of rows and columns\n",
    "\n",
    "# Check for unique values in a key column\n",
    "print(df_products['product_id'].nunique())  # Check uniqueness of product_id"
   ]
  },
  {
   "cell_type": "code",
   "execution_count": null,
   "id": "36d50cb0-600d-4814-9a18-e6ca91a2d4c5",
   "metadata": {},
   "outputs": [],
   "source": []
  },
  {
   "cell_type": "markdown",
   "id": "f1c87b6c-dc73-47c7-a87c-cbf3b555096a",
   "metadata": {},
   "source": [
    "### 4.1 Load `orders_products_prior.csv`"
   ]
  },
  {
   "cell_type": "code",
   "execution_count": 38,
   "id": "35451e3b-d34d-439b-b377-6687ec79ea70",
   "metadata": {},
   "outputs": [],
   "source": [
    "df_orders_prior = pd.read_csv(\n",
    "    os.path.join(path, '02 Data', 'Original Data', 'orders_products_prior.csv'),\n",
    "    encoding='utf-8'\n",
    ")"
   ]
  },
  {
   "cell_type": "code",
   "execution_count": 50,
   "id": "a39604b9-25e9-4219-bc6b-68f0302d9e7b",
   "metadata": {},
   "outputs": [
    {
     "name": "stdout",
     "output_type": "stream",
     "text": [
      "   order_id  product_id  add_to_cart_order  reordered\n",
      "0         2       33120                  1          1\n",
      "1         2       28985                  2          1\n",
      "2         2        9327                  3          0\n",
      "3         2       45918                  4          1\n",
      "4         2       30035                  5          0\n",
      "(32434489, 4)\n",
      "order_id             0\n",
      "product_id           0\n",
      "add_to_cart_order    0\n",
      "reordered            0\n",
      "dtype: int64\n"
     ]
    }
   ],
   "source": [
    "# Load the orders_products_prior.csv file with encoding specified\n",
    "df_orders_prior = pd.read_csv(\n",
    "    os.path.join(path, '02 Data', 'Original Data', 'orders_products_prior.csv'),\n",
    "    encoding='utf-8'\n",
    ")\n",
    "\n",
    "# Display the first few rows and shape of the dataframe\n",
    "print(df_orders_prior.head())  # Preview the first 5 rows\n",
    "print(df_orders_prior.shape)   # Check the number of rows and columns\n",
    "\n",
    "# Check for missing values\n",
    "print(df_orders_prior.isnull().sum())  # Consistency check for nulls"
   ]
  },
  {
   "cell_type": "code",
   "execution_count": 42,
   "id": "20d85402-f1c8-41c6-93c1-5accdaafff0f",
   "metadata": {},
   "outputs": [
    {
     "name": "stdout",
     "output_type": "stream",
     "text": [
      "   order_id  product_id  add_to_cart_order  reordered           product_name  \\\n",
      "0         2       33120                  1          1     Organic Egg Whites   \n",
      "1         2       28985                  2          1  Michigan Organic Kale   \n",
      "2         2        9327                  3          0          Garlic Powder   \n",
      "3         2       45918                  4          1         Coconut Butter   \n",
      "4         2       30035                  5          0      Natural Sweetener   \n",
      "\n",
      "   aisle_id  department_id  prices  \n",
      "0        86             16    11.3  \n",
      "1        83              4    13.4  \n",
      "2       104             13     3.6  \n",
      "3        19             13     8.4  \n",
      "4        17             13    13.7  \n",
      "(32434212, 8)\n",
      "order_id                 0\n",
      "product_id               0\n",
      "add_to_cart_order        0\n",
      "reordered                0\n",
      "product_name         28171\n",
      "aisle_id                 0\n",
      "department_id            0\n",
      "prices                   0\n",
      "dtype: int64\n"
     ]
    }
   ],
   "source": [
    "# Merge orders_prior with products data on 'product_id'\n",
    "df_merged = df_orders_prior.merge(df_products, on='product_id', how='inner')\n",
    "\n",
    "# Display the first few rows and shape of the merged dataframe\n",
    "print(df_merged.head())  # Preview the first 5 rows\n",
    "print(df_merged.shape)   # Check the number of rows and columns\n",
    "\n",
    "# Check for missing values in the merged dataframe\n",
    "print(df_merged.isnull().sum())  # Consistency check for nulls"
   ]
  },
  {
   "cell_type": "code",
   "execution_count": null,
   "id": "bee789b3-2cbf-4372-b734-f57269bd1e0c",
   "metadata": {},
   "outputs": [],
   "source": []
  },
  {
   "attachments": {},
   "cell_type": "markdown",
   "id": "9e381157-111c-4a10-a23c-ecbcc42c11b8",
   "metadata": {},
   "source": [
    "### 4.2 Merge Orders and Products"
   ]
  },
  {
   "cell_type": "code",
   "execution_count": 53,
   "id": "d01a40e0-2bcb-4c5b-9a10-8b6fa12d1dd5",
   "metadata": {},
   "outputs": [
    {
     "name": "stdout",
     "output_type": "stream",
     "text": [
      "   order_id  product_id  add_to_cart_order  reordered           product_name  \\\n",
      "0         2       33120                  1          1     Organic Egg Whites   \n",
      "1         2       28985                  2          1  Michigan Organic Kale   \n",
      "2         2        9327                  3          0          Garlic Powder   \n",
      "3         2       45918                  4          1         Coconut Butter   \n",
      "4         2       30035                  5          0      Natural Sweetener   \n",
      "\n",
      "   aisle_id  department_id  prices  \n",
      "0        86             16    11.3  \n",
      "1        83              4    13.4  \n",
      "2       104             13     3.6  \n",
      "3        19             13     8.4  \n",
      "4        17             13    13.7  \n",
      "(32434212, 8)\n",
      "order_id                 0\n",
      "product_id               0\n",
      "add_to_cart_order        0\n",
      "reordered                0\n",
      "product_name         28171\n",
      "aisle_id                 0\n",
      "department_id            0\n",
      "prices                   0\n",
      "dtype: int64\n"
     ]
    }
   ],
   "source": [
    "# Merge orders_prior with products data on 'product_id'\n",
    "df_merged = df_orders_prior.merge(df_products, on='product_id', how='inner')\n",
    "\n",
    "# Display the first few rows and shape of the merged dataframe\n",
    "print(df_merged.head())  # Preview the first 5 rows\n",
    "print(df_merged.shape)   # Check the number of rows and columns\n",
    "\n",
    "# Check for missing values in the merged dataframe\n",
    "print(df_merged.isnull().sum())  # Consistency check for nulls"
   ]
  },
  {
   "cell_type": "code",
   "execution_count": null,
   "id": "99388e12-f462-482d-8f51-295c2b069862",
   "metadata": {},
   "outputs": [],
   "source": []
  },
  {
   "attachments": {},
   "cell_type": "markdown",
   "id": "22b6be1a-9bd2-4d1e-985c-38ea9fac2605",
   "metadata": {},
   "source": [
    "### 5. Export Data"
   ]
  },
  {
   "cell_type": "code",
   "execution_count": 56,
   "id": "fff7117d-d487-431b-b38c-97a30bf7e942",
   "metadata": {},
   "outputs": [
    {
     "name": "stdout",
     "output_type": "stream",
     "text": [
      "File saved to D:\\YVC\\Data Analytics (CF)\\Python Fundamentals for Data Analysts\\Instacart Basket Analysis\\02 Data\\Prepared Data\\merged_orders_products.csv\n"
     ]
    }
   ],
   "source": [
    "# Export the merged dataframe to CSV\n",
    "output_path = os.path.join(path, '02 Data', 'Prepared Data', 'merged_orders_products.csv')\n",
    "df_merged.to_csv(output_path, index=False)\n",
    "\n",
    "# Confirm that the file has been saved\n",
    "print(f\"File saved to {output_path}\")"
   ]
  },
  {
   "cell_type": "code",
   "execution_count": null,
   "id": "c95ff2e1-8943-49b7-b11a-7a6b87c035fa",
   "metadata": {},
   "outputs": [],
   "source": []
  }
 ],
 "metadata": {
  "kernelspec": {
   "display_name": "Python [conda env:base] *",
   "language": "python",
   "name": "conda-base-py"
  },
  "language_info": {
   "codemirror_mode": {
    "name": "ipython",
    "version": 3
   },
   "file_extension": ".py",
   "mimetype": "text/x-python",
   "name": "python",
   "nbconvert_exporter": "python",
   "pygments_lexer": "ipython3",
   "version": "3.12.8"
  }
 },
 "nbformat": 4,
 "nbformat_minor": 5
}
