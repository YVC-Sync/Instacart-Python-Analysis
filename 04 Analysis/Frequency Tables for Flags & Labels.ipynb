{
 "cells": [
  {
   "cell_type": "code",
   "execution_count": 17,
   "id": "0e6b3e8b-d40c-4a70-8ac8-09088dc434ab",
   "metadata": {},
   "outputs": [
    {
     "name": "stdout",
     "output_type": "stream",
     "text": [
      "   order_id  product_id  add_to_cart_order  reordered           product_name  \\\n",
      "0         2       33120                  1          1     Organic Egg Whites   \n",
      "1         2       28985                  2          1  Michigan Organic Kale   \n",
      "2         2        9327                  3          0          Garlic Powder   \n",
      "3         2       45918                  4          1         Coconut Butter   \n",
      "4         2       30035                  5          0      Natural Sweetener   \n",
      "\n",
      "   aisle_id  department_id  prices  \n",
      "0        86             16    11.3  \n",
      "1        83              4    13.4  \n",
      "2       104             13     3.6  \n",
      "3        19             13     8.4  \n",
      "4        17             13    13.7  \n"
     ]
    }
   ],
   "source": [
    "import pandas as pd\n",
    "\n",
    "# Load the dataset using a raw string (r\"\")\n",
    "merged_orders_products = pd.read_csv(r\"D:\\YVC\\Data Analytics (CF)\\Python Fundamentals for Data Analysts\\Instacart Basket Analysis\\02 Data\\Prepared Data\\merged_orders_products.csv\")\n",
    "\n",
    "# Check the first few rows\n",
    "print(merged_orders_products.head())"
   ]
  },
  {
   "cell_type": "markdown",
   "id": "7878bdad-92cd-459c-9bda-8d94cc1b256a",
   "metadata": {},
   "source": [
    "## price_label"
   ]
  },
  {
   "cell_type": "code",
   "execution_count": 19,
   "id": "3e0784df-4943-4646-81e0-362884db15a6",
   "metadata": {},
   "outputs": [
    {
     "name": "stdout",
     "output_type": "stream",
     "text": [
      "   prices        price_label\n",
      "0    11.3  Mid-range product\n",
      "1    13.4  Mid-range product\n",
      "2     3.6  Low-range product\n",
      "3     8.4  Mid-range product\n",
      "4    13.7  Mid-range product\n"
     ]
    }
   ],
   "source": [
    "# Create a new column \"price_label\" based on the price range\n",
    "# - Low-range product: prices <= 5\n",
    "# - Mid-range product: 5 < prices <= 15\n",
    "# - High-range product: prices > 15\n",
    "merged_orders_products['price_label'] = merged_orders_products['prices'].apply(\n",
    "    lambda x: 'Low-range product' if x <= 5 else ('Mid-range product' if x <= 15 else 'High-range product')\n",
    ")\n",
    "\n",
    "# Check the first few rows to ensure the new column is created\n",
    "print(merged_orders_products[['prices', 'price_label']].head())"
   ]
  },
  {
   "cell_type": "code",
   "execution_count": 21,
   "id": "5d650a1d-849c-46d3-b5d8-77b709d6e426",
   "metadata": {},
   "outputs": [
    {
     "name": "stdout",
     "output_type": "stream",
     "text": [
      "Index(['order_id', 'product_id', 'add_to_cart_order', 'reordered',\n",
      "       'product_name', 'aisle_id', 'department_id', 'prices', 'price_label'],\n",
      "      dtype='object')\n",
      "   order_id  product_id  add_to_cart_order  reordered           product_name  \\\n",
      "0         2       33120                  1          1     Organic Egg Whites   \n",
      "1         2       28985                  2          1  Michigan Organic Kale   \n",
      "2         2        9327                  3          0          Garlic Powder   \n",
      "3         2       45918                  4          1         Coconut Butter   \n",
      "4         2       30035                  5          0      Natural Sweetener   \n",
      "\n",
      "   aisle_id  department_id  prices        price_label  \n",
      "0        86             16    11.3  Mid-range product  \n",
      "1        83              4    13.4  Mid-range product  \n",
      "2       104             13     3.6  Low-range product  \n",
      "3        19             13     8.4  Mid-range product  \n",
      "4        17             13    13.7  Mid-range product  \n"
     ]
    }
   ],
   "source": [
    "# Check column names\n",
    "print(merged_orders_products.columns)\n",
    "\n",
    "# Check first few rows to confirm the column exists\n",
    "print(merged_orders_products.head())"
   ]
  },
  {
   "cell_type": "code",
   "execution_count": 33,
   "id": "8560bf9c-dff3-45f6-83ff-f0b5b33c92d9",
   "metadata": {},
   "outputs": [],
   "source": [
    "# Save the dataset with the new column\n",
    "merged_orders_products.to_csv(r\"D:\\YVC\\Data Analytics (CF)\\Python Fundamentals for Data Analysts\\Instacart Basket Analysis\\02 Data\\Prepared Data\\merged_orders_products.csv\", index=False)"
   ]
  },
  {
   "cell_type": "code",
   "execution_count": 35,
   "id": "8ba7c318-577b-4f73-8c94-514c9c5a6a12",
   "metadata": {},
   "outputs": [
    {
     "name": "stdout",
     "output_type": "stream",
     "text": [
      "price_label\n",
      "Mid-range product     21890146\n",
      "Low-range product     10126384\n",
      "High-range product      417682\n",
      "Name: count, dtype: int64\n"
     ]
    }
   ],
   "source": [
    "# Reload the dataset\n",
    "merged_orders_products = pd.read_csv(r\"D:\\YVC\\Data Analytics (CF)\\Python Fundamentals for Data Analysts\\Instacart Basket Analysis\\02 Data\\Prepared Data\\merged_orders_products.csv\")\n",
    "\n",
    "# Frequency table for price_label\n",
    "print(merged_orders_products['price_label'].value_counts())"
   ]
  },
  {
   "cell_type": "code",
   "execution_count": null,
   "id": "f8ddb79e-07f7-44a8-98b2-50ed2b7dc213",
   "metadata": {},
   "outputs": [],
   "source": []
  },
  {
   "cell_type": "markdown",
   "id": "230384b5-6743-4d77-bfbd-d26d797ceec0",
   "metadata": {},
   "source": [
    "## Frequency Table for busiest_day"
   ]
  },
  {
   "cell_type": "code",
   "execution_count": 59,
   "id": "21617082-95f0-49e2-8d2a-4b626522a339",
   "metadata": {},
   "outputs": [
    {
     "name": "stdout",
     "output_type": "stream",
     "text": [
      "Index(['order_id', 'product_id', 'add_to_cart_order', 'reordered',\n",
      "       'product_name', 'aisle_id', 'department_id', 'prices', 'price_label'],\n",
      "      dtype='object')\n"
     ]
    }
   ],
   "source": [
    "print(merged_orders_products.columns)"
   ]
  },
  {
   "cell_type": "code",
   "execution_count": 63,
   "id": "3f9b1f61-0ebc-44b6-947f-8a61db41cd3a",
   "metadata": {},
   "outputs": [
    {
     "name": "stdout",
     "output_type": "stream",
     "text": [
      "Index(['order_id', 'user_id', 'eval_set', 'order_number', 'order_day_of_week',\n",
      "       'order_hour_of_day', 'days_since_prior_order'],\n",
      "      dtype='object')\n"
     ]
    }
   ],
   "source": [
    "# Check the columns in the orders dataset\n",
    "print(orders.columns)"
   ]
  },
  {
   "cell_type": "code",
   "execution_count": 65,
   "id": "d1cad9d6-aa0f-44ce-b7c7-84fac3d930d0",
   "metadata": {},
   "outputs": [
    {
     "name": "stdout",
     "output_type": "stream",
     "text": [
      "   order_id  product_id  add_to_cart_order  reordered           product_name  \\\n",
      "0         2       33120                  1          1     Organic Egg Whites   \n",
      "1         2       28985                  2          1  Michigan Organic Kale   \n",
      "2         2        9327                  3          0          Garlic Powder   \n",
      "3         2       45918                  4          1         Coconut Butter   \n",
      "4         2       30035                  5          0      Natural Sweetener   \n",
      "\n",
      "   aisle_id  department_id  prices        price_label  order_day_of_week  \n",
      "0        86             16    11.3  Mid-range product                  5  \n",
      "1        83              4    13.4  Mid-range product                  5  \n",
      "2       104             13     3.6  Low-range product                  5  \n",
      "3        19             13     8.4  Mid-range product                  5  \n",
      "4        17             13    13.7  Mid-range product                  5  \n"
     ]
    }
   ],
   "source": [
    "# Merge the 'order_day_of_week' column from the orders dataset\n",
    "merged_orders_products = merged_orders_products.merge(\n",
    "    orders[['order_id', 'order_day_of_week']],  # Select the correct column\n",
    "    on='order_id',                              # Merge based on 'order_id'\n",
    "    how='left'                                  # Keep all rows from merged_orders_products\n",
    ")\n",
    "\n",
    "# Confirm the merge by checking the first few rows\n",
    "print(merged_orders_products.head())"
   ]
  },
  {
   "cell_type": "code",
   "execution_count": 67,
   "id": "263b86ed-3ba3-4731-820c-1e6b0700a17a",
   "metadata": {},
   "outputs": [
    {
     "name": "stdout",
     "output_type": "stream",
     "text": [
      "   order_day_of_week      busiest_day\n",
      "0                  5  Least busy days\n",
      "1                  5  Least busy days\n",
      "2                  5  Least busy days\n",
      "3                  5  Least busy days\n",
      "4                  5  Least busy days\n"
     ]
    }
   ],
   "source": [
    "# Create a new column \"busiest_day\" based on order_day_of_week\n",
    "merged_orders_products['busiest_day'] = merged_orders_products['order_day_of_week'].apply(\n",
    "    lambda x: 'Busiest days' if x in [0, 1] else ('Least busy days' if x in [4, 5] else 'Regularly busy')\n",
    ")\n",
    "\n",
    "# Check the first few rows to confirm\n",
    "print(merged_orders_products[['order_day_of_week', 'busiest_day']].head())"
   ]
  },
  {
   "cell_type": "code",
   "execution_count": 69,
   "id": "971e87e9-2338-4d3d-b293-82c6154aa5f1",
   "metadata": {},
   "outputs": [
    {
     "name": "stdout",
     "output_type": "stream",
     "text": [
      "busiest_day\n",
      "Regularly busy     12562108\n",
      "Busiest days       11875462\n",
      "Least busy days     7996642\n",
      "Name: count, dtype: int64\n",
      "\n",
      "Percentage distribution for busiest_day:\n",
      "busiest_day\n",
      "Regularly busy     38.731041\n",
      "Busiest days       36.613999\n",
      "Least busy days    24.654960\n",
      "Name: proportion, dtype: float64\n"
     ]
    }
   ],
   "source": [
    "# Frequency table for busiest_day\n",
    "print(merged_orders_products['busiest_day'].value_counts())\n",
    "\n",
    "# Percentage distribution\n",
    "print(\"\\nPercentage distribution for busiest_day:\")\n",
    "print(merged_orders_products['busiest_day'].value_counts(normalize=True) * 100)"
   ]
  },
  {
   "cell_type": "code",
   "execution_count": 73,
   "id": "d9c114bd-5631-46a3-a30d-4ed68b11f8cd",
   "metadata": {},
   "outputs": [
    {
     "name": "stdout",
     "output_type": "stream",
     "text": [
      "busiest_day\n",
      "Regularly busy     12562108\n",
      "Busiest days       11875462\n",
      "Least busy days     7996642\n",
      "Name: count, dtype: int64\n",
      "\n",
      "Percentage distribution for busiest_day:\n",
      "busiest_day\n",
      "Regularly busy     38.731041\n",
      "Busiest days       36.613999\n",
      "Least busy days    24.654960\n",
      "Name: proportion, dtype: float64\n"
     ]
    }
   ],
   "source": [
    "# Frequency table for busiest_day\n",
    "print(merged_orders_products['busiest_day'].value_counts())\n",
    "\n",
    "# Percentage distribution\n",
    "print(\"\\nPercentage distribution for busiest_day:\")\n",
    "print(merged_orders_products['busiest_day'].value_counts(normalize=True) * 100)"
   ]
  },
  {
   "cell_type": "code",
   "execution_count": null,
   "id": "73873a1a-5d14-437c-8892-f3d2761b26b3",
   "metadata": {},
   "outputs": [],
   "source": []
  },
  {
   "cell_type": "markdown",
   "id": "8bf959e8-f130-45af-b25c-035c6b4e4e89",
   "metadata": {},
   "source": [
    "## busiest_period_of_day"
   ]
  },
  {
   "cell_type": "code",
   "execution_count": 75,
   "id": "e704ec4e-31fd-4dd7-943f-ea21ab22b59a",
   "metadata": {},
   "outputs": [
    {
     "name": "stdout",
     "output_type": "stream",
     "text": [
      "   order_id  product_id  add_to_cart_order  reordered           product_name  \\\n",
      "0         2       33120                  1          1     Organic Egg Whites   \n",
      "1         2       28985                  2          1  Michigan Organic Kale   \n",
      "2         2        9327                  3          0          Garlic Powder   \n",
      "3         2       45918                  4          1         Coconut Butter   \n",
      "4         2       30035                  5          0      Natural Sweetener   \n",
      "\n",
      "   aisle_id  department_id  prices        price_label  order_day_of_week  \\\n",
      "0        86             16    11.3  Mid-range product                  5   \n",
      "1        83              4    13.4  Mid-range product                  5   \n",
      "2       104             13     3.6  Low-range product                  5   \n",
      "3        19             13     8.4  Mid-range product                  5   \n",
      "4        17             13    13.7  Mid-range product                  5   \n",
      "\n",
      "       busiest_day  \n",
      "0  Least busy days  \n",
      "1  Least busy days  \n",
      "2  Least busy days  \n",
      "3  Least busy days  \n",
      "4  Least busy days  \n",
      "Index(['order_id', 'product_id', 'add_to_cart_order', 'reordered',\n",
      "       'product_name', 'aisle_id', 'department_id', 'prices', 'price_label',\n",
      "       'order_day_of_week', 'busiest_day'],\n",
      "      dtype='object')\n"
     ]
    }
   ],
   "source": [
    "# Check the first few rows of the dataset\n",
    "print(merged_orders_products.head())\n",
    "\n",
    "# Check the column names\n",
    "print(merged_orders_products.columns)"
   ]
  }
 ],
 "metadata": {
  "kernelspec": {
   "display_name": "Python [conda env:base] *",
   "language": "python",
   "name": "conda-base-py"
  },
  "language_info": {
   "codemirror_mode": {
    "name": "ipython",
    "version": 3
   },
   "file_extension": ".py",
   "mimetype": "text/x-python",
   "name": "python",
   "nbconvert_exporter": "python",
   "pygments_lexer": "ipython3",
   "version": "3.12.8"
  }
 },
 "nbformat": 4,
 "nbformat_minor": 5
}
