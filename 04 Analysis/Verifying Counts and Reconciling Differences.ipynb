{
 "cells": [
  {
   "cell_type": "markdown",
   "id": "52658fdc-8174-4b73-a352-16260b226a0e",
   "metadata": {},
   "source": [
    "🟢 Step 1: Verify Original Data Counts\n",
    "\\\n",
    "We need to check the counts of rows in the original datasets `(orders.csv, products.csv, customers.csv, departments.csv)`.\n",
    "\n",
    "Here’s the Python code to verify the counts:"
   ]
  },
  {
   "cell_type": "code",
   "execution_count": 3,
   "id": "04190f0d-4cde-43e2-9733-34cfaff91c21",
   "metadata": {},
   "outputs": [
    {
     "name": "stdout",
     "output_type": "stream",
     "text": [
      "Orders dataset has 3421083 rows and 7 columns.\n",
      "Products dataset has 49693 rows and 5 columns.\n",
      "Customers dataset has 206209 rows and 10 columns.\n",
      "Departments dataset has 1 rows and 22 columns.\n"
     ]
    }
   ],
   "source": [
    "import pandas as pd\n",
    "\n",
    "# Define file paths\n",
    "orders_path = r\"D:\\YVC\\Data Analytics (CF)\\Python Fundamentals for Data Analysts\\Instacart Basket Analysis\\02 Data\\Original Data\\orders.csv\"\n",
    "products_path = r\"D:\\YVC\\Data Analytics (CF)\\Python Fundamentals for Data Analysts\\Instacart Basket Analysis\\02 Data\\Original Data\\products.csv\"\n",
    "customers_path = r\"D:\\YVC\\Data Analytics (CF)\\Python Fundamentals for Data Analysts\\Instacart Basket Analysis\\02 Data\\Original Data\\customers.csv\"\n",
    "departments_path = r\"D:\\YVC\\Data Analytics (CF)\\Python Fundamentals for Data Analysts\\Instacart Basket Analysis\\02 Data\\Original Data\\departments.csv\"\n",
    "\n",
    "# Load datasets and print row counts\n",
    "datasets = {\n",
    "    \"Orders\": pd.read_csv(orders_path),\n",
    "    \"Products\": pd.read_csv(products_path),\n",
    "    \"Customers\": pd.read_csv(customers_path),\n",
    "    \"Departments\": pd.read_csv(departments_path)\n",
    "}\n",
    "\n",
    "for name, df in datasets.items():\n",
    "    print(f\"{name} dataset has {df.shape[0]} rows and {df.shape[1]} columns.\")"
   ]
  },
  {
   "cell_type": "markdown",
   "id": "ab98f726-fe9c-41e8-a1f7-27ab8e332239",
   "metadata": {},
   "source": [
    "🔵 Step 2: Check Consistency Post Data Cleaning\n",
    "\\\n",
    "Now, let's verify the counts for cleaned datasets `(cleaned_orders.csv, cleaned_products.csv, merged_orders_products.csv)`.\n",
    "\n",
    "Here's the code:"
   ]
  },
  {
   "cell_type": "code",
   "execution_count": 8,
   "id": "2ab6102b-420d-40b6-bf3a-7cffe8c0744e",
   "metadata": {},
   "outputs": [
    {
     "name": "stdout",
     "output_type": "stream",
     "text": [
      "Cleaned Orders dataset has 3421083 rows and 7 columns.\n",
      "Cleaned Products dataset has 49688 rows and 5 columns.\n",
      "Merged Orders-Products dataset has 32434212 rows and 8 columns.\n"
     ]
    }
   ],
   "source": [
    "# Define cleaned data paths\n",
    "cleaned_orders_path = r\"D:\\YVC\\Data Analytics (CF)\\Python Fundamentals for Data Analysts\\Instacart Basket Analysis\\02 Data\\Prepared Data\\cleaned_orders.csv\"\n",
    "cleaned_products_path = r\"D:\\YVC\\Data Analytics (CF)\\Python Fundamentals for Data Analysts\\Instacart Basket Analysis\\02 Data\\Prepared Data\\cleaned_products.csv\"\n",
    "merged_orders_products_path = r\"D:\\YVC\\Data Analytics (CF)\\Python Fundamentals for Data Analysts\\Instacart Basket Analysis\\02 Data\\Prepared Data\\merged_orders_products.csv\"\n",
    "\n",
    "# Load cleaned datasets and print row counts\n",
    "cleaned_datasets = {\n",
    "    \"Cleaned Orders\": pd.read_csv(cleaned_orders_path),\n",
    "    \"Cleaned Products\": pd.read_csv(cleaned_products_path),\n",
    "    \"Merged Orders-Products\": pd.read_csv(merged_orders_products_path)\n",
    "}\n",
    "\n",
    "for name, df in cleaned_datasets.items():\n",
    "    print(f\"{name} dataset has {df.shape[0]} rows and {df.shape[1]} columns.\")"
   ]
  },
  {
   "cell_type": "markdown",
   "id": "0559327c-3ef9-4de8-8223-e615d1846c74",
   "metadata": {},
   "source": [
    "🟣 Step 3: Verify Merged Dataset and Reconcile Differences\n",
    "\\\n",
    "To ensure the final merged dataset `(merged_orders_products_updated.pkl)` aligns with the population flow:"
   ]
  },
  {
   "cell_type": "code",
   "execution_count": 17,
   "id": "0b991a9c-5105-4ae0-a827-9e87ee7658e8",
   "metadata": {},
   "outputs": [
    {
     "name": "stdout",
     "output_type": "stream",
     "text": [
      "The final merged dataset has 32434212 rows and 16 columns.\n"
     ]
    }
   ],
   "source": [
    "# Load merged dataset\n",
    "merged_df = pd.read_pickle(r\"D:\\YVC\\Data Analytics (CF)\\Python Fundamentals for Data Analysts\\Instacart Basket Analysis\\02 Data\\Prepared Data\\merged_orders_products_updated.pkl\")\n",
    "\n",
    "# Check shape\n",
    "print(f\"The final merged dataset has {merged_df.shape[0]} rows and {merged_df.shape[1]} columns.\")"
   ]
  }
 ],
 "metadata": {
  "kernelspec": {
   "display_name": "Python [conda env:base] *",
   "language": "python",
   "name": "conda-base-py"
  },
  "language_info": {
   "codemirror_mode": {
    "name": "ipython",
    "version": 3
   },
   "file_extension": ".py",
   "mimetype": "text/x-python",
   "name": "python",
   "nbconvert_exporter": "python",
   "pygments_lexer": "ipython3",
   "version": "3.12.8"
  }
 },
 "nbformat": 4,
 "nbformat_minor": 5
}
