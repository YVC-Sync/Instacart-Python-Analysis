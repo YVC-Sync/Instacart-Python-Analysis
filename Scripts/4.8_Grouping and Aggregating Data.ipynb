{
 "cells": [
  {
   "cell_type": "markdown",
   "id": "bcef6136-50be-4caa-aaba-5e6995ce37b8",
   "metadata": {},
   "source": [
    "# Grouping and Aggregating Data"
   ]
  },
  {
   "cell_type": "markdown",
   "id": "a682d623-0007-49dc-8748-4b05d3944eeb",
   "metadata": {},
   "source": [
    "## Introduction\n",
    "This notebook demonstrates how to group and aggregate data to gain insights into customer behavior for the Instacart dataset. The goal is to explore trends, understand spending habits, and analyze ordering patterns."
   ]
  },
  {
   "cell_type": "markdown",
   "id": "9437228d-c185-47bf-b65c-faf6ad6a158a",
   "metadata": {},
   "source": [
    "#### Table of Contents\n",
    "1. Import Libraries and Load Data  \n",
    "2. Group and Aggregate Data  \n",
    "3. Loyalty Flags for Existing Customers\n",
    "    - 3.1 Inspect examples from each loyalty category\n",
    "        - Examples of Loyal Customers\n",
    "        - Examples of Regular Customers\n",
    "        - Examples of New Customers\n",
    "4. Analyzing Spending Habits  \n",
    "5. Handle Outliers in Prices\n",
    "6. Spending Flags\n",
    "    - 6.1 Analyze Spending Flag Distribution\n",
    "7. Order Frequency Flags\n",
    "8. Analyze the Distribution of Order Frequency Flags\n",
    "9. Summary\n",
    "10. Export Data "
   ]
  },
  {
   "cell_type": "code",
   "execution_count": null,
   "id": "6913bd53-59d8-499d-ad80-f2a046e20da0",
   "metadata": {},
   "outputs": [],
   "source": []
  },
  {
   "cell_type": "markdown",
   "id": "066533b9-1fc6-41bc-8a17-1afecbbb2f1d",
   "metadata": {},
   "source": [
    "## 1. Import Libraries and Load Data"
   ]
  },
  {
   "cell_type": "code",
   "execution_count": 126,
   "id": "6503f7c6-d0e4-4ed7-9245-001ab4e695a4",
   "metadata": {},
   "outputs": [
    {
     "name": "stdout",
     "output_type": "stream",
     "text": [
      "   order_id  product_id  add_to_cart_order  reordered           product_name  \\\n",
      "0         2       33120                  1          1     Organic Egg Whites   \n",
      "1         2       28985                  2          1  Michigan Organic Kale   \n",
      "2         2        9327                  3          0          Garlic Powder   \n",
      "3         2       45918                  4          1         Coconut Butter   \n",
      "4         2       30035                  5          0      Natural Sweetener   \n",
      "\n",
      "   aisle_id  department_id  prices        price_label  order_dow  \\\n",
      "0        86             16    11.3  Mid-range product          5   \n",
      "1        83              4    13.4  Mid-range product          5   \n",
      "2       104             13     3.6  Low-range product          5   \n",
      "3        19             13     8.4  Mid-range product          5   \n",
      "4        17             13    13.7  Mid-range product          5   \n",
      "\n",
      "      busiest_day  order_hour_of_day_x  order_hour_of_day_y  \\\n",
      "0  Regularly busy                    9                    9   \n",
      "1  Regularly busy                    9                    9   \n",
      "2  Regularly busy                    9                    9   \n",
      "3  Regularly busy                    9                    9   \n",
      "4  Regularly busy                    9                    9   \n",
      "\n",
      "   order_hour_of_day busiest_period_of_day     busiest_days  \n",
      "0                  9        Average orders  Least busy days  \n",
      "1                  9        Average orders  Least busy days  \n",
      "2                  9        Average orders  Least busy days  \n",
      "3                  9        Average orders  Least busy days  \n",
      "4                  9        Average orders  Least busy days  \n"
     ]
    }
   ],
   "source": [
    "# Importing required libraries\n",
    "import pandas as pd\n",
    "import numpy as np\n",
    "\n",
    "# Load the merged_orders_products pickle file\n",
    "merged_orders_products = pd.read_pickle(\n",
    "    r\"D:\\YVC\\Data Analytics (CF)\\Python Fundamentals for Data Analysts\\Instacart Basket Analysis\\02 Data\\Prepared Data\\merged_orders_products_updated.pkl\"\n",
    ")\n",
    "\n",
    "# Display the first few rows to confirm the file loaded correctly\n",
    "print(merged_orders_products.head())"
   ]
  },
  {
   "cell_type": "markdown",
   "id": "9a60b1cd-11eb-49f1-9138-4689397ea0d1",
   "metadata": {},
   "source": [
    "#### Load the Orders Products Combined Dataset"
   ]
  },
  {
   "cell_type": "code",
   "execution_count": 56,
   "id": "08989cdd-4ff0-4c05-8db5-bed6bdde78eb",
   "metadata": {},
   "outputs": [
    {
     "name": "stdout",
     "output_type": "stream",
     "text": [
      "   order_id  user_id eval_set  order_number  order_dow  order_hour_of_day  \\\n",
      "0   2539329        1    prior             1          2                  8   \n",
      "1   2539329        1    prior             1          2                  8   \n",
      "2   2539329        1    prior             1          2                  8   \n",
      "3   2539329        1    prior             1          2                  8   \n",
      "4   2539329        1    prior             1          2                  8   \n",
      "\n",
      "   days_since_prior_order  product_id  add_to_cart_order  reordered  \\\n",
      "0                     NaN         196                  1          0   \n",
      "1                     NaN       14084                  2          0   \n",
      "2                     NaN       12427                  3          0   \n",
      "3                     NaN       26088                  4          0   \n",
      "4                     NaN       26405                  5          0   \n",
      "\n",
      "                              product_name  aisle_id  department_id  prices  \\\n",
      "0                                     Soda        77              7     9.0   \n",
      "1  Organic Unsweetened Vanilla Almond Milk        91             16    12.5   \n",
      "2                      Original Beef Jerky        23             19     4.4   \n",
      "3               Aged White Cheddar Popcorn        23             19     4.7   \n",
      "4         XL Pick-A-Size Paper Towel Rolls        54             17     1.0   \n",
      "\n",
      "  _merge  \n",
      "0   both  \n",
      "1   both  \n",
      "2   both  \n",
      "3   both  \n",
      "4   both  \n"
     ]
    }
   ],
   "source": [
    "# Load the orders_products_combined dataset\n",
    "orders_products_combined = pd.read_pickle(\n",
    "    r\"D:\\YVC\\Data Analytics (CF)\\Python Fundamentals for Data Analysts\\Instacart Basket Analysis\\02 Data\\Original Data\\orders_products_combined.pkl\"\n",
    ")\n",
    "\n",
    "# Display the first few rows to confirm successful loading\n",
    "print(orders_products_combined.head())"
   ]
  },
  {
   "cell_type": "code",
   "execution_count": null,
   "id": "8d9d0ea3-fff1-417d-ba50-d6577e85de3a",
   "metadata": {},
   "outputs": [],
   "source": []
  },
  {
   "cell_type": "markdown",
   "id": "1cc54d69-6b5f-4d90-b1c1-2a341a99f26c",
   "metadata": {},
   "source": [
    "## 2. Group and Aggregate Data\n",
    "Here, I’m grouping the data by `department_id` and calculating the average `order_number` to spot ordering patterns across different departments."
   ]
  },
  {
   "cell_type": "code",
   "execution_count": 60,
   "id": "3d2fc15f-30ef-419e-9d3a-2df54ef35d13",
   "metadata": {},
   "outputs": [
    {
     "name": "stdout",
     "output_type": "stream",
     "text": [
      "department_id\n",
      "1     15.457687\n",
      "2     17.277920\n",
      "3     17.179756\n",
      "4     17.811403\n",
      "5     15.213779\n",
      "6     16.439806\n",
      "7     17.225773\n",
      "8     15.340520\n",
      "9     15.895474\n",
      "10    20.197148\n",
      "11    16.170828\n",
      "12    15.887622\n",
      "13    16.583304\n",
      "14    16.757377\n",
      "15    16.165037\n",
      "16    17.663250\n",
      "17    15.694469\n",
      "18    19.310397\n",
      "19    17.177343\n",
      "20    16.473447\n",
      "21    22.902379\n",
      "Name: order_number, dtype: float64\n"
     ]
    }
   ],
   "source": [
    "# Grouping by department_id and calculating the mean of order_number\n",
    "department_order_mean = orders_products_combined.groupby('department_id')['order_number'].mean()\n",
    "\n",
    "# Display the result\n",
    "print(department_order_mean)"
   ]
  },
  {
   "cell_type": "markdown",
   "id": "dca62047-f84f-4dfc-8434-e6ced46d8d68",
   "metadata": {},
   "source": [
    "#### Observations\n",
    "- **Departments 21 (22.90) and 10 (20.20)** have the highest average order numbers. This suggests that people are frequently coming back to reorder products from these departments.\n",
    "- **Departments 1 (15.46) and 5 (15.21)** have the lowest average order numbers, indicating that products in these categories might not be reordered as often.\n",
    "- **The average order numbers for departments range from 15.21 to 22.90,** showing significant variation in reorder frequency depending on the department."
   ]
  },
  {
   "cell_type": "code",
   "execution_count": null,
   "id": "2dca3f41-b298-4de3-b4ee-e73b16364063",
   "metadata": {},
   "outputs": [],
   "source": []
  },
  {
   "cell_type": "markdown",
   "id": "f8777b90-75d8-47be-8361-11e931e29c92",
   "metadata": {},
   "source": [
    "## 3. Loyalty Flags for Existing Customers\n",
    "Here, we'll create loyalty flags to classify customers based on their total orders."
   ]
  },
  {
   "cell_type": "code",
   "execution_count": 162,
   "id": "a2f8e8e5-f23a-4b1d-8f50-5c9d7bb0c8a3",
   "metadata": {},
   "outputs": [
    {
     "name": "stdout",
     "output_type": "stream",
     "text": [
      "Unique Values in Total Orders:\n",
      "count    206209.000000\n",
      "mean         15.590367\n",
      "std          16.654774\n",
      "min           3.000000\n",
      "25%           5.000000\n",
      "50%           9.000000\n",
      "75%          19.000000\n",
      "max          99.000000\n",
      "Name: total_orders, dtype: float64\n",
      "\n",
      "Loyalty Flag Distribution:\n",
      "loyalty_flag\n",
      "Regular Customer    16297258\n",
      "Loyal Customer      10661369\n",
      "New Customer         5475585\n",
      "Name: count, dtype: int64\n"
     ]
    }
   ],
   "source": [
    "# Step 1: Calculate the total number of orders per user\n",
    "customer_orders = orders_products_combined.groupby('user_id')['order_number'].max().reset_index()\n",
    "customer_orders.rename(columns={'order_number': 'total_orders'}, inplace=True)\n",
    "\n",
    "# Step 2: Merge total orders back into the dataset\n",
    "# Handle potential column conflicts by renaming or dropping duplicates\n",
    "orders_products_combined = orders_products_combined.drop(columns=['total_orders'], errors='ignore')  # Avoid duplicate column error\n",
    "orders_products_combined = orders_products_combined.merge(customer_orders, on='user_id', how='left')\n",
    "\n",
    "# Step 3: Create a loyalty flag\n",
    "orders_products_combined['loyalty_flag'] = 'New Customer'\n",
    "orders_products_combined.loc[orders_products_combined['total_orders'] >= 40, 'loyalty_flag'] = 'Loyal Customer'\n",
    "orders_products_combined.loc[\n",
    "    (orders_products_combined['total_orders'] >= 10) & (orders_products_combined['total_orders'] < 40),\n",
    "    'loyalty_flag'\n",
    "] = 'Regular Customer'\n",
    "\n",
    "# Step 4: Verify results\n",
    "# Check unique values of total_orders\n",
    "print(\"Unique Values in Total Orders:\")\n",
    "print(customer_orders['total_orders'].describe())\n",
    "\n",
    "# Check the distribution of loyalty flags\n",
    "print(\"\\nLoyalty Flag Distribution:\")\n",
    "print(orders_products_combined['loyalty_flag'].value_counts())"
   ]
  },
  {
   "cell_type": "markdown",
   "id": "b62fa097-a613-4644-92de-515850f3b816",
   "metadata": {},
   "source": [
    "### 3.1 Inspect examples from each loyalty category"
   ]
  },
  {
   "cell_type": "markdown",
   "id": "2f25b295-767b-460e-92b9-995d5a2cc381",
   "metadata": {},
   "source": [
    "**Examples of Loyal Customers:**"
   ]
  },
  {
   "cell_type": "code",
   "execution_count": 166,
   "id": "45bc2e9a-ab13-4669-a218-16d4b52795cc",
   "metadata": {},
   "outputs": [
    {
     "name": "stdout",
     "output_type": "stream",
     "text": [
      "\n",
      "Examples of Loyal Customers:\n",
      "      order_id  user_id eval_set  order_number  order_dow  order_hour_of_day  \\\n",
      "1486   1737705       17    prior             1          2                 13   \n",
      "1487   1737705       17    prior             1          2                 13   \n",
      "1488   1737705       17    prior             1          2                 13   \n",
      "1489   1681401       17    prior             2          5                 10   \n",
      "1490   1681401       17    prior             2          5                 10   \n",
      "\n",
      "      days_since_prior_order  product_id  add_to_cart_order  reordered  \\\n",
      "1486                     NaN        7350                  1          0   \n",
      "1487                     NaN       47141                  2          0   \n",
      "1488                     NaN       17762                  3          0   \n",
      "1489                     3.0        7350                  1          1   \n",
      "1490                     3.0       18534                  2          0   \n",
      "\n",
      "                                     product_name  aisle_id  department_id  \\\n",
      "1486  Natural Lime Flavor Sparkling Mineral Water       115              7   \n",
      "1487                                         Cola        77              7   \n",
      "1488                       Light Oaked Chardonnay        62              5   \n",
      "1489  Natural Lime Flavor Sparkling Mineral Water       115              7   \n",
      "1490                     Grade A Extra Large Eggs        86             16   \n",
      "\n",
      "      prices _merge  total_orders_x    loyalty_flag  total_orders_y  \\\n",
      "1486     7.0   both              40  Loyal Customer              40   \n",
      "1487    14.6   both              40  Loyal Customer              40   \n",
      "1488     7.0   both              40  Loyal Customer              40   \n",
      "1489     7.0   both              40  Loyal Customer              40   \n",
      "1490     8.0   both              40  Loyal Customer              40   \n",
      "\n",
      "      total_orders  \n",
      "1486            40  \n",
      "1487            40  \n",
      "1488            40  \n",
      "1489            40  \n",
      "1490            40  \n"
     ]
    }
   ],
   "source": [
    "# Inspect examples from each loyalty category\n",
    "print(\"\\nExamples of Loyal Customers:\")\n",
    "print(orders_products_combined[orders_products_combined['loyalty_flag'] == 'Loyal Customer'].head())"
   ]
  },
  {
   "cell_type": "markdown",
   "id": "dc3e9c62-6d8e-4b0f-a763-dce76ebd6c08",
   "metadata": {},
   "source": [
    "**Examples of Regular Customers:**"
   ]
  },
  {
   "cell_type": "code",
   "execution_count": 170,
   "id": "df141a93-f5d4-4f2b-9f12-7c64955fc13b",
   "metadata": {},
   "outputs": [
    {
     "name": "stdout",
     "output_type": "stream",
     "text": [
      "\n",
      "Examples of Regular Customers:\n",
      "   order_id  user_id eval_set  order_number  order_dow  order_hour_of_day  \\\n",
      "0   2539329        1    prior             1          2                  8   \n",
      "1   2539329        1    prior             1          2                  8   \n",
      "2   2539329        1    prior             1          2                  8   \n",
      "3   2539329        1    prior             1          2                  8   \n",
      "4   2539329        1    prior             1          2                  8   \n",
      "\n",
      "   days_since_prior_order  product_id  add_to_cart_order  reordered  \\\n",
      "0                     NaN         196                  1          0   \n",
      "1                     NaN       14084                  2          0   \n",
      "2                     NaN       12427                  3          0   \n",
      "3                     NaN       26088                  4          0   \n",
      "4                     NaN       26405                  5          0   \n",
      "\n",
      "                              product_name  aisle_id  department_id  prices  \\\n",
      "0                                     Soda        77              7     9.0   \n",
      "1  Organic Unsweetened Vanilla Almond Milk        91             16    12.5   \n",
      "2                      Original Beef Jerky        23             19     4.4   \n",
      "3               Aged White Cheddar Popcorn        23             19     4.7   \n",
      "4         XL Pick-A-Size Paper Towel Rolls        54             17     1.0   \n",
      "\n",
      "  _merge  total_orders_x      loyalty_flag  total_orders_y  total_orders  \n",
      "0   both              10  Regular Customer              10            10  \n",
      "1   both              10  Regular Customer              10            10  \n",
      "2   both              10  Regular Customer              10            10  \n",
      "3   both              10  Regular Customer              10            10  \n",
      "4   both              10  Regular Customer              10            10  \n"
     ]
    }
   ],
   "source": [
    "print(\"\\nExamples of Regular Customers:\")\n",
    "print(orders_products_combined[orders_products_combined['loyalty_flag'] == 'Regular Customer'].head())"
   ]
  },
  {
   "cell_type": "markdown",
   "id": "19356d7c-eccc-4bda-9e4d-0d2428f67f6c",
   "metadata": {},
   "source": [
    "**Examples of New Customers:**"
   ]
  },
  {
   "cell_type": "code",
   "execution_count": 175,
   "id": "bbd18ad6-2075-4e23-b775-8b0f0f8a7ebe",
   "metadata": {},
   "outputs": [
    {
     "name": "stdout",
     "output_type": "stream",
     "text": [
      "\n",
      "Examples of New Customers:\n",
      "     order_id  user_id eval_set  order_number  order_dow  order_hour_of_day  \\\n",
      "342   3343014        4    prior             1          6                 11   \n",
      "343   3343014        4    prior             1          6                 11   \n",
      "344   3343014        4    prior             1          6                 11   \n",
      "345   3343014        4    prior             1          6                 11   \n",
      "346   2030307        4    prior             2          4                 11   \n",
      "\n",
      "     days_since_prior_order  product_id  add_to_cart_order  reordered  \\\n",
      "342                     NaN       36606                  1          0   \n",
      "343                     NaN        7350                  2          0   \n",
      "344                     NaN       35469                  3          0   \n",
      "345                     NaN        2707                  4          0   \n",
      "346                    19.0       42329                  1          0   \n",
      "\n",
      "                                          product_name  aisle_id  \\\n",
      "342                         Sprouted Multi-Grain Bread       112   \n",
      "343        Natural Lime Flavor Sparkling Mineral Water       115   \n",
      "344                     Enchilada Black Bean Vegetable        38   \n",
      "345  Complete™ ActionPacs™ Fresh Scent Dishwasher D...        74   \n",
      "346                       Private Selection Pinot Noir        28   \n",
      "\n",
      "     department_id  prices _merge  total_orders_x  loyalty_flag  \\\n",
      "342              3     9.4   both               5  New Customer   \n",
      "343              7     7.0   both               5  New Customer   \n",
      "344              1    12.9   both               5  New Customer   \n",
      "345             17    11.9   both               5  New Customer   \n",
      "346              5     1.5   both               5  New Customer   \n",
      "\n",
      "     total_orders_y  total_orders  \n",
      "342               5             5  \n",
      "343               5             5  \n",
      "344               5             5  \n",
      "345               5             5  \n",
      "346               5             5  \n"
     ]
    }
   ],
   "source": [
    "print(\"\\nExamples of New Customers:\")\n",
    "print(orders_products_combined[orders_products_combined['loyalty_flag'] == 'New Customer'].head())"
   ]
  },
  {
   "cell_type": "markdown",
   "id": "bf293449-a005-4bac-8987-ed77d89b563e",
   "metadata": {},
   "source": [
    "#### **Key Insights:**\n",
    "\n",
    "**1. Loyal Customers:**\n",
    "\\\n",
    "~ Customers with total orders >= 40 are flagged as \"Loyal Customers.\"\n",
    "\n",
    "**2. Regular Customers:**\n",
    "\\\n",
    "~ Customers with total orders between 10 and 39 are flagged as \"Regular Customers.\"\n",
    "\n",
    "**3. New Customers:**\n",
    "\\\n",
    "~ Customers with total orders < 10 are flagged as \"New Customers.\""
   ]
  },
  {
   "cell_type": "code",
   "execution_count": null,
   "id": "c724c45d-8d50-4a5b-84dc-7674efed3203",
   "metadata": {},
   "outputs": [],
   "source": []
  },
  {
   "cell_type": "markdown",
   "id": "b93ab1e4-f7b1-4c02-9c6a-52a81f6d9051",
   "metadata": {},
   "source": [
    "## 4. Analyzing Spending Habits\n",
    "Let's take a closer look and compare at how spending habits differ among the loyalty groups."
   ]
  },
  {
   "cell_type": "code",
   "execution_count": 81,
   "id": "35c605a7-3b9e-494d-a050-e59b98e934ee",
   "metadata": {},
   "outputs": [
    {
     "name": "stdout",
     "output_type": "stream",
     "text": [
      "                       mean  median  min      max\n",
      "loyalty_flag                                     \n",
      "Loyal Customer    10.379575     7.4  1.0  99999.0\n",
      "New Customer      13.208206     7.4  1.0  99999.0\n",
      "Regular Customer  12.616590     7.4  1.0  99999.0\n"
     ]
    }
   ],
   "source": [
    "# Analyze spending habits by loyalty group\n",
    "spending_stats = orders_products_combined.groupby('loyalty_flag')['prices'].agg(['mean', 'median', 'min', 'max'])\n",
    "\n",
    "# Display the results\n",
    "print(spending_stats)"
   ]
  },
  {
   "cell_type": "markdown",
   "id": "37234d37-1fd9-41b9-9cbd-c72573beb7dc",
   "metadata": {},
   "source": [
    "#### **Key Insights:**\n",
    "\n",
    "**1. Mean Spending:**\n",
    "\\\n",
    "~ Loyal Customers spend an average of **10.38** per product.\n",
    "\\\n",
    "~ Regular Customers spend an average of **12.62** per product.\n",
    "\\\n",
    "~ New Customers spend the most, with an average of **13.20** per product.\n",
    "\n",
    "**2. Median Spending:**\n",
    "\\\n",
    "~ All groups share the same median price of **7.4**, indicating a significant proportion of products fall into this price range.\n",
    "\n",
    "**3. Minimum Prices:**\n",
    "\\\n",
    "~ All groups have a minimum product price of **1.0**, reflecting purchases of low-cost items across all loyalty segments.\n",
    "\n",
    "**4. Maximum Prices:**\n",
    "\\\n",
    "~ All groups share the same maximum product price of **99,999**, which likely represents an outlier or data entry error.\n"
   ]
  },
  {
   "cell_type": "code",
   "execution_count": null,
   "id": "a7d87c0d-c58e-4bc1-884c-f4b4b5c23839",
   "metadata": {},
   "outputs": [],
   "source": []
  },
  {
   "cell_type": "markdown",
   "id": "fdbeb758-3aef-41c9-9c4c-a9ac307993ee",
   "metadata": {},
   "source": [
    "## 5. Handle Outliers in prices\n",
    "To clean up the dataset, we'll filter out outliers in the `prices` column."
   ]
  },
  {
   "cell_type": "code",
   "execution_count": 85,
   "id": "46eb7887-5b32-4b5f-8a02-8d4727fba111",
   "metadata": {},
   "outputs": [
    {
     "name": "stdout",
     "output_type": "stream",
     "text": [
      "                      mean  median  min   max\n",
      "loyalty_flag                                 \n",
      "Loyal Customer    7.778456     7.4  1.0  25.0\n",
      "New Customer      7.804438     7.4  1.0  25.0\n",
      "Regular Customer  7.804054     7.4  1.0  25.0\n"
     ]
    }
   ],
   "source": [
    "# Remove outliers where prices are extremely high\n",
    "filtered_data = orders_products_combined[orders_products_combined['prices'] < 100]\n",
    "\n",
    "# Recalculate spending stats without outliers\n",
    "filtered_spending_stats = filtered_data.groupby('loyalty_flag')['prices'].agg(['mean', 'median', 'min', 'max'])\n",
    "\n",
    "# Display the updated results\n",
    "print(filtered_spending_stats)"
   ]
  },
  {
   "cell_type": "markdown",
   "id": "56d10c0c-d801-4a23-9cd7-f46ffdf35770",
   "metadata": {},
   "source": [
    "#### Observations After Removing Outliers\n",
    "\n",
    "**1. Mean Spending:**\n",
    "\\\n",
    "~ After removing outliers, the average spending across all loyalty groups is pretty consistent, ranging between **7.78** and **7.80**.\n",
    "\n",
    "**2. Median Spending:**\n",
    "\\\n",
    "~ The median price stays the same at **7.4** for all groups, which shows that most purchases fall into this price range.\n",
    "\n",
    "**3. Minimum Prices:**\n",
    "\\\n",
    "~ Every group has a minimum price of **1.0**, which means customers across all segments are buying low-cost items.\n",
    "\n",
    "**4. Maximum Prices:**\n",
    "\\\n",
    "~ The highest price is now **25.0** after filtering out outliers, which makes the data more realistic and easier to analyze.\n",
    "\n",
    "**5. Outlier Handling:**\n",
    "\\\n",
    "~ By removing extreme prices over 100, the spending data now feels much cleaner and gives a clearer picture of how customers are actually spending.\n"
   ]
  },
  {
   "cell_type": "code",
   "execution_count": null,
   "id": "215a4dc4-4d56-4947-b654-5dc6438f0cf6",
   "metadata": {},
   "outputs": [],
   "source": []
  },
  {
   "cell_type": "markdown",
   "id": "14287572-79bb-48e7-83fe-8902751262d8",
   "metadata": {},
   "source": [
    "## 6. Spending Flag\n",
    "In this section, we’re creating a spending flag to classify customers based on their average spending. This will help us better understand which customers are spending more or less on their purchases."
   ]
  },
  {
   "cell_type": "code",
   "execution_count": 90,
   "id": "87be5803-a967-4eda-9cd9-5fdf6a9fc835",
   "metadata": {},
   "outputs": [
    {
     "name": "stdout",
     "output_type": "stream",
     "text": [
      "   user_id  avg_price spending_flag\n",
      "0        1   6.367797   Low Spender\n",
      "1        1   6.367797   Low Spender\n",
      "2        1   6.367797   Low Spender\n",
      "3        1   6.367797   Low Spender\n",
      "4        1   6.367797   Low Spender\n",
      "5        1   6.367797   Low Spender\n",
      "6        1   6.367797   Low Spender\n",
      "7        1   6.367797   Low Spender\n",
      "8        1   6.367797   Low Spender\n",
      "9        1   6.367797   Low Spender\n"
     ]
    }
   ],
   "source": [
    "# Step 1: Calculate average price per user\n",
    "user_spending = filtered_data.groupby('user_id')['prices'].mean().reset_index()\n",
    "user_spending.rename(columns={'prices': 'avg_price'}, inplace=True)\n",
    "\n",
    "# Step 2: Merge average price back into the dataset\n",
    "filtered_data = filtered_data.merge(user_spending, on='user_id', how='left')\n",
    "\n",
    "# Step 3: Create a spending flag\n",
    "filtered_data['spending_flag'] = 'Low Spender'\n",
    "filtered_data.loc[filtered_data['avg_price'] >= 10, 'spending_flag'] = 'High Spender'\n",
    "\n",
    "# Check the results\n",
    "print(filtered_data[['user_id', 'avg_price', 'spending_flag']].head(10))"
   ]
  },
  {
   "cell_type": "markdown",
   "id": "9ee3c2d4-a048-4932-bac1-1a791c800ce4",
   "metadata": {},
   "source": [
    "#### **Key Insights:**\n",
    "\n",
    "**1. Spending Categories:**\n",
    "~ All customers are classified as **Low Spenders**, meaning their average spending per product is below 10.\n",
    "\n",
    "**2. Spending Patterns:**\n",
    "~ The lack of **High Spenders** indicates that customers predominantly purchase lower-priced items, suggesting that budget-friendly products dominate the dataset.\n",
    "\n",
    "**3. Implications for Targeting:**\n",
    "~ Since there are no **High Spenders**, marketing efforts could focus on promoting affordable products or offering discounts to encourage more purchases from existing customers."
   ]
  },
  {
   "cell_type": "markdown",
   "id": "f4874aa7-ba84-43cc-bc04-e312407614a5",
   "metadata": {},
   "source": [
    "### 6.1 Analyze Spending Flag Distribution"
   ]
  },
  {
   "cell_type": "code",
   "execution_count": 93,
   "id": "b46996b4-1bbc-46af-b348-75424bad5567",
   "metadata": {},
   "outputs": [
    {
     "name": "stdout",
     "output_type": "stream",
     "text": [
      "spending_flag\n",
      "Low Spender     32308374\n",
      "High Spender      120711\n",
      "Name: count, dtype: int64\n"
     ]
    }
   ],
   "source": [
    "# Analyze the distribution of spending flags\n",
    "spending_flag_counts = filtered_data['spending_flag'].value_counts()\n",
    "\n",
    "# Display the results\n",
    "print(spending_flag_counts)"
   ]
  },
  {
   "cell_type": "markdown",
   "id": "9737eb03-8776-48ce-84b8-a690d3e7e357",
   "metadata": {},
   "source": [
    "#### **Key Findings:**\n",
    "\n",
    "1. **Low Spenders**:\n",
    "\\\n",
    "   ~ There are **3,328,374 users** (~96.5% of the dataset) in this category.\n",
    "   \\\n",
    "   ~ This indicates that most customers are spending less than $10 on average.\n",
    "\n",
    "3. **High Spenders**:\n",
    "   \\\n",
    "   ~ Only **120,711 users** (~3.5% of the dataset) fall into this category.\n",
    "   \\\n",
    "   ~ These customers spend more than or equal to $10 on average.\n",
    "\n",
    "5. **Insights for Targeting**:\n",
    "\\\n",
    "   ~ Since the majority are Low Spenders, marketing strategies could focus on offering discounts or bundles for budget-conscious shoppers.\n",
    "\\\n",
    "   ~ High Spenders, though a smaller group, might respond well to personalized premium product recommendations or loyalty rewards."
   ]
  },
  {
   "cell_type": "code",
   "execution_count": null,
   "id": "40bee249-1ef5-4952-ab7f-620583014c7d",
   "metadata": {},
   "outputs": [],
   "source": []
  },
  {
   "cell_type": "markdown",
   "id": "31e6542d-698b-4295-bb1c-9e95ad48fb3a",
   "metadata": {},
   "source": [
    "## 7. Order Frequency Flag\n",
    "In this section, I’m using the `days_since_prior_order` column to create an order frequency flag. This will help categorize customers based on how often they place orders."
   ]
  },
  {
   "cell_type": "code",
   "execution_count": 101,
   "id": "a24b15d6-7f2f-41b1-8350-1a00a9f0921b",
   "metadata": {},
   "outputs": [
    {
     "name": "stdout",
     "output_type": "stream",
     "text": [
      "   user_id  median_days_since_order   order_frequency_flag\n",
      "0        1                     20.5  Non-Frequent Customer\n",
      "1        1                     20.5  Non-Frequent Customer\n",
      "2        1                     20.5  Non-Frequent Customer\n",
      "3        1                     20.5  Non-Frequent Customer\n",
      "4        1                     20.5  Non-Frequent Customer\n",
      "5        1                     20.5  Non-Frequent Customer\n",
      "6        1                     20.5  Non-Frequent Customer\n",
      "7        1                     20.5  Non-Frequent Customer\n",
      "8        1                     20.5  Non-Frequent Customer\n",
      "9        1                     20.5  Non-Frequent Customer\n"
     ]
    }
   ],
   "source": [
    "# Step 1: Calculate median days_since_prior_order per user\n",
    "user_frequency = filtered_data.groupby('user_id')['days_since_prior_order'].median().reset_index()\n",
    "user_frequency.rename(columns={'days_since_prior_order': 'median_days_since_order'}, inplace=True)\n",
    "\n",
    "# Step 2: Merge median days_since_prior_order back into the dataset\n",
    "filtered_data = filtered_data.merge(user_frequency, on='user_id', how='left')\n",
    "\n",
    "# Step 3: Create an order frequency flag\n",
    "filtered_data['order_frequency_flag'] = 'Non-Frequent Customer'\n",
    "filtered_data.loc[filtered_data['median_days_since_order'] <= 20, 'order_frequency_flag'] = 'Regular Customer'\n",
    "filtered_data.loc[filtered_data['median_days_since_order'] <= 10, 'order_frequency_flag'] = 'Frequent Customer'\n",
    "\n",
    "# Check the results\n",
    "print(filtered_data[['user_id', 'median_days_since_order', 'order_frequency_flag']].head(10))"
   ]
  },
  {
   "cell_type": "markdown",
   "id": "3334d423-8d6c-41ba-b0d9-dd03bf8a268c",
   "metadata": {},
   "source": [
    "#### **Key Insights:**\n",
    "\n",
    "**1. Order Frequency Categories:**\n",
    "\\\n",
    "~ Customers are divided into three groups based on their ordering behavior:\n",
    "  - **Non-Frequent Customer**: Median days since prior order > 20.\n",
    "  - **Regular Customer**: Median days between 10 and 20.\n",
    "  - **Frequent Customer**: Median days <= 10.\n",
    "\n",
    "**2. Observations from the Data:**\n",
    "\\\n",
    "~ Most customers fall into the **Non-Frequent Customer** category, indicating they tend to place orders less frequently.\n",
    "\\\n",
    "~ **Regular Customers** and **Frequent Customers** make up a smaller portion of the dataset.\n",
    "\n",
    "**3. Implications for Targeting:**\n",
    "\\\n",
    "~ **Frequent Customers** could be targeted with loyalty programs or incentives to maintain their high engagement.\n",
    "\\\n",
    "~ **Regular Customers** might benefit from personalized reminders to encourage more frequent purchases.\n",
    "\\\n",
    "~ **Non-Frequent Customers** may respond well to discounts or promotions to bring them back into the platform."
   ]
  },
  {
   "cell_type": "code",
   "execution_count": null,
   "id": "3444fbdf-6e8f-495c-b8d1-b25c473be721",
   "metadata": {},
   "outputs": [],
   "source": []
  },
  {
   "cell_type": "markdown",
   "id": "b54f2d65-5573-4d9c-b62c-ec37a5d8c3cc",
   "metadata": {},
   "source": [
    "## 8. Analyze the Distribution of Order Frequency Flags\n",
    "Here’s how customers are distributed based on their ordering frequency:\n",
    "\n",
    "- **Frequent Customers**: 21,574,198 users (~62.3% of the dataset), meaning most customers place orders regularly, within 10 days.\n",
    "- **Regular Customers**: 7,215,912 users (~20.8% of the dataset), with orders placed every 10 to 20 days.\n",
    "- **Non-Frequent Customers**: 3,638,975 users (~16.9% of the dataset), showing that a smaller portion of customers take longer than 20 days to reorder.\n",
    "\n",
    "These insights give a clear picture of how often customers are engaging with the platform, which can be used to tailor marketing strategies for each group."
   ]
  },
  {
   "cell_type": "code",
   "execution_count": 104,
   "id": "d229f922-1913-4ae7-b571-f0a13a7d4afb",
   "metadata": {},
   "outputs": [
    {
     "name": "stdout",
     "output_type": "stream",
     "text": [
      "order_frequency_flag\n",
      "Frequent Customer        21574198\n",
      "Regular Customer          7215912\n",
      "Non-Frequent Customer     3638975\n",
      "Name: count, dtype: int64\n"
     ]
    }
   ],
   "source": [
    "# Analyze the distribution of order frequency flags\n",
    "order_frequency_counts = filtered_data['order_frequency_flag'].value_counts()\n",
    "\n",
    "# Display the results\n",
    "print(order_frequency_counts)"
   ]
  },
  {
   "cell_type": "markdown",
   "id": "010ba2b4-7e28-4b28-a173-3a05e4d72b3e",
   "metadata": {},
   "source": [
    "#### **Key Insights:**\n",
    "\n",
    "1. **Frequent Customers**:\n",
    "\\\n",
    "   ~ This is the largest group (~62.3%) and represents customers who engage most actively with the platform.\n",
    "\\\n",
    "   ~ Strategies like loyalty rewards could be effective to maintain their high engagement.\n",
    "\n",
    "3. **Regular Customers**:\n",
    "\\\n",
    "   ~ This group (~20.8%) orders less frequently but still consistently.\n",
    "\\\n",
    "   ~ Personalized recommendations or reminders might encourage them to order more often.\n",
    "\n",
    "5. **Non-Frequent Customers**:\n",
    "\\\n",
    "   ~ The smallest group (~16.9%) represents customers who are less engaged.\n",
    "\\\n",
    "   ~ Targeted discounts or re-engagement campaigns could help bring them back to the platform.\n",
    "\n",
    "7. **Actionable Insights**:\n",
    "\\\n",
    "   ~ These distributions provide a solid foundation for segmenting and tailoring marketing strategies to boost customer engagement across all groups."
   ]
  },
  {
   "cell_type": "code",
   "execution_count": null,
   "id": "3680e923-cf86-4e4f-9b41-202d765a9a70",
   "metadata": {},
   "outputs": [],
   "source": []
  },
  {
   "cell_type": "markdown",
   "id": "41dc2380-1a85-4d52-97ff-85785a37d7af",
   "metadata": {},
   "source": [
    "## 9. Summary\n",
    "\n",
    "In this task, I focused on grouping and aggregating data from the Instacart dataset to better understand customer behavior. Here’s what I worked on:\n",
    "\n",
    "1. **Grouping and Aggregating Data**:\n",
    "\\\n",
    "   ~ I analyzed ordering patterns across departments by calculating the average order number.\n",
    "\n",
    "3. **Loyalty Flags**:\n",
    "\\\n",
    "   ~ I classified customers into three groups: **Loyal Customers**, **Regular Customers**, and **New Customers**, based on their total number of orders.\n",
    "\n",
    "4. **Spending Habits**:\n",
    "\\\n",
    "   ~ I looked into spending patterns across loyalty groups. Most customers were identified as low spenders, with only a small portion being high spenders.\n",
    "\n",
    "5. **Spending Flags**:\n",
    "\\\n",
    "   ~ I created flags to classify users as **Low Spenders** or **High Spenders** based on their average spending. Almost all customers were categorized as low spenders.\n",
    "\n",
    "6. **Order Frequency Flags**:\n",
    "\\\n",
    "   ~ I categorized customers into **Frequent**, **Regular**, or **Non-Frequent Customers** using the median `days_since_prior_order`. Most users were frequent customers, placing orders within 10 days.\n",
    "\n",
    "7. **Key Insights**:\n",
    "\\\n",
    "   ~ These findings help highlight customer behavior and provide valuable insights for targeted marketing strategies. For example, Instacart could focus on budget-friendly promotions for low spenders or personalized loyalty programs for frequent customers.\n",
    "\n",
    "This notebook is polished, structured, and ready for use in the final project report."
   ]
  },
  {
   "cell_type": "code",
   "execution_count": null,
   "id": "fb47236b-c8a0-4cd6-9da7-13f266529296",
   "metadata": {},
   "outputs": [],
   "source": []
  },
  {
   "cell_type": "markdown",
   "id": "a5bea7af-4ddc-4725-8b59-ef689496fcc6",
   "metadata": {},
   "source": [
    "## 10. Export Data"
   ]
  },
  {
   "cell_type": "code",
   "execution_count": 322,
   "id": "66f736be-0320-42ba-b8f4-d5a349d61d0c",
   "metadata": {},
   "outputs": [],
   "source": [
    "# Export the dataset\n",
    "merged_orders_products.to_pickle(\n",
    "    r\"D:\\YVC\\Data Analytics (CF)\\Python Fundamentals for Data Analysts\\Instacart Basket Analysis\\02 Data\\Prepared Data\\4.8_updated_orders_products.pkl\"\n",
    ")"
   ]
  },
  {
   "cell_type": "code",
   "execution_count": null,
   "id": "3d9dd051-fa7e-4f19-a730-31a9162ee994",
   "metadata": {},
   "outputs": [],
   "source": []
  }
 ],
 "metadata": {
  "kernelspec": {
   "display_name": "Python [conda env:base] *",
   "language": "python",
   "name": "conda-base-py"
  },
  "language_info": {
   "codemirror_mode": {
    "name": "ipython",
    "version": 3
   },
   "file_extension": ".py",
   "mimetype": "text/x-python",
   "name": "python",
   "nbconvert_exporter": "python",
   "pygments_lexer": "ipython3",
   "version": "3.12.8"
  }
 },
 "nbformat": 4,
 "nbformat_minor": 5
}
