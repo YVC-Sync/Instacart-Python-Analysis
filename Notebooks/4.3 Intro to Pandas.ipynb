{
 "cells": [
  {
   "cell_type": "markdown",
   "id": "559e2d45-77af-45e9-9a6a-1cdc5747b7c1",
   "metadata": {},
   "source": [
    "## Contents\n",
    "1. Install Required Libraries\n",
    "2. Import Libraries into Your Notebook\n",
    "3. Importing the Data\n",
    "4. Check the Data\n",
    "5. Import the products.csv File\n",
    "6. Explore the Dataframes\n",
    "7. Clean the Data (Optional but Recommended)\n",
    "8. Export Cleaned Data"
   ]
  },
  {
   "cell_type": "markdown",
   "id": "9107745a-2952-4daf-b913-6b07ba2e174e",
   "metadata": {},
   "source": [
    "# Install Required Libraries"
   ]
  },
  {
   "cell_type": "code",
   "execution_count": 2,
   "id": "a5867517-8988-46ef-8e4e-cd0ce97f6384",
   "metadata": {},
   "outputs": [
    {
     "name": "stdout",
     "output_type": "stream",
     "text": [
      "Requirement already satisfied: pandas in d:\\users\\ripple\\anaconda3\\lib\\site-packages (2.2.2)\n",
      "Requirement already satisfied: numpy in d:\\users\\ripple\\anaconda3\\lib\\site-packages (1.26.4)\n",
      "Requirement already satisfied: python-dateutil>=2.8.2 in d:\\users\\ripple\\anaconda3\\lib\\site-packages (from pandas) (2.9.0.post0)\n",
      "Requirement already satisfied: pytz>=2020.1 in d:\\users\\ripple\\anaconda3\\lib\\site-packages (from pandas) (2024.1)\n",
      "Requirement already satisfied: tzdata>=2022.7 in d:\\users\\ripple\\anaconda3\\lib\\site-packages (from pandas) (2023.3)\n",
      "Requirement already satisfied: six>=1.5 in d:\\users\\ripple\\anaconda3\\lib\\site-packages (from python-dateutil>=2.8.2->pandas) (1.16.0)\n"
     ]
    }
   ],
   "source": [
    "!pip install pandas numpy"
   ]
  },
  {
   "cell_type": "markdown",
   "id": "b5000fd5-5581-4af7-a5a4-b1d47691588f",
   "metadata": {},
   "source": [
    "# Import Libraries into Your Notebook"
   ]
  },
  {
   "cell_type": "code",
   "execution_count": 5,
   "id": "9190563e-a5ed-43cf-86da-e21cc4c0ba24",
   "metadata": {},
   "outputs": [],
   "source": [
    "import pandas as pd\n",
    "import numpy as np\n",
    "import os"
   ]
  },
  {
   "cell_type": "markdown",
   "id": "3c60435e-be5a-4ff1-94ac-d22ee35607bd",
   "metadata": {},
   "source": [
    "# Importing the Data"
   ]
  },
  {
   "cell_type": "code",
   "execution_count": 22,
   "id": "1014c3ed-fb8b-4d7c-b4e1-aa594ed54f62",
   "metadata": {},
   "outputs": [],
   "source": [
    "# Set Up the Folder Path\n",
    "path = r'C:\\Users\\Ripple\\Desktop\\YVC\\Data Analytics (CF)\\Python Fundamentals for Data Analysts\\4.3 Instacart Basket Analysis'"
   ]
  },
  {
   "cell_type": "code",
   "execution_count": null,
   "id": "dbbd6b06-7d16-48a7-937f-cd645ff7e266",
   "metadata": {},
   "outputs": [],
   "source": [
    "# Import the orders.csv File\n",
    "orders = pd.read_csv(r'C:\\Users\\Ripple\\Desktop\\YVC\\Data Analytics (CF)\\Python Fundamentals for Data Analysts\\4.3 Instacart Basket Analysis\\Original Data\\orders.csv')"
   ]
  },
  {
   "cell_type": "code",
   "execution_count": 18,
   "id": "b0e65313-6cef-4809-9456-ba7ae88d2bc7",
   "metadata": {},
   "outputs": [],
   "source": [
    "# Import the products.csv File\n",
    "orders = pd.read_csv(os.path.join(path, 'Original Data', 'orders.csv'))"
   ]
  },
  {
   "cell_type": "markdown",
   "id": "81d728a3-fbc4-44b7-b495-8d62393e2047",
   "metadata": {},
   "source": [
    "# Check the Data"
   ]
  },
  {
   "cell_type": "code",
   "execution_count": 25,
   "id": "4dcf60d2-0715-45cc-8b93-e28a6b956aff",
   "metadata": {},
   "outputs": [
    {
     "data": {
      "text/html": [
       "<div>\n",
       "<style scoped>\n",
       "    .dataframe tbody tr th:only-of-type {\n",
       "        vertical-align: middle;\n",
       "    }\n",
       "\n",
       "    .dataframe tbody tr th {\n",
       "        vertical-align: top;\n",
       "    }\n",
       "\n",
       "    .dataframe thead th {\n",
       "        text-align: right;\n",
       "    }\n",
       "</style>\n",
       "<table border=\"1\" class=\"dataframe\">\n",
       "  <thead>\n",
       "    <tr style=\"text-align: right;\">\n",
       "      <th></th>\n",
       "      <th>order_id</th>\n",
       "      <th>user_id</th>\n",
       "      <th>eval_set</th>\n",
       "      <th>order_number</th>\n",
       "      <th>order_dow</th>\n",
       "      <th>order_hour_of_day</th>\n",
       "      <th>days_since_prior_order</th>\n",
       "    </tr>\n",
       "  </thead>\n",
       "  <tbody>\n",
       "    <tr>\n",
       "      <th>0</th>\n",
       "      <td>2539329</td>\n",
       "      <td>1</td>\n",
       "      <td>prior</td>\n",
       "      <td>1</td>\n",
       "      <td>2</td>\n",
       "      <td>8</td>\n",
       "      <td>NaN</td>\n",
       "    </tr>\n",
       "    <tr>\n",
       "      <th>1</th>\n",
       "      <td>2398795</td>\n",
       "      <td>1</td>\n",
       "      <td>prior</td>\n",
       "      <td>2</td>\n",
       "      <td>3</td>\n",
       "      <td>7</td>\n",
       "      <td>15.0</td>\n",
       "    </tr>\n",
       "    <tr>\n",
       "      <th>2</th>\n",
       "      <td>473747</td>\n",
       "      <td>1</td>\n",
       "      <td>prior</td>\n",
       "      <td>3</td>\n",
       "      <td>3</td>\n",
       "      <td>12</td>\n",
       "      <td>21.0</td>\n",
       "    </tr>\n",
       "    <tr>\n",
       "      <th>3</th>\n",
       "      <td>2254736</td>\n",
       "      <td>1</td>\n",
       "      <td>prior</td>\n",
       "      <td>4</td>\n",
       "      <td>4</td>\n",
       "      <td>7</td>\n",
       "      <td>29.0</td>\n",
       "    </tr>\n",
       "    <tr>\n",
       "      <th>4</th>\n",
       "      <td>431534</td>\n",
       "      <td>1</td>\n",
       "      <td>prior</td>\n",
       "      <td>5</td>\n",
       "      <td>4</td>\n",
       "      <td>15</td>\n",
       "      <td>28.0</td>\n",
       "    </tr>\n",
       "  </tbody>\n",
       "</table>\n",
       "</div>"
      ],
      "text/plain": [
       "   order_id  user_id eval_set  order_number  order_dow  order_hour_of_day  \\\n",
       "0   2539329        1    prior             1          2                  8   \n",
       "1   2398795        1    prior             2          3                  7   \n",
       "2    473747        1    prior             3          3                 12   \n",
       "3   2254736        1    prior             4          4                  7   \n",
       "4    431534        1    prior             5          4                 15   \n",
       "\n",
       "   days_since_prior_order  \n",
       "0                     NaN  \n",
       "1                    15.0  \n",
       "2                    21.0  \n",
       "3                    29.0  \n",
       "4                    28.0  "
      ]
     },
     "execution_count": 25,
     "metadata": {},
     "output_type": "execute_result"
    }
   ],
   "source": [
    "# Display the first 5 rows\n",
    "orders.head()"
   ]
  },
  {
   "cell_type": "code",
   "execution_count": 27,
   "id": "b30b6ff4-f889-4d4f-af33-8ec39d145525",
   "metadata": {},
   "outputs": [
    {
     "name": "stdout",
     "output_type": "stream",
     "text": [
      "<class 'pandas.core.frame.DataFrame'>\n",
      "RangeIndex: 3421083 entries, 0 to 3421082\n",
      "Data columns (total 7 columns):\n",
      " #   Column                  Dtype  \n",
      "---  ------                  -----  \n",
      " 0   order_id                int64  \n",
      " 1   user_id                 int64  \n",
      " 2   eval_set                object \n",
      " 3   order_number            int64  \n",
      " 4   order_dow               int64  \n",
      " 5   order_hour_of_day       int64  \n",
      " 6   days_since_prior_order  float64\n",
      "dtypes: float64(1), int64(5), object(1)\n",
      "memory usage: 182.7+ MB\n"
     ]
    }
   ],
   "source": [
    "# quick summary of the dataframe\n",
    "orders.info()"
   ]
  },
  {
   "cell_type": "code",
   "execution_count": 29,
   "id": "862fee23-ccd3-40bd-8cf7-db897766a94a",
   "metadata": {},
   "outputs": [
    {
     "data": {
      "text/plain": [
       "Index(['order_id', 'user_id', 'eval_set', 'order_number', 'order_dow',\n",
       "       'order_hour_of_day', 'days_since_prior_order'],\n",
       "      dtype='object')"
      ]
     },
     "execution_count": 29,
     "metadata": {},
     "output_type": "execute_result"
    }
   ],
   "source": [
    "# look at only the column names\n",
    "orders.columns"
   ]
  },
  {
   "cell_type": "markdown",
   "id": "e2b1f22f-430d-41df-ac8c-583ea273ccb4",
   "metadata": {},
   "source": [
    "# Import the products.csv File"
   ]
  },
  {
   "cell_type": "code",
   "execution_count": 32,
   "id": "87ea9dca-09ce-4116-9114-0d481be0a463",
   "metadata": {},
   "outputs": [],
   "source": [
    "# Import the products.csv File\n",
    "products = pd.read_csv(os.path.join(path, 'Original Data', 'products.csv'))"
   ]
  },
  {
   "cell_type": "code",
   "execution_count": 34,
   "id": "a1178fbf-d88c-41be-b44a-c52e59cef454",
   "metadata": {},
   "outputs": [
    {
     "data": {
      "text/html": [
       "<div>\n",
       "<style scoped>\n",
       "    .dataframe tbody tr th:only-of-type {\n",
       "        vertical-align: middle;\n",
       "    }\n",
       "\n",
       "    .dataframe tbody tr th {\n",
       "        vertical-align: top;\n",
       "    }\n",
       "\n",
       "    .dataframe thead th {\n",
       "        text-align: right;\n",
       "    }\n",
       "</style>\n",
       "<table border=\"1\" class=\"dataframe\">\n",
       "  <thead>\n",
       "    <tr style=\"text-align: right;\">\n",
       "      <th></th>\n",
       "      <th>product_id</th>\n",
       "      <th>product_name</th>\n",
       "      <th>aisle_id</th>\n",
       "      <th>department_id</th>\n",
       "      <th>prices</th>\n",
       "    </tr>\n",
       "  </thead>\n",
       "  <tbody>\n",
       "    <tr>\n",
       "      <th>0</th>\n",
       "      <td>1</td>\n",
       "      <td>Chocolate Sandwich Cookies</td>\n",
       "      <td>61</td>\n",
       "      <td>19</td>\n",
       "      <td>5.8</td>\n",
       "    </tr>\n",
       "    <tr>\n",
       "      <th>1</th>\n",
       "      <td>2</td>\n",
       "      <td>All-Seasons Salt</td>\n",
       "      <td>104</td>\n",
       "      <td>13</td>\n",
       "      <td>9.3</td>\n",
       "    </tr>\n",
       "    <tr>\n",
       "      <th>2</th>\n",
       "      <td>3</td>\n",
       "      <td>Robust Golden Unsweetened Oolong Tea</td>\n",
       "      <td>94</td>\n",
       "      <td>7</td>\n",
       "      <td>4.5</td>\n",
       "    </tr>\n",
       "    <tr>\n",
       "      <th>3</th>\n",
       "      <td>4</td>\n",
       "      <td>Smart Ones Classic Favorites Mini Rigatoni Wit...</td>\n",
       "      <td>38</td>\n",
       "      <td>1</td>\n",
       "      <td>10.5</td>\n",
       "    </tr>\n",
       "    <tr>\n",
       "      <th>4</th>\n",
       "      <td>5</td>\n",
       "      <td>Green Chile Anytime Sauce</td>\n",
       "      <td>5</td>\n",
       "      <td>13</td>\n",
       "      <td>4.3</td>\n",
       "    </tr>\n",
       "  </tbody>\n",
       "</table>\n",
       "</div>"
      ],
      "text/plain": [
       "   product_id                                       product_name  aisle_id  \\\n",
       "0           1                         Chocolate Sandwich Cookies        61   \n",
       "1           2                                   All-Seasons Salt       104   \n",
       "2           3               Robust Golden Unsweetened Oolong Tea        94   \n",
       "3           4  Smart Ones Classic Favorites Mini Rigatoni Wit...        38   \n",
       "4           5                          Green Chile Anytime Sauce         5   \n",
       "\n",
       "   department_id  prices  \n",
       "0             19     5.8  \n",
       "1             13     9.3  \n",
       "2              7     4.5  \n",
       "3              1    10.5  \n",
       "4             13     4.3  "
      ]
     },
     "execution_count": 34,
     "metadata": {},
     "output_type": "execute_result"
    }
   ],
   "source": [
    "# Display the first 5 rows\n",
    "products.head()"
   ]
  },
  {
   "cell_type": "code",
   "execution_count": 36,
   "id": "1c82a033-d6ba-4de5-b59e-e5878c23d2fc",
   "metadata": {},
   "outputs": [
    {
     "name": "stdout",
     "output_type": "stream",
     "text": [
      "<class 'pandas.core.frame.DataFrame'>\n",
      "RangeIndex: 49693 entries, 0 to 49692\n",
      "Data columns (total 5 columns):\n",
      " #   Column         Non-Null Count  Dtype  \n",
      "---  ------         --------------  -----  \n",
      " 0   product_id     49693 non-null  int64  \n",
      " 1   product_name   49677 non-null  object \n",
      " 2   aisle_id       49693 non-null  int64  \n",
      " 3   department_id  49693 non-null  int64  \n",
      " 4   prices         49693 non-null  float64\n",
      "dtypes: float64(1), int64(3), object(1)\n",
      "memory usage: 1.9+ MB\n"
     ]
    }
   ],
   "source": [
    "# Display the structure of the dataframe\n",
    "products.info()"
   ]
  },
  {
   "cell_type": "markdown",
   "id": "3578cd9a-dd5d-44c5-bfb2-1d598e281d24",
   "metadata": {},
   "source": [
    "#  Explore the Dataframes"
   ]
  },
  {
   "cell_type": "code",
   "execution_count": 47,
   "id": "b8837a82-76fa-48ba-8efd-6ef4d2659a78",
   "metadata": {},
   "outputs": [
    {
     "name": "stdout",
     "output_type": "stream",
     "text": [
      "Orders shape: (3421083, 7)\n",
      "Products shape: (49693, 5)\n"
     ]
    }
   ],
   "source": [
    "# Check the Dimensions: .shape: Tells us the size of each dataframe (rows, columns)\n",
    "print(\"Orders shape:\", orders.shape)\n",
    "print(\"Products shape:\", products.shape)"
   ]
  },
  {
   "cell_type": "code",
   "execution_count": 49,
   "id": "fc5e630c-2509-4e70-9886-797bfc2dc49c",
   "metadata": {},
   "outputs": [
    {
     "name": "stdout",
     "output_type": "stream",
     "text": [
      "Orders columns: Index(['order_id', 'user_id', 'eval_set', 'order_number', 'order_dow',\n",
      "       'order_hour_of_day', 'days_since_prior_order'],\n",
      "      dtype='object')\n",
      "Products columns: Index(['product_id', 'product_name', 'aisle_id', 'department_id', 'prices'], dtype='object')\n"
     ]
    }
   ],
   "source": [
    "# Column Names: List all column names to get an overview of the variables\n",
    "print(\"Orders columns:\", orders.columns)\n",
    "print(\"Products columns:\", products.columns)\n",
    "\n",
    "#.columns: Lists all the column names so we know what data is available."
   ]
  },
  {
   "cell_type": "code",
   "execution_count": 51,
   "id": "4ae785cf-fb5d-4c5e-b654-f678606ef8b2",
   "metadata": {},
   "outputs": [
    {
     "name": "stdout",
     "output_type": "stream",
     "text": [
      "Orders statistics:\n",
      "           order_id       user_id  order_number     order_dow  \\\n",
      "count  3.421083e+06  3.421083e+06  3.421083e+06  3.421083e+06   \n",
      "mean   1.710542e+06  1.029782e+05  1.715486e+01  2.776219e+00   \n",
      "std    9.875817e+05  5.953372e+04  1.773316e+01  2.046829e+00   \n",
      "min    1.000000e+00  1.000000e+00  1.000000e+00  0.000000e+00   \n",
      "25%    8.552715e+05  5.139400e+04  5.000000e+00  1.000000e+00   \n",
      "50%    1.710542e+06  1.026890e+05  1.100000e+01  3.000000e+00   \n",
      "75%    2.565812e+06  1.543850e+05  2.300000e+01  5.000000e+00   \n",
      "max    3.421083e+06  2.062090e+05  1.000000e+02  6.000000e+00   \n",
      "\n",
      "       order_hour_of_day  days_since_prior_order  \n",
      "count       3.421083e+06            3.214874e+06  \n",
      "mean        1.345202e+01            1.111484e+01  \n",
      "std         4.226088e+00            9.206737e+00  \n",
      "min         0.000000e+00            0.000000e+00  \n",
      "25%         1.000000e+01            4.000000e+00  \n",
      "50%         1.300000e+01            7.000000e+00  \n",
      "75%         1.600000e+01            1.500000e+01  \n",
      "max         2.300000e+01            3.000000e+01  \n",
      "\n",
      "Products statistics:\n",
      "         product_id      aisle_id  department_id        prices\n",
      "count  49693.000000  49693.000000   49693.000000  49693.000000\n",
      "mean   24844.345139     67.770249      11.728433      9.994136\n",
      "std    14343.717401     38.316774       5.850282    453.519686\n",
      "min        1.000000      1.000000       1.000000      1.000000\n",
      "25%    12423.000000     35.000000       7.000000      4.100000\n",
      "50%    24845.000000     69.000000      13.000000      7.100000\n",
      "75%    37265.000000    100.000000      17.000000     11.200000\n",
      "max    49688.000000    134.000000      21.000000  99999.000000\n"
     ]
    }
   ],
   "source": [
    "# Descriptive Statistics: Generate summary statistics for numeric columns\n",
    "print(\"Orders statistics:\")\n",
    "print(orders.describe())\n",
    "\n",
    "print(\"\\nProducts statistics:\")\n",
    "print(products.describe())\n",
    "\n",
    "# .describe(): Summarizes numeric columns, showing stats like mean, min, max, etc."
   ]
  },
  {
   "cell_type": "code",
   "execution_count": 53,
   "id": "4e7983b5-9562-4c97-8fb4-26e68a6e7bc5",
   "metadata": {},
   "outputs": [
    {
     "name": "stdout",
     "output_type": "stream",
     "text": [
      "First rows of orders:\n",
      "   order_id  user_id eval_set  order_number  order_dow  order_hour_of_day  \\\n",
      "0   2539329        1    prior             1          2                  8   \n",
      "1   2398795        1    prior             2          3                  7   \n",
      "2    473747        1    prior             3          3                 12   \n",
      "3   2254736        1    prior             4          4                  7   \n",
      "4    431534        1    prior             5          4                 15   \n",
      "\n",
      "   days_since_prior_order  \n",
      "0                     NaN  \n",
      "1                    15.0  \n",
      "2                    21.0  \n",
      "3                    29.0  \n",
      "4                    28.0  \n",
      "\n",
      "Last rows of products:\n",
      "       product_id                                product_name  aisle_id  \\\n",
      "49688       49684   Vodka, Triple Distilled, Twist of Vanilla       124   \n",
      "49689       49685          En Croute Roast Hazelnut Cranberry        42   \n",
      "49690       49686                            Artisan Baguette       112   \n",
      "49691       49687  Smartblend Healthy Metabolism Dry Cat Food        41   \n",
      "49692       49688                      Fresh Foaming Cleanser        73   \n",
      "\n",
      "       department_id  prices  \n",
      "49688              5     5.3  \n",
      "49689              1     3.1  \n",
      "49690              3     7.8  \n",
      "49691              8     4.7  \n",
      "49692             11    13.5  \n"
     ]
    }
   ],
   "source": [
    "# First and Last Rows: Display the first and last rows of each dataframe to understand the data distribution\n",
    "print(\"First rows of orders:\")\n",
    "print(orders.head())\n",
    "\n",
    "print(\"\\nLast rows of products:\")\n",
    "print(products.tail())\n",
    "\n",
    "# .head() and .tail(): Shows the first and last rows to preview the data."
   ]
  },
  {
   "cell_type": "markdown",
   "id": "04206f6e-5d6f-47e1-9385-6f462de6a59b",
   "metadata": {},
   "source": [
    "# Clean the Data (Optional but Recommended)"
   ]
  },
  {
   "cell_type": "code",
   "execution_count": 56,
   "id": "8cd59ac1-f30c-4c08-b8de-4dc9091563f4",
   "metadata": {},
   "outputs": [
    {
     "name": "stdout",
     "output_type": "stream",
     "text": [
      "Missing values in orders:\n",
      "order_id                       0\n",
      "user_id                        0\n",
      "eval_set                       0\n",
      "order_number                   0\n",
      "order_dow                      0\n",
      "order_hour_of_day              0\n",
      "days_since_prior_order    206209\n",
      "dtype: int64\n",
      "\n",
      "Missing values in products:\n",
      "product_id        0\n",
      "product_name     16\n",
      "aisle_id          0\n",
      "department_id     0\n",
      "prices            0\n",
      "dtype: int64\n"
     ]
    }
   ],
   "source": [
    "# Check for Missing Values: Use .isnull() and .sum() to identify columns with missing data\n",
    "\n",
    "print(\"Missing values in orders:\")\n",
    "print(orders.isnull().sum())\n",
    "\n",
    "print(\"\\nMissing values in products:\")\n",
    "print(products.isnull().sum())"
   ]
  },
  {
   "cell_type": "code",
   "execution_count": 58,
   "id": "6a8cc9bf-054f-4e4c-8425-aa4c094e51c1",
   "metadata": {},
   "outputs": [],
   "source": [
    "# Drop Unnecessary Columns: If there are any columns you don’t need, you can drop them using .drop()\n",
    "\n",
    "# Example: Dropping a column named 'eval_set' in the orders dataframe\n",
    "orders = orders.drop(columns=['eval_set'], errors='ignore')"
   ]
  },
  {
   "cell_type": "code",
   "execution_count": 60,
   "id": "b02f6267-532a-4de0-be64-a246ed76f292",
   "metadata": {},
   "outputs": [],
   "source": [
    "# Save Cleaned Data (Optional): Save your cleaned dataframes to your Prepared Data folder\n",
    "# Save the orders dataframe\n",
    "orders.to_csv(os.path.join(path, 'Prepared Data', 'cleaned_orders.csv'), index=False)\n",
    "\n",
    "# Save the products dataframe\n",
    "products.to_csv(os.path.join(path, 'Prepared Data', 'cleaned_products.csv'), index=False)"
   ]
  },
  {
   "cell_type": "code",
   "execution_count": null,
   "id": "48ea4576-de5b-463c-a16f-de0c8b42b8c0",
   "metadata": {},
   "outputs": [],
   "source": []
  }
 ],
 "metadata": {
  "kernelspec": {
   "display_name": "Python [conda env:base] *",
   "language": "python",
   "name": "conda-base-py"
  },
  "language_info": {
   "codemirror_mode": {
    "name": "ipython",
    "version": 3
   },
   "file_extension": ".py",
   "mimetype": "text/x-python",
   "name": "python",
   "nbconvert_exporter": "python",
   "pygments_lexer": "ipython3",
   "version": "3.12.8"
  }
 },
 "nbformat": 4,
 "nbformat_minor": 5
}
