{
 "cells": [
  {
   "cell_type": "markdown",
   "id": "efba2ea7-da89-47a1-91f7-f638ccaca0df",
   "metadata": {},
   "source": [
    "#### Table of Contents\n",
    "1. Original Data Folder\n",
    " - 1.1. Departments File\n",
    " - 1.2. Orders File\n",
    " - 1.3. Orders_Products_Combined File\n",
    " - 1.4. Orders_Products_Prior File\n",
    " - 1.5. Products File\n",
    "2. Prepared Data Folder\n",
    " - 2.1. Cleaned_Orders File\n",
    " - 2.2. Cleaned_Orders_with_Flags File\n",
    " - 2.3. Cleaned_Products File\n",
    " - 2.4. Merged_Orders_Products File\n",
    " - 2.5. Orders_Wrangled File\n",
    " - 2.6. Merged_Orders_Customers File\n",
    " - 2.7. Data Fixes\n",
    " 3. Rename Columns in Each Dataset"
   ]
  },
  {
   "cell_type": "markdown",
   "id": "25b2ff33-11f6-498f-a179-5e689f85845d",
   "metadata": {},
   "source": [
    "# Original Data Folder"
   ]
  },
  {
   "cell_type": "code",
   "execution_count": null,
   "id": "91a22a72-8a2e-4807-a31b-b3b765fdea78",
   "metadata": {},
   "outputs": [],
   "source": []
  },
  {
   "cell_type": "markdown",
   "id": "6328d916-1c15-4e7c-84c7-45ab655f47b9",
   "metadata": {},
   "source": [
    "## departments File"
   ]
  },
  {
   "cell_type": "code",
   "execution_count": 21,
   "id": "c90d2e81-35fa-4093-8061-7852079f0f1c",
   "metadata": {},
   "outputs": [
    {
     "name": "stdout",
     "output_type": "stream",
     "text": [
      "Departments:\n",
      "  department_id       1      2       3        4        5              6  \\\n",
      "0    department  frozen  other  bakery  produce  alcohol  international   \n",
      "\n",
      "           7     8                9  ...            12      13         14  \\\n",
      "0  beverages  pets  dry goods pasta  ...  meat seafood  pantry  breakfast   \n",
      "\n",
      "             15          16         17      18      19    20       21  \n",
      "0  canned goods  dairy eggs  household  babies  snacks  deli  missing  \n",
      "\n",
      "[1 rows x 22 columns]\n"
     ]
    }
   ],
   "source": [
    "import pandas as pd\n",
    "\n",
    "# Load the departments.csv file\n",
    "departments = pd.read_csv(\n",
    "    r'D:\\YVC\\Data Analytics (CF)\\Python Fundamentals for Data Analysts\\Instacart Basket Analysis\\02 Data\\Original Data\\departments.csv'\n",
    "    )\n",
    "\n",
    "# Display the first few rows\n",
    "print(\"Departments:\")\n",
    "print(departments.head())"
   ]
  },
  {
   "cell_type": "markdown",
   "id": "c4769933-37ae-42d3-8f2a-5efe185ab5c5",
   "metadata": {},
   "source": [
    "## orders File"
   ]
  },
  {
   "cell_type": "code",
   "execution_count": 45,
   "id": "0e57ff2e-35b2-4d20-803f-2418720de9ec",
   "metadata": {},
   "outputs": [
    {
     "name": "stdout",
     "output_type": "stream",
     "text": [
      "Orders:\n",
      "   order_id  user_id eval_set  order_number  order_day_of_week  \\\n",
      "0   2539329        1    prior             1                  2   \n",
      "1   2398795        1    prior             2                  3   \n",
      "2    473747        1    prior             3                  3   \n",
      "3   2254736        1    prior             4                  4   \n",
      "4    431534        1    prior             5                  4   \n",
      "\n",
      "   order_hour_of_day  days_since_prior_order  \n",
      "0                  8                     NaN  \n",
      "1                  7                    15.0  \n",
      "2                 12                    21.0  \n",
      "3                  7                    29.0  \n",
      "4                 15                    28.0  \n"
     ]
    }
   ],
   "source": [
    "# Load the departments.csv file\n",
    "orders = pd.read_csv(\n",
    "    r'D:\\YVC\\Data Analytics (CF)\\Python Fundamentals for Data Analysts\\Instacart Basket Analysis\\02 Data\\Original Data\\orders.csv'\n",
    "    )\n",
    "\n",
    "# Display the first few rows\n",
    "print(\"Orders:\")\n",
    "print(orders.head())"
   ]
  },
  {
   "cell_type": "markdown",
   "id": "5df4300c-e6e0-4c63-9a6b-1b30b0df81dc",
   "metadata": {},
   "source": [
    "## orders_products_combined File"
   ]
  },
  {
   "cell_type": "code",
   "execution_count": 47,
   "id": "684e5589-c708-42dd-a080-b345bcf2c7f4",
   "metadata": {},
   "outputs": [
    {
     "name": "stdout",
     "output_type": "stream",
     "text": [
      "Orders Products Combined:\n",
      "   order_id  user_id eval_set  order_number  order_day_of_week  \\\n",
      "0   2539329        1    prior             1                  2   \n",
      "1   2539329        1    prior             1                  2   \n",
      "2   2539329        1    prior             1                  2   \n",
      "3   2539329        1    prior             1                  2   \n",
      "4   2539329        1    prior             1                  2   \n",
      "\n",
      "   order_hour_of_day  days_since_prior_order  product_id  add_to_cart_order  \\\n",
      "0                  8                     NaN         196                  1   \n",
      "1                  8                     NaN       14084                  2   \n",
      "2                  8                     NaN       12427                  3   \n",
      "3                  8                     NaN       26088                  4   \n",
      "4                  8                     NaN       26405                  5   \n",
      "\n",
      "   reordered                             product_name  aisle_id  \\\n",
      "0          0                                     Soda        77   \n",
      "1          0  Organic Unsweetened Vanilla Almond Milk        91   \n",
      "2          0                      Original Beef Jerky        23   \n",
      "3          0               Aged White Cheddar Popcorn        23   \n",
      "4          0         XL Pick-A-Size Paper Towel Rolls        54   \n",
      "\n",
      "   department_id  prices _merge  \n",
      "0              7     9.0   both  \n",
      "1             16    12.5   both  \n",
      "2             19     4.4   both  \n",
      "3             19     4.7   both  \n",
      "4             17     1.0   both  \n"
     ]
    }
   ],
   "source": [
    "import pandas as pd\n",
    "\n",
    "# Load the orders_products_combined.csv file\n",
    "orders_products_combined = pd.read_csv(\n",
    "    r'D:\\YVC\\Data Analytics (CF)\\Python Fundamentals for Data Analysts\\Instacart Basket Analysis\\02 Data\\Original Data\\orders_products_combined.csv'\n",
    ")\n",
    "\n",
    "# Display the first few rows of each dataframe to confirm they are loaded correctly\n",
    "print(\"Orders Products Combined:\")\n",
    "print(orders_products_combined.head())"
   ]
  },
  {
   "cell_type": "markdown",
   "id": "52b842da-a103-4871-8c70-325720a24f29",
   "metadata": {},
   "source": [
    "## orders_products_prior File"
   ]
  },
  {
   "cell_type": "code",
   "execution_count": 26,
   "id": "ec7c75d1-edca-4d2e-8f31-05b88bf102f7",
   "metadata": {},
   "outputs": [
    {
     "name": "stdout",
     "output_type": "stream",
     "text": [
      "\n",
      "Orders Products Prior:\n",
      "   order_id  product_id  add_to_cart_order  reordered\n",
      "0         2       33120                  1          1\n",
      "1         2       28985                  2          1\n",
      "2         2        9327                  3          0\n",
      "3         2       45918                  4          1\n",
      "4         2       30035                  5          0\n"
     ]
    }
   ],
   "source": [
    "# Load the orders_products_prior.csv file\n",
    "orders_products_prior = pd.read_csv(\n",
    "    r'D:\\YVC\\Data Analytics (CF)\\Python Fundamentals for Data Analysts\\Instacart Basket Analysis\\02 Data\\Original Data\\orders_products_prior.csv'\n",
    ")\n",
    "\n",
    "print(\"\\nOrders Products Prior:\")\n",
    "print(orders_products_prior.head())"
   ]
  },
  {
   "cell_type": "markdown",
   "id": "52c5173e-8e3f-4aa6-a45e-b5af85719bfa",
   "metadata": {},
   "source": [
    "## products File"
   ]
  },
  {
   "cell_type": "code",
   "execution_count": 34,
   "id": "9e746c74-7616-47c7-bbce-ff8b8dea14d5",
   "metadata": {},
   "outputs": [
    {
     "name": "stdout",
     "output_type": "stream",
     "text": [
      "Products File:\n",
      "   product_id                                       product_name  aisle_id  \\\n",
      "0           1                         Chocolate Sandwich Cookies        61   \n",
      "1           2                                   All-Seasons Salt       104   \n",
      "2           3               Robust Golden Unsweetened Oolong Tea        94   \n",
      "3           4  Smart Ones Classic Favorites Mini Rigatoni Wit...        38   \n",
      "4           5                          Green Chile Anytime Sauce         5   \n",
      "\n",
      "   department_id  prices  \n",
      "0             19     5.8  \n",
      "1             13     9.3  \n",
      "2              7     4.5  \n",
      "3              1    10.5  \n",
      "4             13     4.3  \n"
     ]
    }
   ],
   "source": [
    "import pandas as pd\n",
    "\n",
    "# Define the file path\n",
    "file_path = r\"D:\\YVC\\Data Analytics (CF)\\Python Fundamentals for Data Analysts\\Instacart Basket Analysis\\02 Data\\Original Data\\products.csv\"\n",
    "\n",
    "# Load the CSV file\n",
    "products = pd.read_csv(file_path)\n",
    "\n",
    "# Display the first few rows\n",
    "print(\"Products File:\")\n",
    "print(products.head())"
   ]
  },
  {
   "cell_type": "code",
   "execution_count": null,
   "id": "4de2c09e-b248-492e-8dd9-d8136433f3ec",
   "metadata": {},
   "outputs": [],
   "source": []
  },
  {
   "cell_type": "markdown",
   "id": "5ecc6714-c735-43c5-b2f7-1ccee3dff302",
   "metadata": {},
   "source": [
    "# Prepared Data Folder"
   ]
  },
  {
   "cell_type": "markdown",
   "id": "69fc05c5-e8e8-45fc-b53f-7b5ac39805de",
   "metadata": {},
   "source": [
    "## cleaned_orders File"
   ]
  },
  {
   "cell_type": "code",
   "execution_count": 26,
   "id": "766aa7ca-ea8d-4e63-afda-463d714cf6c3",
   "metadata": {},
   "outputs": [
    {
     "name": "stdout",
     "output_type": "stream",
     "text": [
      "Cleaned Orders File:\n",
      "   order_id  user_id eval_set  order_number  orders_day_of_week  \\\n",
      "0   2539329        1    prior             1                   2   \n",
      "1   2398795        1    prior             2                   3   \n",
      "2    473747        1    prior             3                   3   \n",
      "3   2254736        1    prior             4                   4   \n",
      "4    431534        1    prior             5                   4   \n",
      "\n",
      "   order_hour_of_day  days_since_prior_order  \n",
      "0                  8                     NaN  \n",
      "1                  7                    15.0  \n",
      "2                 12                    21.0  \n",
      "3                  7                    29.0  \n",
      "4                 15                    28.0  \n"
     ]
    }
   ],
   "source": [
    "import pandas as pd\n",
    "\n",
    "# Define the file path\n",
    "file_path = r\"D:\\YVC\\Data Analytics (CF)\\Python Fundamentals for Data Analysts\\Instacart Basket Analysis\\02 Data\\Prepared Data\\cleaned_orders.csv\"\n",
    "\n",
    "# Load the CSV file\n",
    "cleaned_orders = pd.read_csv(file_path)\n",
    "\n",
    "# Display the first few rows\n",
    "print(\"Cleaned Orders File:\")\n",
    "print(cleaned_orders.head())"
   ]
  },
  {
   "cell_type": "markdown",
   "id": "7f613ac2-f78a-48c3-962f-4f6989da45cb",
   "metadata": {},
   "source": [
    "## cleaned_orders_with_flags File "
   ]
  },
  {
   "cell_type": "code",
   "execution_count": 49,
   "id": "9b63f6fb-765c-458a-845b-b8f086532542",
   "metadata": {},
   "outputs": [
    {
     "name": "stdout",
     "output_type": "stream",
     "text": [
      "Cleaned Orders with Flags File:\n",
      "   order_id  user_id eval_set  order_number  order_day_of_week  \\\n",
      "0   2539329        1    prior             1                  2   \n",
      "1   2398795        1    prior             2                  3   \n",
      "2    473747        1    prior             3                  3   \n",
      "3   2254736        1    prior             4                  4   \n",
      "4    431534        1    prior             5                  4   \n",
      "\n",
      "   order_hour_of_day  days_since_prior_order  first_time_order  \n",
      "0                  8                     NaN              True  \n",
      "1                  7                    15.0             False  \n",
      "2                 12                    21.0             False  \n",
      "3                  7                    29.0             False  \n",
      "4                 15                    28.0             False  \n"
     ]
    }
   ],
   "source": [
    "import pandas as pd\n",
    "\n",
    "# Define the file path\n",
    "file_path = r\"D:\\YVC\\Data Analytics (CF)\\Python Fundamentals for Data Analysts\\Instacart Basket Analysis\\02 Data\\Prepared Data\\cleaned_orders_with_flags.csv\"\n",
    "\n",
    "# Load the CSV file\n",
    "cleaned_orders_with_flags = pd.read_csv(file_path)\n",
    "\n",
    "# Display the first few rows\n",
    "print(\"Cleaned Orders with Flags File:\")\n",
    "print(cleaned_orders_with_flags.head())"
   ]
  },
  {
   "cell_type": "markdown",
   "id": "0dab505a-9936-4c1a-bef6-5f1fdfe46129",
   "metadata": {},
   "source": [
    "## cleaned_products File"
   ]
  },
  {
   "cell_type": "code",
   "execution_count": 46,
   "id": "43c61e39-1199-4692-93f5-02c3a879a8d5",
   "metadata": {},
   "outputs": [
    {
     "name": "stdout",
     "output_type": "stream",
     "text": [
      "Cleaned Products File:\n",
      "   product_id                                       product_name  aisle_id  \\\n",
      "0           1                         Chocolate Sandwich Cookies        61   \n",
      "1           2                                   All-Seasons Salt       104   \n",
      "2           3               Robust Golden Unsweetened Oolong Tea        94   \n",
      "3           4  Smart Ones Classic Favorites Mini Rigatoni Wit...        38   \n",
      "4           5                          Green Chile Anytime Sauce         5   \n",
      "\n",
      "   department_id  prices  \n",
      "0             19     5.8  \n",
      "1             13     9.3  \n",
      "2              7     4.5  \n",
      "3              1    10.5  \n",
      "4             13     4.3  \n"
     ]
    }
   ],
   "source": [
    "import pandas as pd\n",
    "\n",
    "# Define the file path\n",
    "file_path = r\"D:\\YVC\\Data Analytics (CF)\\Python Fundamentals for Data Analysts\\Instacart Basket Analysis\\02 Data\\Prepared Data\\cleaned_products.csv\"\n",
    "\n",
    "# Load the CSV file\n",
    "cleaned_products = pd.read_csv(file_path)\n",
    "\n",
    "# Display the first few rows\n",
    "print(\"Cleaned Products File:\")\n",
    "print(cleaned_products.head())"
   ]
  },
  {
   "cell_type": "markdown",
   "id": "744d76ed-0170-4052-9fe4-62207be8c5ed",
   "metadata": {},
   "source": [
    " ## merged_orders_products File"
   ]
  },
  {
   "cell_type": "code",
   "execution_count": 25,
   "id": "898321a2-37fc-46e0-a3be-38265b1d1df4",
   "metadata": {},
   "outputs": [
    {
     "name": "stdout",
     "output_type": "stream",
     "text": [
      "Merged Orders Products:\n",
      "   order_id  product_id  add_to_cart_order  reordered           product_name  \\\n",
      "0         2       33120                  1          1     Organic Egg Whites   \n",
      "1         2       28985                  2          1  Michigan Organic Kale   \n",
      "2         2        9327                  3          0          Garlic Powder   \n",
      "3         2       45918                  4          1         Coconut Butter   \n",
      "4         2       30035                  5          0      Natural Sweetener   \n",
      "\n",
      "   aisle_id  department_id  prices  \n",
      "0        86             16    11.3  \n",
      "1        83              4    13.4  \n",
      "2       104             13     3.6  \n",
      "3        19             13     8.4  \n",
      "4        17             13    13.7  \n"
     ]
    }
   ],
   "source": [
    "import pandas as pd\n",
    "\n",
    "# Load the merged_orders_products.csv file\n",
    "merged_orders_products = pd.read_csv(r'D:\\YVC\\Data Analytics (CF)\\Python Fundamentals for Data Analysts\\Instacart Basket Analysis\\02 Data\\Prepared Data\\merged_orders_products.csv')\n",
    "\n",
    "# Display the first few rows to confirm the data is loaded correctly\n",
    "print(\"Merged Orders Products:\")\n",
    "print(merged_orders_products.head())"
   ]
  },
  {
   "cell_type": "markdown",
   "id": "782fce74-d0a9-4532-8260-c24a3cce048c",
   "metadata": {},
   "source": [
    "## orders_wrangled File"
   ]
  },
  {
   "cell_type": "code",
   "execution_count": 51,
   "id": "08fc1d73-06a2-4d7e-8b5f-a06d45ed6898",
   "metadata": {},
   "outputs": [
    {
     "name": "stdout",
     "output_type": "stream",
     "text": [
      "Orders Wrangled File:\n",
      "   order_id  user_id eval_set  order_number  order_day_of_week  \\\n",
      "0   2539329        1    prior             1                  2   \n",
      "1   2398795        1    prior             2                  3   \n",
      "2    473747        1    prior             3                  3   \n",
      "3   2254736        1    prior             4                  4   \n",
      "4    431534        1    prior             5                  4   \n",
      "\n",
      "   order_hour_of_day  days_since_prior_order  \n",
      "0                  8                     NaN  \n",
      "1                  7                    15.0  \n",
      "2                 12                    21.0  \n",
      "3                  7                    29.0  \n",
      "4                 15                    28.0  \n"
     ]
    }
   ],
   "source": [
    "import pandas as pd\n",
    "\n",
    "# Define the file path\n",
    "file_path = r\"D:\\YVC\\Data Analytics (CF)\\Python Fundamentals for Data Analysts\\Instacart Basket Analysis\\02 Data\\Prepared Data\\orders_wrangled.csv\"\n",
    "\n",
    "# Load the CSV file\n",
    "orders_wrangled = pd.read_csv(file_path)\n",
    "\n",
    "# Display the first few rows\n",
    "print(\"Orders Wrangled File:\")\n",
    "print(orders_wrangled.head())"
   ]
  },
  {
   "cell_type": "markdown",
   "id": "4579532c-a18a-45e2-8e6c-6093419850c6",
   "metadata": {},
   "source": [
    "## merged_orders_customers"
   ]
  },
  {
   "cell_type": "code",
   "execution_count": 2,
   "id": "802f0d7f-3633-44f1-bbc3-fce198db564b",
   "metadata": {},
   "outputs": [
    {
     "name": "stdout",
     "output_type": "stream",
     "text": [
      "   order_id user_id eval_set  order_number  orders_day_of_week  \\\n",
      "0   2539329       1    prior             1                   2   \n",
      "1   2398795       1    prior             2                   3   \n",
      "2    473747       1    prior             3                   3   \n",
      "3   2254736       1    prior             4                   4   \n",
      "4    431534       1    prior             5                   4   \n",
      "\n",
      "   order_hour_of_day  days_since_prior_order  Surnam  Gender    STATE  Age  \\\n",
      "0                  8                     NaN  Nguyen  Female  Alabama   31   \n",
      "1                  7                    15.0  Nguyen  Female  Alabama   31   \n",
      "2                 12                    21.0  Nguyen  Female  Alabama   31   \n",
      "3                  7                    29.0  Nguyen  Female  Alabama   31   \n",
      "4                 15                    28.0  Nguyen  Female  Alabama   31   \n",
      "\n",
      "  date_joined  n_dependants fam_status  income  \n",
      "0  2019-02-17             3    married   40423  \n",
      "1  2019-02-17             3    married   40423  \n",
      "2  2019-02-17             3    married   40423  \n",
      "3  2019-02-17             3    married   40423  \n",
      "4  2019-02-17             3    married   40423  \n",
      "Index(['order_id', 'user_id', 'eval_set', 'order_number', 'orders_day_of_week',\n",
      "       'order_hour_of_day', 'days_since_prior_order', 'Surnam', 'Gender',\n",
      "       'STATE', 'Age', 'date_joined', 'n_dependants', 'fam_status', 'income'],\n",
      "      dtype='object')\n"
     ]
    }
   ],
   "source": [
    "import pandas as pd\n",
    "\n",
    "# Define the file path\n",
    "file_path = r\"D:\\YVC\\Data Analytics (CF)\\Python Fundamentals for Data Analysts\\Instacart Basket Analysis\\02 Data\\Prepared Data\\merged_orders_customers.pkl\"\n",
    "\n",
    "# Load the dataset in chunks\n",
    "chunk_size = 10000  # Adjust the chunk size based on your system's capacity\n",
    "chunks = pd.read_pickle(file_path)\n",
    "\n",
    "# Display the first few rows to verify the structure\n",
    "print(chunks.head())\n",
    "\n",
    "# Display column names to confirm the dataset's structure\n",
    "print(chunks.columns)"
   ]
  },
  {
   "cell_type": "markdown",
   "id": "9424d841-9362-4841-b832-40f9c51a25c6",
   "metadata": {},
   "source": [
    "# Data fix "
   ]
  },
  {
   "cell_type": "code",
   "execution_count": 7,
   "id": "1beb0e74-cb2b-41b3-9b4e-79557dee9fa0",
   "metadata": {},
   "outputs": [
    {
     "name": "stdout",
     "output_type": "stream",
     "text": [
      "   order_id  product_id  add_to_cart_order  reordered           product_name  \\\n",
      "0         2       33120                  1          1     Organic Egg Whites   \n",
      "1         2       28985                  2          1  Michigan Organic Kale   \n",
      "2         2        9327                  3          0          Garlic Powder   \n",
      "3         2       45918                  4          1         Coconut Butter   \n",
      "4         2       30035                  5          0      Natural Sweetener   \n",
      "\n",
      "   aisle_id  department_id  prices  \n",
      "0        86             16    11.3  \n",
      "1        83              4    13.4  \n",
      "2       104             13     3.6  \n",
      "3        19             13     8.4  \n",
      "4        17             13    13.7  \n"
     ]
    }
   ],
   "source": [
    "import pandas as pd\n",
    "\n",
    "file_path = r\"D:\\YVC\\Data Analytics (CF)\\Python Fundamentals for Data Analysts\\Instacart Basket Analysis\\02 Data\\Prepared Data\\merged_orders_products.csv\"\n",
    "\n",
    "df = pd.read_csv(file_path)\n",
    "\n",
    "# Display the first few rows to confirm the data is loaded\n",
    "print(df.head())"
   ]
  },
  {
   "cell_type": "code",
   "execution_count": 9,
   "id": "7c075ba5-4917-4826-bf08-ae23c09863d1",
   "metadata": {},
   "outputs": [
    {
     "name": "stdout",
     "output_type": "stream",
     "text": [
      "Index(['order_id', 'product_id', 'add_to_cart_order', 'reordered',\n",
      "       'product_name', 'aisle_id', 'department_id', 'prices'],\n",
      "      dtype='object')\n"
     ]
    }
   ],
   "source": [
    "print(df.columns)"
   ]
  },
  {
   "cell_type": "code",
   "execution_count": 11,
   "id": "91d0d389-10db-465a-b66a-61e0545ae061",
   "metadata": {},
   "outputs": [
    {
     "name": "stdout",
     "output_type": "stream",
     "text": [
      "   order_id  product_id  add_to_cart_order  reordered           product_name  \\\n",
      "0         2       33120                  1          1     Organic Egg Whites   \n",
      "1         2       28985                  2          1  Michigan Organic Kale   \n",
      "2         2        9327                  3          0          Garlic Powder   \n",
      "3         2       45918                  4          1         Coconut Butter   \n",
      "4         2       30035                  5          0      Natural Sweetener   \n",
      "\n",
      "   aisle_id  department_id  prices  \n",
      "0        86             16    11.3  \n",
      "1        83              4    13.4  \n",
      "2       104             13     3.6  \n",
      "3        19             13     8.4  \n",
      "4        17             13    13.7  \n"
     ]
    }
   ],
   "source": [
    "print(df.head())"
   ]
  },
  {
   "cell_type": "code",
   "execution_count": 13,
   "id": "c8806611-86e8-4f45-8cc0-d073919b82c3",
   "metadata": {},
   "outputs": [
    {
     "name": "stdout",
     "output_type": "stream",
     "text": [
      "Index(['order_id', 'user_id', 'eval_set', 'order_number', 'order_dow',\n",
      "       'order_hour_of_day', 'days_since_prior_order'],\n",
      "      dtype='object')\n"
     ]
    }
   ],
   "source": [
    "file_path = r\"D:\\YVC\\Data Analytics (CF)\\Python Fundamentals for Data Analysts\\Instacart Basket Analysis\\02 Data\\Prepared Data\\cleaned_orders.csv\"\n",
    "df_orders = pd.read_csv(file_path)\n",
    "\n",
    "print(df_orders.columns)"
   ]
  },
  {
   "cell_type": "code",
   "execution_count": 15,
   "id": "12fd9615-7fd8-44e6-9f2d-85d57e754403",
   "metadata": {},
   "outputs": [
    {
     "name": "stdout",
     "output_type": "stream",
     "text": [
      "Index(['order_id', 'user_id', 'eval_set', 'order_number', 'orders_day_of_week',\n",
      "       'order_hour_of_day', 'days_since_prior_order'],\n",
      "      dtype='object')\n"
     ]
    }
   ],
   "source": [
    "df_orders.rename(columns={'order_dow': 'orders_day_of_week'}, inplace=True)\n",
    "print(df_orders.columns)  # Check if the name has changed"
   ]
  },
  {
   "cell_type": "code",
   "execution_count": 17,
   "id": "5ae739c5-52b9-4986-ab88-bb15dece8ee5",
   "metadata": {},
   "outputs": [
    {
     "name": "stdout",
     "output_type": "stream",
     "text": [
      "File saved successfully!\n"
     ]
    }
   ],
   "source": [
    "file_path = r\"D:\\YVC\\Data Analytics (CF)\\Python Fundamentals for Data Analysts\\Instacart Basket Analysis\\02 Data\\Prepared Data\\cleaned_orders.csv\"\n",
    "df_orders.to_csv(file_path, index=False)\n",
    "\n",
    "print(\"File saved successfully!\")"
   ]
  },
  {
   "cell_type": "code",
   "execution_count": 19,
   "id": "8fdf077a-4784-4099-b2d2-5120614622f7",
   "metadata": {},
   "outputs": [
    {
     "name": "stdout",
     "output_type": "stream",
     "text": [
      "Index(['order_id', 'user_id', 'eval_set', 'order_number', 'orders_day_of_week',\n",
      "       'order_hour_of_day', 'days_since_prior_order'],\n",
      "      dtype='object')\n"
     ]
    }
   ],
   "source": [
    "df_orders_check = pd.read_csv(file_path)\n",
    "print(df_orders_check.columns)"
   ]
  },
  {
   "cell_type": "markdown",
   "id": "3aa78382-62a0-4b23-83ab-8da1f401ef30",
   "metadata": {},
   "source": [
    "# Rename the Column in Each Dataset"
   ]
  },
  {
   "cell_type": "code",
   "execution_count": 43,
   "id": "77e5e2a7-88fd-46c6-aec0-6e24ce9ce20a",
   "metadata": {},
   "outputs": [
    {
     "name": "stdout",
     "output_type": "stream",
     "text": [
      "Column 'order_dow' not found in orders.csv\n",
      "Column 'order_dow' not found in orders_products_combined.csv\n",
      "Updated: cleaned_orders_with_flags.csv in D:\\YVC\\Data Analytics (CF)\\Python Fundamentals for Data Analysts\\Instacart Basket Analysis\\02 Data\\Prepared Data\n",
      "Updated: orders_wrangled.csv in D:\\YVC\\Data Analytics (CF)\\Python Fundamentals for Data Analysts\\Instacart Basket Analysis\\02 Data\\Prepared Data\n"
     ]
    }
   ],
   "source": [
    "import pandas as pd\n",
    "import os\n",
    "\n",
    "# Define both file paths\n",
    "base_paths = [\n",
    "    r\"D:\\YVC\\Data Analytics (CF)\\Python Fundamentals for Data Analysts\\Instacart Basket Analysis\\02 Data\\Prepared Data\",\n",
    "    r\"D:\\YVC\\Data Analytics (CF)\\Python Fundamentals for Data Analysts\\Instacart Basket Analysis\\02 Data\\Original Data\"\n",
    "]\n",
    "\n",
    "# List of affected datasets\n",
    "datasets = [\"orders.csv\", \"orders_products_combined.csv\", \"cleaned_orders_with_flags.csv\", \"orders_wrangled.csv\"]\n",
    "\n",
    "# Iterate over both paths to check for each dataset\n",
    "for dataset in datasets:\n",
    "    file_found = False  # Track if file is found\n",
    "    for base_path in base_paths:\n",
    "        file_path = os.path.join(base_path, dataset)\n",
    "\n",
    "        if os.path.exists(file_path):  # Check if file exists in this path\n",
    "            # Load the CSV\n",
    "            df = pd.read_csv(file_path)\n",
    "\n",
    "            # Rename the column if it exists\n",
    "            if \"order_dow\" in df.columns:\n",
    "                df.rename(columns={\"order_dow\": \"order_day_of_week\"}, inplace=True)\n",
    "\n",
    "                # Save the updated dataset\n",
    "                df.to_csv(file_path, index=False)\n",
    "                print(f\"Updated: {dataset} in {base_path}\")\n",
    "            else:\n",
    "                print(f\"Column 'order_dow' not found in {dataset}\")\n",
    "\n",
    "            file_found = True  # Mark file as found\n",
    "            break  # Stop checking other paths once found\n",
    "\n",
    "    if not file_found:\n",
    "        print(f\"File not found: {dataset}\")"
   ]
  },
  {
   "cell_type": "code",
   "execution_count": null,
   "id": "df7f5ed9-8e67-4587-9874-c13f6408bbdd",
   "metadata": {},
   "outputs": [],
   "source": []
  }
 ],
 "metadata": {
  "kernelspec": {
   "display_name": "Python [conda env:base] *",
   "language": "python",
   "name": "conda-base-py"
  },
  "language_info": {
   "codemirror_mode": {
    "name": "ipython",
    "version": 3
   },
   "file_extension": ".py",
   "mimetype": "text/x-python",
   "name": "python",
   "nbconvert_exporter": "python",
   "pygments_lexer": "ipython3",
   "version": "3.12.8"
  }
 },
 "nbformat": 4,
 "nbformat_minor": 5
}
