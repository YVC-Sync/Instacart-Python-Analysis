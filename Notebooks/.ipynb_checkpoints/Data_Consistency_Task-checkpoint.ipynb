{
 "cells": [
  {
   "cell_type": "markdown",
   "id": "999852dc-ef33-4d3d-9ef8-bc4a7525573b",
   "metadata": {},
   "source": [
    "# Data Consistency Task\n",
    "This notebook focuses on performing data consistency checks on the `df_ords` dataframe. I'll analyze the data, clean it, and document the findings as part of the Instacart Basket Analysis project."
   ]
  },
  {
   "cell_type": "markdown",
   "id": "d583836d-6aa5-4056-b1ac-94c864eeee15",
   "metadata": {},
   "source": [
    "## Step 1: Import Libraries and Dataset\n",
    "First, I'll import the necessary libraries and the `df_ords` dataset to start analyzing the data."
   ]
  },
  {
   "cell_type": "code",
   "execution_count": 3,
   "id": "3988dff2-c3d0-4f81-90c8-19a5e280a9c2",
   "metadata": {},
   "outputs": [
    {
     "name": "stdout",
     "output_type": "stream",
     "text": [
      "Orders Data:\n",
      "   order_id  user_id eval_set  order_number  order_dow  order_hour_of_day  \\\n",
      "0   2539329        1    prior             1          2                  8   \n",
      "1   2398795        1    prior             2          3                  7   \n",
      "2    473747        1    prior             3          3                 12   \n",
      "3   2254736        1    prior             4          4                  7   \n",
      "4    431534        1    prior             5          4                 15   \n",
      "\n",
      "   days_since_prior_order  \n",
      "0                     NaN  \n",
      "1                    15.0  \n",
      "2                    21.0  \n",
      "3                    29.0  \n",
      "4                    28.0  \n"
     ]
    }
   ],
   "source": [
    "import pandas as pd\n",
    "import numpy as np\n",
    "\n",
    "# Load the orders dataset\n",
    "df_ords = pd.read_csv('../02 Data/Prepared Data/cleaned_orders.csv')\n",
    "\n",
    "# Preview the dataset\n",
    "print(\"Orders Data:\")\n",
    "print(df_ords.head())"
   ]
  },
  {
   "cell_type": "code",
   "execution_count": null,
   "id": "f1500406-9afc-488a-ab5d-d52cbeaa4c16",
   "metadata": {},
   "outputs": [],
   "source": []
  },
  {
   "cell_type": "markdown",
   "id": "6189fe45-2776-4629-a087-b13b11f23338",
   "metadata": {},
   "source": [
    "## Step 2: Descriptive Statistics\n",
    "I'll start by running descriptive statistics on the `df_ords` dataset. This will help identify any unusual values or patterns that need to be addressed."
   ]
  },
  {
   "cell_type": "code",
   "execution_count": 8,
   "id": "45623b79-8ef4-4f77-88f6-f4b78d05ad5d",
   "metadata": {},
   "outputs": [
    {
     "name": "stdout",
     "output_type": "stream",
     "text": [
      "Descriptive Statistics for Orders Data:\n",
      "           order_id       user_id  order_number     order_dow  \\\n",
      "count  3.421083e+06  3.421083e+06  3.421083e+06  3.421083e+06   \n",
      "mean   1.710542e+06  1.029782e+05  1.715486e+01  2.776219e+00   \n",
      "std    9.875817e+05  5.953372e+04  1.773316e+01  2.046829e+00   \n",
      "min    1.000000e+00  1.000000e+00  1.000000e+00  0.000000e+00   \n",
      "25%    8.552715e+05  5.139400e+04  5.000000e+00  1.000000e+00   \n",
      "50%    1.710542e+06  1.026890e+05  1.100000e+01  3.000000e+00   \n",
      "75%    2.565812e+06  1.543850e+05  2.300000e+01  5.000000e+00   \n",
      "max    3.421083e+06  2.062090e+05  1.000000e+02  6.000000e+00   \n",
      "\n",
      "       order_hour_of_day  days_since_prior_order  \n",
      "count       3.421083e+06            3.214874e+06  \n",
      "mean        1.345202e+01            1.111484e+01  \n",
      "std         4.226088e+00            9.206737e+00  \n",
      "min         0.000000e+00            0.000000e+00  \n",
      "25%         1.000000e+01            4.000000e+00  \n",
      "50%         1.300000e+01            7.000000e+00  \n",
      "75%         1.600000e+01            1.500000e+01  \n",
      "max         2.300000e+01            3.000000e+01  \n"
     ]
    }
   ],
   "source": [
    "# Descriptive statistics for df_ords\n",
    "print(\"Descriptive Statistics for Orders Data:\")\n",
    "print(df_ords.describe())"
   ]
  },
  {
   "cell_type": "markdown",
   "id": "03a735ca-7a13-4880-94bf-ed333d4b3ff6",
   "metadata": {},
   "source": [
    "### Answer:"
   ]
  },
  {
   "cell_type": "markdown",
   "id": "0789f576-840c-4656-b606-12d9b02cd8a3",
   "metadata": {},
   "source": [
    "- The `order_hour_of_day` column looks good—it ranges from **0 to 23,** which makes sense since those are the hours in a day.\n",
    "- For `days_since_prior_order,` the range is **0 to 30,** which seems normal. I’m guessing the 0s represent first-time orders. No weird negative values here, so this column is fine too."
   ]
  },
  {
   "cell_type": "code",
   "execution_count": null,
   "id": "739a4c8e-b16e-4d00-a7f0-4d7a461d12cb",
   "metadata": {},
   "outputs": [],
   "source": []
  },
  {
   "cell_type": "markdown",
   "id": "7a12bac3-3278-413f-89fa-3f01669e3e60",
   "metadata": {},
   "source": [
    "## Step 3: Check for Mixed-Type Columns"
   ]
  },
  {
   "cell_type": "code",
   "execution_count": 19,
   "id": "75faac9e-4c0b-48f6-8ac2-ac94e636a4e5",
   "metadata": {},
   "outputs": [],
   "source": [
    "# Check for mixed data types in the df_ords dataframe\n",
    "for col in df_ords.columns:\n",
    "    mixed_types = (df_ords[col].apply(type).nunique() > 1)\n",
    "    if mixed_types:\n",
    "        print(f\"Column {col} contains mixed data types.\")"
   ]
  },
  {
   "cell_type": "markdown",
   "id": "2aa2ee3b-dff8-4eaa-88e1-865f19bb0c03",
   "metadata": {},
   "source": [
    "### Answer:"
   ]
  },
  {
   "cell_type": "markdown",
   "id": "d68a46b5-caba-46d0-ada8-2dadb13e5efa",
   "metadata": {},
   "source": [
    "I ran a check for mixed data types, and nothing printed, which means all the columns in `df_ords` have consistent data types. No issues here everything checks out!"
   ]
  },
  {
   "cell_type": "code",
   "execution_count": null,
   "id": "9c43b57d-0bf2-4e74-8522-fb08fd3c8867",
   "metadata": {},
   "outputs": [],
   "source": []
  },
  {
   "cell_type": "markdown",
   "id": "995960ef-304a-46f6-99b8-fa9af3f4a394",
   "metadata": {},
   "source": [
    "## Step 4: Check for Missing Values"
   ]
  },
  {
   "cell_type": "code",
   "execution_count": 28,
   "id": "6438b3f4-7476-4c4b-a057-6310d32b8f81",
   "metadata": {},
   "outputs": [
    {
     "name": "stdout",
     "output_type": "stream",
     "text": [
      "Missing Values in Orders Data:\n",
      "order_id                       0\n",
      "user_id                        0\n",
      "eval_set                       0\n",
      "order_number                   0\n",
      "order_dow                      0\n",
      "order_hour_of_day              0\n",
      "days_since_prior_order    206209\n",
      "dtype: int64\n"
     ]
    }
   ],
   "source": [
    "# Check for missing values in df_ords\n",
    "print(\"Missing Values in Orders Data:\")\n",
    "print(df_ords.isnull().sum())"
   ]
  },
  {
   "cell_type": "markdown",
   "id": "fc827dca-7d87-4e06-9a92-8526590c825b",
   "metadata": {},
   "source": [
    "### Code Create First-Time Order Flag:"
   ]
  },
  {
   "cell_type": "code",
   "execution_count": 31,
   "id": "740ba3c9-85d5-436c-825c-70b00c85dea7",
   "metadata": {},
   "outputs": [
    {
     "name": "stdout",
     "output_type": "stream",
     "text": [
      "   days_since_prior_order  first_time_order\n",
      "0                     NaN              True\n",
      "1                    15.0             False\n",
      "2                    21.0             False\n",
      "3                    29.0             False\n",
      "4                    28.0             False\n",
      "5                    19.0             False\n",
      "6                    20.0             False\n",
      "7                    14.0             False\n",
      "8                     0.0             False\n",
      "9                    30.0             False\n"
     ]
    }
   ],
   "source": [
    "# Create a flag for first-time orders\n",
    "df_ords['first_time_order'] = df_ords['days_since_prior_order'].isnull()\n",
    "\n",
    "# Verify the new column\n",
    "print(df_ords[['days_since_prior_order', 'first_time_order']].head(10))"
   ]
  },
  {
   "cell_type": "markdown",
   "id": "f537ca77-7cf2-4d33-8c23-15b28a478726",
   "metadata": {},
   "source": [
    "### Answer:"
   ]
  },
  {
   "cell_type": "markdown",
   "id": "acd70e74-2963-49cd-96f9-799fca81839d",
   "metadata": {},
   "source": [
    "I found that the `days_since_prior_order` column has **206,209** missing values, which I’m assuming represent first-time orders. To keep this information, I created a new column called `first_time_order`. This column uses a `True` flag for first-time orders (where `days_since_prior_order` is missing) and `False` for repeat orders. Now, I can easily distinguish between first-time and repeat customers."
   ]
  },
  {
   "cell_type": "code",
   "execution_count": null,
   "id": "0d3109e9-32d6-438a-b966-099c1c8759bd",
   "metadata": {},
   "outputs": [],
   "source": []
  },
  {
   "cell_type": "markdown",
   "id": "3b8d11bd-864b-4538-ac13-fc889ea763bf",
   "metadata": {},
   "source": [
    "## Step 5: Check for Duplicates"
   ]
  },
  {
   "cell_type": "code",
   "execution_count": 40,
   "id": "0d0b7a6d-c6f6-4006-856c-fd65715ad089",
   "metadata": {},
   "outputs": [
    {
     "name": "stdout",
     "output_type": "stream",
     "text": [
      "Number of duplicate rows in df_ords: 0\n"
     ]
    }
   ],
   "source": [
    "# Check for duplicate rows in df_ords\n",
    "duplicates = df_ords.duplicated().sum()\n",
    "print(f\"Number of duplicate rows in df_ords: {duplicates}\")"
   ]
  },
  {
   "cell_type": "markdown",
   "id": "ca1af71d-7a66-4e1b-9001-bfb399240e0c",
   "metadata": {},
   "source": [
    "## Answer:"
   ]
  },
  {
   "cell_type": "markdown",
   "id": "31c75642-120a-4919-a457-2613630d5491",
   "metadata": {},
   "source": [
    "I checked the `df_ords` dataframe for duplicate rows, and the result came back with **0 duplicates**. This means there’s no need to remove or investigate duplicate rows. Everything looks good here!"
   ]
  },
  {
   "cell_type": "code",
   "execution_count": null,
   "id": "ad8e0ba8-65a4-46ca-8120-d45b0941e4d3",
   "metadata": {},
   "outputs": [],
   "source": []
  },
  {
   "cell_type": "markdown",
   "id": "a9479ffb-a4eb-4879-afd0-e7ad1eaca40d",
   "metadata": {},
   "source": [
    "## Step 6: Save Cleaned Data"
   ]
  },
  {
   "cell_type": "code",
   "execution_count": 46,
   "id": "556a88e8-b88b-4eab-88a0-d4d4c114622f",
   "metadata": {},
   "outputs": [
    {
     "name": "stdout",
     "output_type": "stream",
     "text": [
      "Cleaned data has been saved successfully!\n"
     ]
    }
   ],
   "source": [
    "# Save the cleaned orders dataframe\n",
    "df_ords.to_csv('../02 Data/Prepared Data/cleaned_orders_with_flags.csv', index=False)\n",
    "\n",
    "print(\"Cleaned data has been saved successfully!\")"
   ]
  },
  {
   "cell_type": "markdown",
   "id": "7e5c2f2e-2148-4f2d-8d25-b243fab26da2",
   "metadata": {},
   "source": []
  },
  {
   "cell_type": "markdown",
   "id": "6d5c3864-fdcb-4fe6-9303-bcbe81581b48",
   "metadata": {},
   "source": [
    "## Summary of Findings"
   ]
  },
  {
   "cell_type": "markdown",
   "id": "a21d1222-7743-44f8-ae4d-5e8b4372de66",
   "metadata": {},
   "source": [
    "For this task, I ran data consistency checks on the df_ords dataframe as part of the Instacart Basket Analysis project. Here’s what I found and how I handled it:\n",
    "\n",
    "1. **Descriptive Statistics:**\n",
    "I ran df.describe() to get a better understanding of the data. The order_hour_of_day column ranges from 0 to 23, which makes sense since those are the hours in a day. The days_since_prior_order column ranges from 0 to 30, which also seems normal. There were no negative or unusual values in these columns.\n",
    "\n",
    "2. **Mixed-Type Data Check:**\n",
    "I checked for mixed data types, and everything came back clean. All the columns in df_ords have consistent data types, so there were no issues here.\n",
    "\n",
    "3. **Missing Values:**\n",
    "I found 206,209 missing values in the days_since_prior_order column. I’m assuming these are first-time orders since there wouldn’t be a prior order for these customers. To keep this information, I added a new column called first_time_order, which flags these rows as True for first-time orders and False for repeat orders.\n",
    "\n",
    "4. **Duplicate Values:**\n",
    "I checked for duplicate rows, and there were none. Everything looks good here!\n",
    "\n",
    "5. **Exported Cleaned Data:**\n",
    "I saved the cleaned dataframe as cleaned_orders_with_flags.csv in the Prepared Data folder. This version of the data now includes the first_time_order flag and is ready for the next steps."
   ]
  },
  {
   "cell_type": "code",
   "execution_count": null,
   "id": "86fb2685-60c6-464e-b77a-f3383dfaaf00",
   "metadata": {},
   "outputs": [],
   "source": []
  }
 ],
 "metadata": {
  "kernelspec": {
   "display_name": "Python [conda env:base] *",
   "language": "python",
   "name": "conda-base-py"
  },
  "language_info": {
   "codemirror_mode": {
    "name": "ipython",
    "version": 3
   },
   "file_extension": ".py",
   "mimetype": "text/x-python",
   "name": "python",
   "nbconvert_exporter": "python",
   "pygments_lexer": "ipython3",
   "version": "3.12.8"
  }
 },
 "nbformat": 4,
 "nbformat_minor": 5
}
